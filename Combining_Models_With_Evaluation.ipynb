{
  "cells": [
    {
      "cell_type": "code",
      "source": [],
      "metadata": {
        "id": "4lCB9FCipOnL"
      },
      "id": "4lCB9FCipOnL",
      "execution_count": null,
      "outputs": []
    },
    {
      "cell_type": "code",
      "source": [],
      "metadata": {
        "id": "NtPOz-iBpOkK"
      },
      "id": "NtPOz-iBpOkK",
      "execution_count": null,
      "outputs": []
    },
    {
      "cell_type": "code",
      "source": [],
      "metadata": {
        "id": "6AeWZ5g1pOeD"
      },
      "id": "6AeWZ5g1pOeD",
      "execution_count": null,
      "outputs": []
    },
    {
      "cell_type": "code",
      "source": [],
      "metadata": {
        "id": "SwNFNCz1pOYI"
      },
      "id": "SwNFNCz1pOYI",
      "execution_count": null,
      "outputs": []
    },
    {
      "cell_type": "markdown",
      "id": "384ddfb7-8d2c-40ab-bbec-bf75352714a1",
      "metadata": {
        "jp-MarkdownHeadingCollapsed": true,
        "id": "384ddfb7-8d2c-40ab-bbec-bf75352714a1"
      },
      "source": [
        "# Importing Full Dataset & Labels"
      ]
    },
    {
      "cell_type": "code",
      "execution_count": null,
      "id": "3d4ccd87-7707-4887-81cc-be5779dfc5fa",
      "metadata": {
        "colab": {
          "base_uri": "https://localhost:8080/"
        },
        "id": "3d4ccd87-7707-4887-81cc-be5779dfc5fa",
        "outputId": "0767d5ed-5519-4d3d-b0d2-865546585678"
      },
      "outputs": [
        {
          "output_type": "stream",
          "name": "stdout",
          "text": [
            "Archive:  BEST.zip\n",
            "  End-of-central-directory signature not found.  Either this file is not\n",
            "  a zipfile, or it constitutes one disk of a multi-part archive.  In the\n",
            "  latter case the central directory and zipfile comment will be found on\n",
            "  the last disk(s) of this archive.\n",
            "unzip:  cannot find zipfile directory in one of BEST.zip or\n",
            "        BEST.zip.zip, and cannot find BEST.zip.ZIP, period.\n"
          ]
        }
      ],
      "source": [
        "# !ls\n",
        "# … you should see: abcd.zip  battery1.jpg  'Best ones Here.zip'\n",
        "\n",
        "!unzip BEST.zip"
      ]
    },
    {
      "cell_type": "code",
      "source": [
        "!ls\n"
      ],
      "metadata": {
        "colab": {
          "base_uri": "https://localhost:8080/"
        },
        "id": "8jkVkvyS1-4f",
        "outputId": "55108cba-8078-4e27-a704-aa02d49ba6ab"
      },
      "id": "8jkVkvyS1-4f",
      "execution_count": null,
      "outputs": [
        {
          "output_type": "stream",
          "name": "stdout",
          "text": [
            " abcd.zip   battery1.jpg   sample_data\t'Untitled Folder'\n"
          ]
        }
      ]
    },
    {
      "cell_type": "code",
      "execution_count": null,
      "id": "e79254c4-d75a-42a1-ae0b-6bbfef46558a",
      "metadata": {
        "id": "e79254c4-d75a-42a1-ae0b-6bbfef46558a"
      },
      "outputs": [],
      "source": [
        "import os\n",
        "folder = 'Archive/CM+RM(without glass sorting)/'\n",
        "data_path = os.path.join(folder, 'CM_RM_increased.npy')\n",
        "label_path = os.path.join(folder, 'CM_RM_increased_labels.npy')\n",
        "# /content/Archive/CM+RM(without glass sorting)/CM_RM_increased.npy"
      ]
    },
    {
      "cell_type": "code",
      "execution_count": null,
      "id": "29135f70-5ce4-43d9-99c7-7c521e0956fd",
      "metadata": {
        "id": "29135f70-5ce4-43d9-99c7-7c521e0956fd"
      },
      "outputs": [],
      "source": [
        "import numpy as np\n",
        "X_data = np.load(data_path)\n",
        "y_labels = np.load(label_path)"
      ]
    },
    {
      "cell_type": "code",
      "execution_count": null,
      "id": "2855575b-23ff-4224-8f44-8e3caa775d5c",
      "metadata": {
        "colab": {
          "base_uri": "https://localhost:8080/"
        },
        "id": "2855575b-23ff-4224-8f44-8e3caa775d5c",
        "outputId": "2498da01-f683-4d2a-a56f-fcccbc5f3a77"
      },
      "outputs": [
        {
          "output_type": "execute_result",
          "data": {
            "text/plain": [
              "((63900, 32), (63900,))"
            ]
          },
          "metadata": {},
          "execution_count": 18
        }
      ],
      "source": [
        "X_data.shape, y_labels.shape"
      ]
    },
    {
      "cell_type": "markdown",
      "id": "6ba4d505-9623-42dc-ac3c-5239b2675ab1",
      "metadata": {
        "id": "6ba4d505-9623-42dc-ac3c-5239b2675ab1"
      },
      "source": [
        "# Splitting into Test Train (Standard Scaler and SMOTE already applied)"
      ]
    },
    {
      "cell_type": "code",
      "execution_count": null,
      "id": "644f5d36-ac7b-4caa-9206-3c560c223044",
      "metadata": {
        "id": "644f5d36-ac7b-4caa-9206-3c560c223044"
      },
      "outputs": [],
      "source": [
        "from sklearn.model_selection import train_test_split\n",
        "X_train, X_test, y_train, y_test = train_test_split(X_data, y_labels, test_size=0.2, random_state=42)"
      ]
    },
    {
      "cell_type": "markdown",
      "source": [
        "#GLCM_RM"
      ],
      "metadata": {
        "id": "1ScFJWRBd2fU"
      },
      "id": "1ScFJWRBd2fU"
    },
    {
      "cell_type": "code",
      "source": [
        "import cv2\n",
        "import numpy as np\n",
        "import cupy as cp\n",
        "import pandas as pd\n",
        "import os\n",
        "\n",
        "# Path to the single image\n",
        "single_image_path = 'battery1.jpg'  # Update this to your image path\n",
        "label = 'plastic'  # Manually provide the label if needed\n",
        "\n",
        "def quantize_image(image, levels=8):\n",
        "    factor = 256 // levels\n",
        "    return (image // factor).astype(np.uint8)\n",
        "\n",
        "def compute_glcm_features_for_offset(gray, levels=8, offset=(0,1)):\n",
        "    gpu_img = cp.asarray(gray)\n",
        "    rows, cols = gpu_img.shape\n",
        "    dy, dx = offset\n",
        "\n",
        "    if dy >= 0:\n",
        "        row_range = slice(0, rows - dy)\n",
        "        row_range_offset = slice(dy, rows)\n",
        "    else:\n",
        "        row_range = slice(-dy, rows)\n",
        "        row_range_offset = slice(0, rows + dy)\n",
        "\n",
        "    if dx >= 0:\n",
        "        col_range = slice(0, cols - dx)\n",
        "        col_range_offset = slice(dx, cols)\n",
        "    else:\n",
        "        col_range = slice(-dx, cols)\n",
        "        col_range_offset = slice(0, cols + dx)\n",
        "\n",
        "    a = gpu_img[row_range, col_range]\n",
        "    b = gpu_img[row_range_offset, col_range_offset]\n",
        "\n",
        "    a_flat = a.ravel()\n",
        "    b_flat = b.ravel()\n",
        "    indices = a_flat * levels + b_flat\n",
        "\n",
        "    glcm_counts = cp.bincount(indices, minlength=levels*levels).reshape(levels, levels)\n",
        "\n",
        "    glcm_prob = glcm_counts.astype(cp.float32)\n",
        "    total = cp.sum(glcm_prob)\n",
        "    if total > 0:\n",
        "        glcm_prob /= total\n",
        "\n",
        "    i = cp.arange(levels).reshape(-1, 1)\n",
        "    j = cp.arange(levels).reshape(1, -1)\n",
        "\n",
        "    contrast = cp.sum((i - j)**2 * glcm_prob)\n",
        "    energy = cp.sum(glcm_prob**2)\n",
        "    homogeneity = cp.sum(glcm_prob / (1 + cp.abs(i - j)))\n",
        "\n",
        "    pi = cp.sum(glcm_prob, axis=1, keepdims=True)\n",
        "    pj = cp.sum(glcm_prob, axis=0, keepdims=True)\n",
        "    mu_i = cp.sum(i * pi)\n",
        "    mu_j = cp.sum(j * pj)\n",
        "    sigma_i = cp.sqrt(cp.sum(((i - mu_i)**2) * pi))\n",
        "    sigma_j = cp.sqrt(cp.sum(((j - mu_j)**2) * pj))\n",
        "\n",
        "    if sigma_i == 0 or sigma_j == 0:\n",
        "        correlation = cp.array(0.0)\n",
        "    else:\n",
        "        correlation = cp.sum(((i - mu_i) * (j - mu_j) * glcm_prob) / (sigma_i * sigma_j))\n",
        "\n",
        "    return {\n",
        "        'contrast': float(contrast.get()),\n",
        "        'energy': float(energy.get()),\n",
        "        'homogeneity': float(homogeneity.get()),\n",
        "        'correlation': float(correlation.get())\n",
        "    }\n",
        "\n",
        "def compute_multidirectional_glcm_features(image, levels=8, offsets=None):\n",
        "    if offsets is None:\n",
        "        offsets = {\n",
        "            '0':   (0, 1),\n",
        "            '45':  (-1, 1),\n",
        "            '90':  (-1, 0),\n",
        "            '135': (-1, -1)\n",
        "        }\n",
        "\n",
        "    features = {}\n",
        "    for direction, off in offsets.items():\n",
        "        feat = compute_glcm_features_for_offset(image, levels=levels, offset=off)\n",
        "        for key, value in feat.items():\n",
        "            features[f\"{key}_{direction}\"] = value\n",
        "    return features\n",
        "\n",
        "# ---------- SINGLE IMAGE PROCESSING ----------\n",
        "img = cv2.imread(single_image_path, cv2.IMREAD_GRAYSCALE)\n",
        "if img is not None:\n",
        "    img_q = quantize_image(img, levels=8)\n",
        "    feats = compute_multidirectional_glcm_features(img_q, levels=8)\n",
        "    feats['filename'] = single_image_path\n",
        "    feats['label'] = label  # You can manually assign or set as 'unknown'\n",
        "    df_features = pd.DataFrame([feats])  # Wrap in list for DataFrame\n",
        "    print(df_features.head())\n",
        "else:\n",
        "    print(\"Failed to load image.\")\n"
      ],
      "metadata": {
        "colab": {
          "base_uri": "https://localhost:8080/"
        },
        "collapsed": true,
        "id": "mHC8oSS7eM4j",
        "outputId": "52ec266a-880e-487b-8dc0-d0d583eea4cc"
      },
      "id": "mHC8oSS7eM4j",
      "execution_count": null,
      "outputs": [
        {
          "output_type": "stream",
          "name": "stdout",
          "text": [
            "   contrast_0  energy_0  homogeneity_0  correlation_0  contrast_45  energy_45  \\\n",
            "0    0.296675  0.131675       0.912676       0.946557     0.976172   0.102638   \n",
            "\n",
            "   homogeneity_45  correlation_45  contrast_90  energy_90  homogeneity_90  \\\n",
            "0        0.830353        0.824012     0.854928   0.108887        0.848886   \n",
            "\n",
            "   correlation_90  contrast_135  energy_135  homogeneity_135  correlation_135  \\\n",
            "0        0.845873      1.010532    0.102897         0.830097         0.817824   \n",
            "\n",
            "       filename    label  \n",
            "0  battery1.jpg  plastic  \n"
          ]
        }
      ]
    },
    {
      "cell_type": "code",
      "source": [
        "feats_list = [i for i in feats.values()]\n",
        "feats_list"
      ],
      "metadata": {
        "colab": {
          "base_uri": "https://localhost:8080/"
        },
        "id": "I0hM-Wiyjgtd",
        "outputId": "a8b4a1f8-28c4-4e6f-d08c-17c099283e24"
      },
      "id": "I0hM-Wiyjgtd",
      "execution_count": null,
      "outputs": [
        {
          "output_type": "execute_result",
          "data": {
            "text/plain": [
              "[0.2966746333440824,\n",
              " 0.13167545199394226,\n",
              " 0.9126764333603204,\n",
              " 0.9465571725092083,\n",
              " 0.976171886704833,\n",
              " 0.10263821482658386,\n",
              " 0.8303534002562628,\n",
              " 0.8240118623220063,\n",
              " 0.8549281712257653,\n",
              " 0.1088869571685791,\n",
              " 0.8488861102247894,\n",
              " 0.8458726898713468,\n",
              " 1.0105324271135032,\n",
              " 0.10289705544710159,\n",
              " 0.8300967068809683,\n",
              " 0.8178240960081529,\n",
              " 'battery1.jpg',\n",
              " 'plastic']"
            ]
          },
          "metadata": {},
          "execution_count": 4
        }
      ]
    },
    {
      "cell_type": "code",
      "source": [
        "feats_list.pop()\n",
        "feats_list.pop()"
      ],
      "metadata": {
        "colab": {
          "base_uri": "https://localhost:8080/",
          "height": 35
        },
        "id": "ENRvPPhmk7mH",
        "outputId": "bf4ae1b3-0330-4b81-b4ce-94ffe7ae681e"
      },
      "id": "ENRvPPhmk7mH",
      "execution_count": null,
      "outputs": [
        {
          "output_type": "execute_result",
          "data": {
            "text/plain": [
              "'battery1.jpg'"
            ],
            "application/vnd.google.colaboratory.intrinsic+json": {
              "type": "string"
            }
          },
          "metadata": {},
          "execution_count": 5
        }
      ]
    },
    {
      "cell_type": "code",
      "source": [
        "feats_list"
      ],
      "metadata": {
        "colab": {
          "base_uri": "https://localhost:8080/"
        },
        "id": "V4QdI0rclk5X",
        "outputId": "3085b324-fde2-4267-90cb-c3ff2022c182"
      },
      "id": "V4QdI0rclk5X",
      "execution_count": null,
      "outputs": [
        {
          "output_type": "execute_result",
          "data": {
            "text/plain": [
              "[0.2966746333440824,\n",
              " 0.13167545199394226,\n",
              " 0.9126764333603204,\n",
              " 0.9465571725092083,\n",
              " 0.976171886704833,\n",
              " 0.10263821482658386,\n",
              " 0.8303534002562628,\n",
              " 0.8240118623220063,\n",
              " 0.8549281712257653,\n",
              " 0.1088869571685791,\n",
              " 0.8488861102247894,\n",
              " 0.8458726898713468,\n",
              " 1.0105324271135032,\n",
              " 0.10289705544710159,\n",
              " 0.8300967068809683,\n",
              " 0.8178240960081529]"
            ]
          },
          "metadata": {},
          "execution_count": 6
        }
      ]
    },
    {
      "cell_type": "code",
      "source": [
        "\n",
        "# feats_cm = np.array([float(i) for i in feats_list])\n",
        "# feats_cm"
      ],
      "metadata": {
        "id": "Rd0CS_uAiQam"
      },
      "id": "Rd0CS_uAiQam",
      "execution_count": null,
      "outputs": []
    },
    {
      "cell_type": "code",
      "source": [
        "# def process_image(image_path, label=None, levels=8):\n",
        "#     # 1) Load the image in grayscale\n",
        "#     img = cv2.imread(image_path, cv2.IMREAD_GRAYSCALE)\n",
        "#     if img is None:\n",
        "#         raise FileNotFoundError(f\"Could not read image at {image_path}\")\n",
        "\n",
        "#     # 2) Quantize\n",
        "#     img_q = quantize_image(img, levels=levels)\n",
        "\n",
        "#     # 3) Compute features\n",
        "#     feats = compute_multidirectional_glcm_features(img_q, levels=levels)\n",
        "\n",
        "#     # 4) Add metadata\n",
        "#     feats['filename'] = image_path\n",
        "#     feats['label'] = label or 'unknown'\n",
        "\n",
        "#     return feats\n",
        "\n",
        "# # -------------------------\n",
        "# # Then just call it:\n",
        "# single_path = '/path/to/your/image.jpg'\n",
        "# features_dict = process_image(single_path, label='plastic')\n",
        "\n",
        "# # If you want a DataFrame:\n",
        "# import pandas as pd\n",
        "# df = pd.DataFrame([features_dict])\n",
        "# print(df)\n"
      ],
      "metadata": {
        "id": "rNuEx_Y6huXh"
      },
      "id": "rNuEx_Y6huXh",
      "execution_count": null,
      "outputs": []
    },
    {
      "cell_type": "code",
      "source": [],
      "metadata": {
        "id": "lP9JZYAjht7E"
      },
      "id": "lP9JZYAjht7E",
      "execution_count": null,
      "outputs": []
    },
    {
      "cell_type": "code",
      "source": [],
      "metadata": {
        "id": "VpHdZGThht4Q"
      },
      "id": "VpHdZGThht4Q",
      "execution_count": null,
      "outputs": []
    },
    {
      "cell_type": "code",
      "source": [],
      "metadata": {
        "id": "ZYmrRdHfht01"
      },
      "id": "ZYmrRdHfht01",
      "execution_count": null,
      "outputs": []
    },
    {
      "cell_type": "code",
      "source": [
        "import numpy as np\n",
        "import cv2\n",
        "import os\n",
        "import cupy as cp\n",
        "from sklearn.model_selection import train_test_split\n",
        "from sklearn.ensemble import RandomForestClassifier\n",
        "from sklearn.metrics import accuracy_score\n",
        "\n",
        "# ---------------------------\n",
        "# GPU-accelerated helper functions\n",
        "# ---------------------------\n",
        "\n",
        "def quantize_image_gpu(d_img, levels=64):\n",
        "    \"\"\"Quantize image (a CuPy array) to specified gray levels on the GPU.\"\"\"\n",
        "    max_val = cp.max(d_img)\n",
        "    quantized = cp.floor_divide(d_img, (max_val + 1) // levels)\n",
        "    return quantized.astype(cp.uint8)\n",
        "\n",
        "# CUDA kernel for horizontal (0°) run-length computation\n",
        "horizontal_kernel_code = r'''\n",
        "extern \"C\" __global__\n",
        "void compute_glrlm_horizontal(const unsigned char* img, int height, int width, int glrlm_width, unsigned int* glrlm) {\n",
        "    int row = blockIdx.x * blockDim.x + threadIdx.x;\n",
        "    if (row < height) {\n",
        "        int offset = row * width;\n",
        "        unsigned char current = img[offset];\n",
        "        int run_length = 1;\n",
        "        for (int j = 1; j < width; j++) {\n",
        "            unsigned char pixel = img[offset + j];\n",
        "            if (pixel == current) {\n",
        "                run_length++;\n",
        "            } else {\n",
        "                int capped_run = run_length < glrlm_width ? run_length : glrlm_width - 1;\n",
        "                atomicAdd(&glrlm[current * glrlm_width + capped_run], 1);\n",
        "                current = pixel;\n",
        "                run_length = 1;\n",
        "            }\n",
        "        }\n",
        "        int capped_run = run_length < glrlm_width ? run_length : glrlm_width - 1;\n",
        "        atomicAdd(&glrlm[current * glrlm_width + capped_run], 1);\n",
        "    }\n",
        "}\n",
        "'''\n",
        "\n",
        "# CUDA kernel for vertical (90°) run-length computation\n",
        "vertical_kernel_code = r'''\n",
        "extern \"C\" __global__\n",
        "void compute_glrlm_vertical(const unsigned char* img, int height, int width, int glrlm_width, unsigned int* glrlm) {\n",
        "    int col = blockIdx.x * blockDim.x + threadIdx.x;\n",
        "    if (col < width) {\n",
        "        unsigned char current = img[col]; // first row at this column\n",
        "        int run_length = 1;\n",
        "        for (int i = 1; i < height; i++) {\n",
        "            unsigned char pixel = img[i * width + col];\n",
        "            if (pixel == current) {\n",
        "                run_length++;\n",
        "            } else {\n",
        "                int capped_run = run_length < glrlm_width ? run_length : glrlm_width - 1;\n",
        "                atomicAdd(&glrlm[current * glrlm_width + capped_run], 1);\n",
        "                current = pixel;\n",
        "                run_length = 1;\n",
        "            }\n",
        "        }\n",
        "        int capped_run = run_length < glrlm_width ? run_length : glrlm_width - 1;\n",
        "        atomicAdd(&glrlm[current * glrlm_width + capped_run], 1);\n",
        "    }\n",
        "}\n",
        "'''\n",
        "\n",
        "# CUDA kernel for 45° (diagonal upward-right) computation\n",
        "diagonal45_kernel_code = r'''\n",
        "extern \"C\" __global__\n",
        "void compute_glrlm_45(const unsigned char* img, int height, int width, int glrlm_width, unsigned int* glrlm) {\n",
        "    int idx = blockIdx.x * blockDim.x + threadIdx.x;\n",
        "    int total = height * width;\n",
        "    if (idx < total) {\n",
        "        int i = idx / width;\n",
        "        int j = idx % width;\n",
        "        unsigned char current = img[i * width + j];\n",
        "        int run_length = 1;\n",
        "        int x = i - 1;\n",
        "        int y = j + 1;\n",
        "        while (x >= 0 && y < width) {\n",
        "            if (img[x * width + y] == current) {\n",
        "                run_length++;\n",
        "                x--;\n",
        "                y++;\n",
        "            } else {\n",
        "                break;\n",
        "            }\n",
        "        }\n",
        "        int capped_run = run_length < glrlm_width ? run_length : glrlm_width - 1;\n",
        "        atomicAdd(&glrlm[current * glrlm_width + capped_run], 1);\n",
        "    }\n",
        "}\n",
        "'''\n",
        "\n",
        "# CUDA kernel for 135° (diagonal downward-right) computation\n",
        "diagonal135_kernel_code = r'''\n",
        "extern \"C\" __global__\n",
        "void compute_glrlm_135(const unsigned char* img, int height, int width, int glrlm_width, unsigned int* glrlm) {\n",
        "    int idx = blockIdx.x * blockDim.x + threadIdx.x;\n",
        "    int total = height * width;\n",
        "    if (idx < total) {\n",
        "        int i = idx / width;\n",
        "        int j = idx % width;\n",
        "        unsigned char current = img[i * width + j];\n",
        "        int run_length = 1;\n",
        "        int x = i + 1;\n",
        "        int y = j + 1;\n",
        "        while (x < height && y < width) {\n",
        "            if (img[x * width + y] == current) {\n",
        "                run_length++;\n",
        "                x++;\n",
        "                y++;\n",
        "            } else {\n",
        "                break;\n",
        "            }\n",
        "        }\n",
        "        int capped_run = run_length < glrlm_width ? run_length : glrlm_width - 1;\n",
        "        atomicAdd(&glrlm[current * glrlm_width + capped_run], 1);\n",
        "    }\n",
        "}\n",
        "'''\n",
        "\n",
        "# Compile the kernels\n",
        "horizontal_kernel = cp.RawKernel(horizontal_kernel_code, 'compute_glrlm_horizontal')\n",
        "vertical_kernel = cp.RawKernel(vertical_kernel_code, 'compute_glrlm_vertical')\n",
        "diagonal45_kernel = cp.RawKernel(diagonal45_kernel_code, 'compute_glrlm_45')\n",
        "diagonal135_kernel = cp.RawKernel(diagonal135_kernel_code, 'compute_glrlm_135')\n",
        "\n",
        "def compute_glrlm_gpu(d_img, direction):\n",
        "    \"\"\"\n",
        "    Compute the GLRLM on the GPU for the given direction.\n",
        "    d_img: quantized image (CuPy array, uint8) with shape (height, width)\n",
        "    direction: one of {0, 45, 90, 135}\n",
        "    Returns a CuPy array representing the GLRLM.\n",
        "    \"\"\"\n",
        "    height, width = d_img.shape\n",
        "    levels = int(cp.max(d_img).get()) + 1\n",
        "    max_run_length = max(height, width)\n",
        "    d_glrlm = cp.zeros((levels, max_run_length), dtype=cp.uint32)\n",
        "\n",
        "    if direction == 0:\n",
        "        threads = 32\n",
        "        blocks = (height + threads - 1) // threads\n",
        "        horizontal_kernel((blocks,), (threads,), (d_img, height, width, max_run_length, d_glrlm))\n",
        "    elif direction == 90:\n",
        "        threads = 32\n",
        "        blocks = (width + threads - 1) // threads\n",
        "        vertical_kernel((blocks,), (threads,), (d_img, height, width, max_run_length, d_glrlm))\n",
        "    elif direction == 45:\n",
        "        total = height * width\n",
        "        threads = 256\n",
        "        blocks = (total + threads - 1) // threads\n",
        "        diagonal45_kernel((blocks,), (threads,), (d_img, height, width, max_run_length, d_glrlm))\n",
        "    elif direction == 135:\n",
        "        total = height * width\n",
        "        threads = 256\n",
        "        blocks = (total + threads - 1) // threads\n",
        "        diagonal135_kernel((blocks,), (threads,), (d_img, height, width, max_run_length, d_glrlm))\n",
        "    else:\n",
        "        raise ValueError(\"Direction must be one of {0, 45, 90, 135}\")\n",
        "\n",
        "    cp.cuda.Stream.null.synchronize()\n",
        "    return d_glrlm\n",
        "\n",
        "def extract_glrlm_features_gpu(d_glrlm):\n",
        "    \"\"\"Extract GLRLM features on the GPU and return them as a list of floats.\"\"\"\n",
        "    total_runs = cp.sum(d_glrlm)\n",
        "    run_indices = cp.arange(1, d_glrlm.shape[1] + 1, dtype=cp.float32)\n",
        "    sre = cp.sum(d_glrlm / (run_indices**2)[None, :]) / total_runs\n",
        "    lre = cp.sum(d_glrlm * (run_indices**2)[None, :]) / total_runs\n",
        "    gln = cp.sum(cp.sum(d_glrlm, axis=1)**2) / (total_runs**2)\n",
        "    rln = cp.sum(cp.sum(d_glrlm, axis=0)**2) / (total_runs**2)\n",
        "    return [float(sre.get()), float(lre.get()), float(gln.get()), float(rln.get())]\n",
        "\n",
        "def extract_features_from_image_gpu(img_path):\n",
        "    \"\"\"\n",
        "    Read a single image from disk, transfer it to the GPU, quantize it, compute the GLRLM\n",
        "    for each direction, extract features from each, and concatenate all features.\n",
        "    \"\"\"\n",
        "    img = cv2.imread(img_path, cv2.IMREAD_GRAYSCALE)\n",
        "    img = cv2.resize(img, (256, 256))\n",
        "    d_img = cp.asarray(img)\n",
        "    d_img = quantize_image_gpu(d_img, levels=16)\n",
        "\n",
        "    all_features = []\n",
        "    for direction in [0, 45, 90, 135]:\n",
        "        d_glrlm = compute_glrlm_gpu(d_img, direction)\n",
        "        features = extract_glrlm_features_gpu(d_glrlm)\n",
        "        all_features += features\n",
        "    return all_features\n"
      ],
      "metadata": {
        "id": "2Wq3CwFTd64-"
      },
      "id": "2Wq3CwFTd64-",
      "execution_count": null,
      "outputs": []
    },
    {
      "cell_type": "code",
      "source": [
        "feats_rm = extract_features_from_image_gpu('battery1.jpg')"
      ],
      "metadata": {
        "id": "qqvqwVjxd61v"
      },
      "id": "qqvqwVjxd61v",
      "execution_count": null,
      "outputs": []
    },
    {
      "cell_type": "code",
      "source": [
        "final = np.array(feats_list+feats_rm)"
      ],
      "metadata": {
        "id": "dTWWBbbOd6zJ"
      },
      "id": "dTWWBbbOd6zJ",
      "execution_count": null,
      "outputs": []
    },
    {
      "cell_type": "code",
      "source": [
        "final.shape"
      ],
      "metadata": {
        "colab": {
          "base_uri": "https://localhost:8080/"
        },
        "id": "C5RRyDzid1hw",
        "outputId": "cd4fe281-e064-46c9-d8a3-f41a178eefbc"
      },
      "id": "C5RRyDzid1hw",
      "execution_count": null,
      "outputs": [
        {
          "output_type": "execute_result",
          "data": {
            "text/plain": [
              "(32,)"
            ]
          },
          "metadata": {},
          "execution_count": 12
        }
      ]
    },
    {
      "cell_type": "code",
      "source": [],
      "metadata": {
        "id": "aHmCSP_MiqWY"
      },
      "id": "aHmCSP_MiqWY",
      "execution_count": null,
      "outputs": []
    },
    {
      "cell_type": "code",
      "source": [],
      "metadata": {
        "id": "lL_2Z12ciqTd"
      },
      "id": "lL_2Z12ciqTd",
      "execution_count": null,
      "outputs": []
    },
    {
      "cell_type": "code",
      "source": [],
      "metadata": {
        "id": "Sn8dB8UYiqQ-"
      },
      "id": "Sn8dB8UYiqQ-",
      "execution_count": null,
      "outputs": []
    },
    {
      "cell_type": "code",
      "source": [],
      "metadata": {
        "id": "2SNMqYaNiqOK"
      },
      "id": "2SNMqYaNiqOK",
      "execution_count": null,
      "outputs": []
    },
    {
      "cell_type": "code",
      "source": [],
      "metadata": {
        "id": "6olHesu7iqLD"
      },
      "id": "6olHesu7iqLD",
      "execution_count": null,
      "outputs": []
    },
    {
      "cell_type": "code",
      "source": [],
      "metadata": {
        "id": "GNgzAQMniqIa"
      },
      "id": "GNgzAQMniqIa",
      "execution_count": null,
      "outputs": []
    },
    {
      "cell_type": "code",
      "source": [],
      "metadata": {
        "id": "QOMntwKliqFr"
      },
      "id": "QOMntwKliqFr",
      "execution_count": null,
      "outputs": []
    },
    {
      "cell_type": "markdown",
      "id": "e2eaedb3-66a4-4bf7-a015-cdaf41099d16",
      "metadata": {
        "id": "e2eaedb3-66a4-4bf7-a015-cdaf41099d16"
      },
      "source": [
        "# Creating Ranges for Each Classification"
      ]
    },
    {
      "cell_type": "code",
      "execution_count": null,
      "id": "2e0da47c-b946-48b8-a47a-7ffbacc598f0",
      "metadata": {
        "id": "2e0da47c-b946-48b8-a47a-7ffbacc598f0"
      },
      "outputs": [],
      "source": [
        "I_full=[i for i in range(32) ]"
      ]
    },
    {
      "cell_type": "code",
      "execution_count": null,
      "id": "686875dc-5cac-4197-98ff-711b8079b6bb",
      "metadata": {
        "id": "686875dc-5cac-4197-98ff-711b8079b6bb"
      },
      "outputs": [],
      "source": [
        "I_10_F_not=[3,7,11,15,18,19,27]\n",
        "I_10_Ran_For=[8,12,4,10,11,0,7,13,1,3,9,5,15,2,6,14]\n",
        "I_12_F_not=[16,17,18,19,25,26,27]\n",
        "I_12_Ran_For=[8,12,4,11,10,3,15,7,0,1,9,5,13,2,6,14]"
      ]
    },
    {
      "cell_type": "code",
      "execution_count": null,
      "id": "aa65f33c-cbbc-4abe-9c87-3fc5b4c9af85",
      "metadata": {
        "id": "aa65f33c-cbbc-4abe-9c87-3fc5b4c9af85"
      },
      "outputs": [],
      "source": [
        "I_10_F=I_full[:]\n",
        "I_12_F=I_full[:]\n",
        "for i in I_10_F_not:\n",
        "    I_10_F.remove(i)\n",
        "\n",
        "for i in I_12_F_not:\n",
        "    I_12_F.remove(i)\n"
      ]
    },
    {
      "cell_type": "code",
      "execution_count": null,
      "id": "1e86a36e-e714-4b85-89bc-9245e1bd7793",
      "metadata": {
        "id": "1e86a36e-e714-4b85-89bc-9245e1bd7793"
      },
      "outputs": [],
      "source": [
        "I_groups = [I_full[:] , I_10_F[:] , I_10_Ran_For[:] , I_full[:] , I_12_F[:] , I_12_Ran_For[:]]"
      ]
    },
    {
      "cell_type": "markdown",
      "id": "3541c786-11a6-406c-af92-9fa53984fc72",
      "metadata": {
        "id": "3541c786-11a6-406c-af92-9fa53984fc72"
      },
      "source": [
        "# Ranges Created by above, Now Applying them to the file to be tested"
      ]
    },
    {
      "cell_type": "code",
      "source": [],
      "metadata": {
        "id": "vyoNnsZAdwKo"
      },
      "id": "vyoNnsZAdwKo",
      "execution_count": null,
      "outputs": []
    },
    {
      "cell_type": "code",
      "execution_count": null,
      "id": "3f724c2d-8e24-4e28-b88e-4c49df99d001",
      "metadata": {
        "id": "3f724c2d-8e24-4e28-b88e-4c49df99d001"
      },
      "outputs": [],
      "source": [
        "X_test_cpy=final[:]"
      ]
    },
    {
      "cell_type": "code",
      "source": [
        "final"
      ],
      "metadata": {
        "colab": {
          "base_uri": "https://localhost:8080/"
        },
        "id": "dXK3dD88mlTO",
        "outputId": "362d3a05-3c15-435e-95d4-c41cde7c947c"
      },
      "id": "dXK3dD88mlTO",
      "execution_count": null,
      "outputs": [
        {
          "output_type": "execute_result",
          "data": {
            "text/plain": [
              "array([2.96674633e-01, 1.31675452e-01, 9.12676433e-01, 9.46557173e-01,\n",
              "       9.76171887e-01, 1.02638215e-01, 8.30353400e-01, 8.24011862e-01,\n",
              "       8.54928171e-01, 1.08886957e-01, 8.48886110e-01, 8.45872690e-01,\n",
              "       1.01053243e+00, 1.02897055e-01, 8.30096707e-01, 8.17824096e-01,\n",
              "       1.52587891e-05, 6.55360000e+04, 1.00000000e+00, 1.00000000e+00,\n",
              "       4.88105125e-03, 1.11809941e+04, 1.00000000e+00, 5.20831486e-03,\n",
              "       1.52587891e-05, 6.55360000e+04, 1.00000000e+00, 1.00000000e+00,\n",
              "       4.88105125e-03, 1.11809941e+04, 1.00000000e+00, 5.20831486e-03])"
            ]
          },
          "metadata": {},
          "execution_count": 18
        }
      ]
    },
    {
      "cell_type": "code",
      "execution_count": null,
      "id": "7ec70d7a-14cd-493e-97e7-d284152d02d0",
      "metadata": {
        "colab": {
          "base_uri": "https://localhost:8080/"
        },
        "id": "7ec70d7a-14cd-493e-97e7-d284152d02d0",
        "outputId": "cffb4b3d-65ca-4637-fe43-ef72ecdd1715"
      },
      "outputs": [
        {
          "output_type": "execute_result",
          "data": {
            "text/plain": [
              "(32,)"
            ]
          },
          "metadata": {},
          "execution_count": 19
        }
      ],
      "source": [
        "X_test_cpy.shape"
      ]
    },
    {
      "cell_type": "code",
      "execution_count": null,
      "id": "07eedac3-4e28-4c27-9686-1693ce513ed0",
      "metadata": {
        "colab": {
          "base_uri": "https://localhost:8080/"
        },
        "id": "07eedac3-4e28-4c27-9686-1693ce513ed0",
        "outputId": "078d433c-e467-4969-c2b7-58af5c5c1d2f"
      },
      "outputs": [
        {
          "output_type": "stream",
          "name": "stdout",
          "text": [
            "(32,)\n",
            "(25,)\n",
            "(16,)\n",
            "(32,)\n",
            "(25,)\n",
            "(16,)\n"
          ]
        }
      ],
      "source": [
        "X_test_parts=[]\n",
        "for i in I_groups:\n",
        "    X_test_parts.append(X_test_cpy[i])\n",
        "for i in X_test_parts:\n",
        "    print(i.shape)"
      ]
    },
    {
      "cell_type": "code",
      "source": [
        "import pickle\n",
        "\n",
        "with open('X_test_parts.pkl', 'wb') as f:\n",
        "    pickle.dump(X_test_parts, f)\n"
      ],
      "metadata": {
        "id": "Q62EAgQys-cA"
      },
      "id": "Q62EAgQys-cA",
      "execution_count": null,
      "outputs": []
    },
    {
      "cell_type": "markdown",
      "id": "7288888c-05a6-40eb-8473-475227151ede",
      "metadata": {
        "id": "7288888c-05a6-40eb-8473-475227151ede"
      },
      "source": [
        "# X_test_parts created now each model to be applied"
      ]
    },
    {
      "cell_type": "code",
      "execution_count": null,
      "id": "ae67dff0-9062-4c65-840f-233782adc153",
      "metadata": {
        "id": "ae67dff0-9062-4c65-840f-233782adc153"
      },
      "outputs": [],
      "source": [
        "full_10=[]\n",
        "F_10=[]\n",
        "Ran_10=[]\n",
        "full_12=[]\n",
        "F_12=[]\n",
        "Ran_12=[]"
      ]
    },
    {
      "cell_type": "code",
      "execution_count": null,
      "id": "2040076a-5a0f-4def-b6e3-8a5f5d290a48",
      "metadata": {
        "id": "2040076a-5a0f-4def-b6e3-8a5f5d290a48"
      },
      "outputs": [],
      "source": []
    },
    {
      "cell_type": "code",
      "execution_count": null,
      "id": "4c5d92ac-61e4-487a-9750-10dc11a4e91f",
      "metadata": {
        "scrolled": true,
        "colab": {
          "base_uri": "https://localhost:8080/"
        },
        "id": "4c5d92ac-61e4-487a-9750-10dc11a4e91f",
        "outputId": "01f3941c-3737-4628-8312-1d607920c661"
      },
      "outputs": [
        {
          "output_type": "stream",
          "name": "stderr",
          "text": [
            "/usr/local/lib/python3.11/dist-packages/sklearn/base.py:380: InconsistentVersionWarning: Trying to unpickle estimator DecisionTreeClassifier from version 1.4.2 when using version 1.6.1. This might lead to breaking code or invalid results. Use at your own risk. For more info please refer to:\n",
            "https://scikit-learn.org/stable/model_persistence.html#security-maintainability-limitations\n",
            "  warnings.warn(\n",
            "/usr/local/lib/python3.11/dist-packages/sklearn/base.py:380: InconsistentVersionWarning: Trying to unpickle estimator RandomForestClassifier from version 1.4.2 when using version 1.6.1. This might lead to breaking code or invalid results. Use at your own risk. For more info please refer to:\n",
            "https://scikit-learn.org/stable/model_persistence.html#security-maintainability-limitations\n",
            "  warnings.warn(\n",
            "/usr/local/lib/python3.11/dist-packages/sklearn/base.py:380: InconsistentVersionWarning: Trying to unpickle estimator StandardScaler from version 1.4.2 when using version 1.6.1. This might lead to breaking code or invalid results. Use at your own risk. For more info please refer to:\n",
            "https://scikit-learn.org/stable/model_persistence.html#security-maintainability-limitations\n",
            "  warnings.warn(\n",
            "/usr/local/lib/python3.11/dist-packages/sklearn/base.py:380: InconsistentVersionWarning: Trying to unpickle estimator KNeighborsClassifier from version 1.4.2 when using version 1.6.1. This might lead to breaking code or invalid results. Use at your own risk. For more info please refer to:\n",
            "https://scikit-learn.org/stable/model_persistence.html#security-maintainability-limitations\n",
            "  warnings.warn(\n",
            "/usr/local/lib/python3.11/dist-packages/sklearn/base.py:380: InconsistentVersionWarning: Trying to unpickle estimator Pipeline from version 1.4.2 when using version 1.6.1. This might lead to breaking code or invalid results. Use at your own risk. For more info please refer to:\n",
            "https://scikit-learn.org/stable/model_persistence.html#security-maintainability-limitations\n",
            "  warnings.warn(\n"
          ]
        }
      ],
      "source": [
        "import joblib\n",
        "model_10 = \"Archive/Best ones Here/10_classes/\"\n",
        "model_12 = \"Archive/Best ones Here/12_classes/\"\n",
        "\n",
        "\n",
        "full_10.append(joblib.load(model_10 + 'rf_total_dataset_86.joblib'))\n",
        "full_10.append(joblib.load(model_10 + 'knn_total_dataset_84.joblib'))\n",
        "\n",
        "F_10.append(joblib.load(model_10 + 'rf_f_score_84.joblib'))\n",
        "F_10.append(joblib.load(model_10 + 'knn_f_score_80.joblib'))\n",
        "\n",
        "Ran_10.append(joblib.load(model_10 + 'rf_rand_fores_class_77.joblib'))\n",
        "Ran_10.append(joblib.load(model_10 + 'knn_rand_fores_class_76.joblib'))\n",
        "\n",
        "\n",
        "full_12.append(joblib.load(model_12 + 'rf_total_dataset_87.joblib'))\n",
        "full_12.append(joblib.load(model_12 + 'knn_total_dataset_86.joblib'))\n",
        "\n",
        "F_12.append(joblib.load(model_12 + 'rf_f_score_85.joblib'))\n",
        "F_12.append(joblib.load(model_12 + 'knn_f_score_84.joblib'))\n",
        "\n",
        "Ran_12.append(joblib.load(model_12 + 'rf_rand_fores_class_78.joblib'))\n",
        "Ran_12.append(joblib.load(model_12 + 'knn_rand_fores_class_77.joblib'))\n"
      ]
    },
    {
      "cell_type": "code",
      "source": [],
      "metadata": {
        "id": "1s9T8mU6pLvj"
      },
      "id": "1s9T8mU6pLvj",
      "execution_count": null,
      "outputs": []
    },
    {
      "cell_type": "code",
      "execution_count": null,
      "id": "55c69b06-2962-4a95-864b-b69e6278521e",
      "metadata": {
        "colab": {
          "base_uri": "https://localhost:8080/"
        },
        "id": "55c69b06-2962-4a95-864b-b69e6278521e",
        "outputId": "ccb93c33-7059-40da-9566-d9c560f7bf9e"
      },
      "outputs": [
        {
          "output_type": "execute_result",
          "data": {
            "text/plain": [
              "[RandomForestClassifier(max_depth=30, n_estimators=200, random_state=42),\n",
              " Pipeline(steps=[('scaler', StandardScaler()),\n",
              "                 ('knn',\n",
              "                  KNeighborsClassifier(metric='manhattan', n_neighbors=3,\n",
              "                                       weights='distance'))])]"
            ]
          },
          "metadata": {},
          "execution_count": 31
        }
      ],
      "source": [
        "full_10"
      ]
    },
    {
      "cell_type": "code",
      "execution_count": null,
      "id": "ffc81ad6-3e74-4e73-9ed9-c37f9c7f4cd6",
      "metadata": {
        "id": "ffc81ad6-3e74-4e73-9ed9-c37f9c7f4cd6"
      },
      "outputs": [],
      "source": [
        "models_arr = [full_10,F_10,Ran_10,full_12,F_12,Ran_12]"
      ]
    },
    {
      "cell_type": "code",
      "execution_count": null,
      "id": "5ba385cb-bdd8-442a-b122-b1db101e45c6",
      "metadata": {
        "colab": {
          "base_uri": "https://localhost:8080/"
        },
        "id": "5ba385cb-bdd8-442a-b122-b1db101e45c6",
        "outputId": "9bac0df8-de54-4c5f-bada-5efc97f2f0c5"
      },
      "outputs": [
        {
          "output_type": "execute_result",
          "data": {
            "text/plain": [
              "[RandomForestClassifier(max_depth=30, n_estimators=200, random_state=42),\n",
              " Pipeline(steps=[('scaler', StandardScaler()),\n",
              "                 ('knn',\n",
              "                  KNeighborsClassifier(metric='manhattan', n_neighbors=3,\n",
              "                                       weights='distance'))])]"
            ]
          },
          "metadata": {},
          "execution_count": 33
        }
      ],
      "source": [
        "full_10"
      ]
    },
    {
      "cell_type": "code",
      "execution_count": null,
      "id": "0e855e7c-8134-48f3-afb2-0efe6e9e7085",
      "metadata": {
        "colab": {
          "base_uri": "https://localhost:8080/"
        },
        "id": "0e855e7c-8134-48f3-afb2-0efe6e9e7085",
        "outputId": "4a58b6c5-173d-4514-91be-e509307052be"
      },
      "outputs": [
        {
          "output_type": "execute_result",
          "data": {
            "text/plain": [
              "6"
            ]
          },
          "metadata": {},
          "execution_count": 34
        }
      ],
      "source": [
        "predictions=[]\n",
        "for i in range(len(X_test_parts)):\n",
        "    rf_pred = models_arr[i][0].predict_proba(X_test_parts[i])\n",
        "    knn_pred = models_arr[i][1].predict_proba(X_test_parts[i])\n",
        "    predictions.append([rf_pred,knn_pred])\n",
        "len(predictions)"
      ]
    },
    {
      "cell_type": "code",
      "execution_count": null,
      "id": "be03c734-43f7-4a94-a6d2-2734057ad2c8",
      "metadata": {
        "colab": {
          "base_uri": "https://localhost:8080/"
        },
        "id": "be03c734-43f7-4a94-a6d2-2734057ad2c8",
        "outputId": "42846abf-7fa5-45cc-a3ff-bf1a09016b53"
      },
      "outputs": [
        {
          "output_type": "execute_result",
          "data": {
            "text/plain": [
              "(12780, 12)"
            ]
          },
          "metadata": {},
          "execution_count": 35
        }
      ],
      "source": [
        "predictions[5][1].shape"
      ]
    },
    {
      "cell_type": "markdown",
      "id": "f53e1cb7-a61e-4f04-971f-508625712c7b",
      "metadata": {
        "id": "f53e1cb7-a61e-4f04-971f-508625712c7b"
      },
      "source": [
        "# Each Model is Applied and Pred Probabilities stored in predictions"
      ]
    },
    {
      "cell_type": "code",
      "execution_count": null,
      "id": "fc0f9e8b-0127-4ca9-a9dd-0668d86d022b",
      "metadata": {
        "colab": {
          "base_uri": "https://localhost:8080/"
        },
        "id": "fc0f9e8b-0127-4ca9-a9dd-0668d86d022b",
        "outputId": "375e1fde-da27-44f4-8d7f-dc199fef12a3"
      },
      "outputs": [
        {
          "output_type": "execute_result",
          "data": {
            "text/plain": [
              "array([1.5, 3.5, 5.5])"
            ]
          },
          "metadata": {},
          "execution_count": 36
        }
      ],
      "source": [
        "a=np.array([[1,2],[3,4],[5,6]])\n",
        "b=np.array([[2,3],[4,5],[6,7]])\n",
        "np.mean(a,axis=1)"
      ]
    },
    {
      "cell_type": "code",
      "execution_count": null,
      "id": "1d34b85f-f8e9-458c-a7c7-c0d97ddd864c",
      "metadata": {
        "colab": {
          "base_uri": "https://localhost:8080/"
        },
        "id": "1d34b85f-f8e9-458c-a7c7-c0d97ddd864c",
        "outputId": "fb6443f6-aa5b-493a-d2e2-08975cb8c6f0"
      },
      "outputs": [
        {
          "output_type": "execute_result",
          "data": {
            "text/plain": [
              "array([[1.5, 2.5],\n",
              "       [3.5, 4.5],\n",
              "       [5.5, 6.5]])"
            ]
          },
          "metadata": {},
          "execution_count": 37
        }
      ],
      "source": [
        "(a+b)/2"
      ]
    },
    {
      "cell_type": "code",
      "execution_count": null,
      "id": "2134a895-2c43-477d-9419-d90adef668bb",
      "metadata": {
        "id": "2134a895-2c43-477d-9419-d90adef668bb"
      },
      "outputs": [],
      "source": []
    },
    {
      "cell_type": "code",
      "execution_count": null,
      "id": "7fbcd1cf-3eb1-4485-80d4-5265baeb0b9f",
      "metadata": {
        "id": "7fbcd1cf-3eb1-4485-80d4-5265baeb0b9f"
      },
      "outputs": [],
      "source": []
    },
    {
      "cell_type": "code",
      "execution_count": null,
      "id": "d196b96c-7df1-45b8-b609-4f4be669c55c",
      "metadata": {
        "id": "d196b96c-7df1-45b8-b609-4f4be669c55c"
      },
      "outputs": [],
      "source": [
        "pred=predictions[:]"
      ]
    },
    {
      "cell_type": "code",
      "execution_count": null,
      "id": "36052eb5-30b4-43dd-a5ca-eeff8119b69d",
      "metadata": {
        "id": "36052eb5-30b4-43dd-a5ca-eeff8119b69d"
      },
      "outputs": [],
      "source": [
        "sumed=[]\n",
        "for i in range(6):\n",
        "    sum=(pred[i][0]+pred[i][1])/2\n",
        "    sumed.append(sum)"
      ]
    },
    {
      "cell_type": "code",
      "execution_count": null,
      "id": "93b9e120-de90-47b8-aa24-aee420b47030",
      "metadata": {
        "colab": {
          "base_uri": "https://localhost:8080/"
        },
        "id": "93b9e120-de90-47b8-aa24-aee420b47030",
        "outputId": "f1ec864a-a01c-4c99-eab0-b93c83a2a87f"
      },
      "outputs": [
        {
          "output_type": "execute_result",
          "data": {
            "text/plain": [
              "(12780, 10)"
            ]
          },
          "metadata": {},
          "execution_count": 40
        }
      ],
      "source": [
        "sumed[0].shape"
      ]
    },
    {
      "cell_type": "code",
      "execution_count": null,
      "id": "e80b6fcf-901f-4f38-96de-6abeb214832e",
      "metadata": {
        "id": "e80b6fcf-901f-4f38-96de-6abeb214832e"
      },
      "outputs": [],
      "source": [
        "bum_10 = np.zeros((12780,10))\n",
        "bum_12 = np.zeros((12780,12))\n"
      ]
    },
    {
      "cell_type": "code",
      "execution_count": null,
      "id": "3417f4aa-5bbd-49e0-9b4f-7dd5b8eb811b",
      "metadata": {
        "id": "3417f4aa-5bbd-49e0-9b4f-7dd5b8eb811b"
      },
      "outputs": [],
      "source": [
        "for i in range(3):\n",
        "    bum_10+=sumed[i]\n",
        "bum_10/=3\n",
        "for i in range(3):\n",
        "    bum_12+=sumed[i+3]\n",
        "bum_12/=3"
      ]
    },
    {
      "cell_type": "code",
      "execution_count": null,
      "id": "94f2cd99-f38a-4935-a6c7-24298536250c",
      "metadata": {
        "colab": {
          "base_uri": "https://localhost:8080/"
        },
        "id": "94f2cd99-f38a-4935-a6c7-24298536250c",
        "outputId": "f660d0bb-0d60-4ab4-c851-e450e75d641f"
      },
      "outputs": [
        {
          "output_type": "execute_result",
          "data": {
            "text/plain": [
              "array([ 2, 32,  6])"
            ]
          },
          "metadata": {},
          "execution_count": 43
        }
      ],
      "source": [
        "np.max(np.array([[1,2],[32,4],[5,6]]),axis=1)"
      ]
    },
    {
      "cell_type": "code",
      "execution_count": null,
      "id": "9b9ef084-22b8-4339-a214-054bf03ae41e",
      "metadata": {
        "id": "9b9ef084-22b8-4339-a214-054bf03ae41e"
      },
      "outputs": [],
      "source": [
        "bum_10_cpy=bum_10[:]\n",
        "bum_12_cpy=bum_12[:]"
      ]
    },
    {
      "cell_type": "code",
      "execution_count": null,
      "id": "831a9348-6dcc-4d50-905f-3bcdd642b4ef",
      "metadata": {
        "colab": {
          "base_uri": "https://localhost:8080/"
        },
        "id": "831a9348-6dcc-4d50-905f-3bcdd642b4ef",
        "outputId": "7dab3a7f-a997-437a-df51-abcae9209440"
      },
      "outputs": [
        {
          "output_type": "execute_result",
          "data": {
            "text/plain": [
              "((12780, 10), (12780, 12))"
            ]
          },
          "metadata": {},
          "execution_count": 45
        }
      ],
      "source": [
        "bum_10_cpy.shape, bum_12_cpy.shape"
      ]
    },
    {
      "cell_type": "code",
      "execution_count": null,
      "id": "cb99092f-7969-40c4-91aa-84403aa8be71",
      "metadata": {
        "id": "cb99092f-7969-40c4-91aa-84403aa8be71"
      },
      "outputs": [],
      "source": [
        "labels_10 = np.argmax(bum_10_cpy,axis=1)\n",
        "labels_12 = np.argmax(bum_12_cpy,axis=1)"
      ]
    },
    {
      "cell_type": "code",
      "execution_count": null,
      "id": "c33b724d-5fc7-4347-bf1d-0249377de2e3",
      "metadata": {
        "colab": {
          "base_uri": "https://localhost:8080/"
        },
        "id": "c33b724d-5fc7-4347-bf1d-0249377de2e3",
        "outputId": "dbe4797e-947f-40f0-c56a-77c494637800"
      },
      "outputs": [
        {
          "output_type": "execute_result",
          "data": {
            "text/plain": [
              "array([9, 0, 7, ..., 1, 8, 9])"
            ]
          },
          "metadata": {},
          "execution_count": 47
        }
      ],
      "source": [
        "y_test"
      ]
    },
    {
      "cell_type": "code",
      "execution_count": null,
      "id": "d8041027-3172-4c9d-b751-2271a93d16fa",
      "metadata": {
        "colab": {
          "base_uri": "https://localhost:8080/"
        },
        "id": "d8041027-3172-4c9d-b751-2271a93d16fa",
        "outputId": "8c41ceb3-5090-4a7d-cd89-8934681b756e"
      },
      "outputs": [
        {
          "output_type": "execute_result",
          "data": {
            "text/plain": [
              "array([1, 0, 7, ..., 1, 8, 9])"
            ]
          },
          "metadata": {},
          "execution_count": 48
        }
      ],
      "source": [
        "labels_12"
      ]
    },
    {
      "cell_type": "code",
      "execution_count": null,
      "id": "9520c17f-7122-48c4-9171-812e7a99ca12",
      "metadata": {
        "id": "9520c17f-7122-48c4-9171-812e7a99ca12"
      },
      "outputs": [],
      "source": [
        "split_1=(bum_10_cpy[:,[0,1]] + bum_12_cpy[:,[0,1]])/2"
      ]
    },
    {
      "cell_type": "code",
      "execution_count": null,
      "id": "3418bf04-b7b9-49ed-b6f6-481ca5f3f5f0",
      "metadata": {
        "id": "3418bf04-b7b9-49ed-b6f6-481ca5f3f5f0"
      },
      "outputs": [],
      "source": [
        "split_2=bum_12_cpy[:,[2]]"
      ]
    },
    {
      "cell_type": "code",
      "execution_count": null,
      "id": "af8b64a6-5e65-4e21-8b39-98bb48253866",
      "metadata": {
        "id": "af8b64a6-5e65-4e21-8b39-98bb48253866"
      },
      "outputs": [],
      "source": [
        "split_3 = (bum_10_cpy[:,[2,3]] + bum_12_cpy[:,[3,4]])/2"
      ]
    },
    {
      "cell_type": "code",
      "execution_count": null,
      "id": "bba62f3c-d221-40bc-854d-7fabbe1b8eda",
      "metadata": {
        "id": "bba62f3c-d221-40bc-854d-7fabbe1b8eda"
      },
      "outputs": [],
      "source": [
        "split_4 = bum_12_cpy[:,[5]]"
      ]
    },
    {
      "cell_type": "code",
      "execution_count": null,
      "id": "57de69d5-daa0-42b7-ad41-0725eda712e0",
      "metadata": {
        "id": "57de69d5-daa0-42b7-ad41-0725eda712e0"
      },
      "outputs": [],
      "source": [
        "split_5 = (bum_10_cpy[:,[4,5,6,7,8,9]] + bum_12_cpy[:,[6,7,8,9,10,11]])/2"
      ]
    },
    {
      "cell_type": "code",
      "execution_count": null,
      "id": "c4a551d9-1c7f-424a-aed3-8e077f18a889",
      "metadata": {
        "id": "c4a551d9-1c7f-424a-aed3-8e077f18a889"
      },
      "outputs": [],
      "source": [
        "final = np.concatenate((split_1,split_2,split_3,split_4,split_5),axis=1)"
      ]
    },
    {
      "cell_type": "code",
      "execution_count": null,
      "id": "955d2c42-3b36-4054-9fac-e76ace733c03",
      "metadata": {
        "colab": {
          "base_uri": "https://localhost:8080/"
        },
        "id": "955d2c42-3b36-4054-9fac-e76ace733c03",
        "outputId": "2825e042-e16b-4946-ac5f-b913e132002b"
      },
      "outputs": [
        {
          "output_type": "execute_result",
          "data": {
            "text/plain": [
              "(12780, 12)"
            ]
          },
          "metadata": {},
          "execution_count": 55
        }
      ],
      "source": [
        "final.shape"
      ]
    },
    {
      "cell_type": "code",
      "execution_count": null,
      "id": "dcfbbf25-27fd-4d54-b414-48dcf3a012f6",
      "metadata": {
        "colab": {
          "base_uri": "https://localhost:8080/"
        },
        "id": "dcfbbf25-27fd-4d54-b414-48dcf3a012f6",
        "outputId": "26e0e73e-9792-490b-ccb8-8db43e19e0a5"
      },
      "outputs": [
        {
          "output_type": "execute_result",
          "data": {
            "text/plain": [
              "array([9, 0, 7, ..., 1, 8, 9])"
            ]
          },
          "metadata": {},
          "execution_count": 56
        }
      ],
      "source": [
        "final_labels = np.argmax(final,axis=1)\n",
        "final_labels"
      ]
    },
    {
      "cell_type": "code",
      "execution_count": null,
      "id": "1ad46b6f-2d1f-40e5-8711-b9f6d0eca1de",
      "metadata": {
        "id": "1ad46b6f-2d1f-40e5-8711-b9f6d0eca1de"
      },
      "outputs": [],
      "source": []
    },
    {
      "cell_type": "code",
      "execution_count": null,
      "id": "78f373ab-b7e4-49aa-9989-d4e1c6aec34d",
      "metadata": {
        "id": "78f373ab-b7e4-49aa-9989-d4e1c6aec34d"
      },
      "outputs": [],
      "source": [
        "# 0 , 1 ,     2 , 3       4 , 5 , 6 , 7 , 8 , 9\n",
        "# 0 , 1 , 2 , 3 , 4 , 5 , 6 , 7 , 8 , 9 , 10 , 11"
      ]
    },
    {
      "cell_type": "code",
      "execution_count": null,
      "id": "759c2dec-bf94-4dd1-9e7c-e2d537db8b73",
      "metadata": {
        "colab": {
          "base_uri": "https://localhost:8080/"
        },
        "id": "759c2dec-bf94-4dd1-9e7c-e2d537db8b73",
        "outputId": "53b2684a-d849-45bf-9b4f-b1b5bd1ea5d6"
      },
      "outputs": [
        {
          "output_type": "execute_result",
          "data": {
            "text/plain": [
              "array([[1, 2, 5, 6, 9],\n",
              "       [3, 4, 3, 4, 0]])"
            ]
          },
          "metadata": {},
          "execution_count": 58
        }
      ],
      "source": [
        "np.concatenate((np.array([[1,2],[3,4]]),np.array([[5,6,9],[3,4,0]])),axis=1)"
      ]
    },
    {
      "cell_type": "code",
      "execution_count": null,
      "id": "4e674832-7bed-4017-ac9a-c94883b36034",
      "metadata": {
        "id": "4e674832-7bed-4017-ac9a-c94883b36034"
      },
      "outputs": [],
      "source": []
    },
    {
      "cell_type": "code",
      "execution_count": null,
      "id": "4ce523bb-7e1f-4663-a42e-877d604c9554",
      "metadata": {
        "id": "4ce523bb-7e1f-4663-a42e-877d604c9554"
      },
      "outputs": [],
      "source": []
    },
    {
      "cell_type": "code",
      "execution_count": null,
      "id": "8eb379ed-fbbe-4a57-94cf-babfd5c71129",
      "metadata": {
        "id": "8eb379ed-fbbe-4a57-94cf-babfd5c71129"
      },
      "outputs": [],
      "source": []
    },
    {
      "cell_type": "code",
      "execution_count": null,
      "id": "25a44e4c-a891-4434-b885-aa63ee80a3a9",
      "metadata": {
        "id": "25a44e4c-a891-4434-b885-aa63ee80a3a9"
      },
      "outputs": [],
      "source": []
    },
    {
      "cell_type": "code",
      "execution_count": null,
      "id": "80c43384-9a26-4453-ae58-c6c2fbcbb457",
      "metadata": {
        "colab": {
          "base_uri": "https://localhost:8080/"
        },
        "id": "80c43384-9a26-4453-ae58-c6c2fbcbb457",
        "outputId": "d2d9425d-6143-4878-df7b-6afeb36d4336"
      },
      "outputs": [
        {
          "output_type": "stream",
          "name": "stdout",
          "text": [
            "0.8971830985915493\n"
          ]
        }
      ],
      "source": [
        "j=0\n",
        "for i in range(len(final_labels)):\n",
        "    if final_labels[i]==y_test[i]:\n",
        "        j+=1\n",
        "\n",
        "print(j/len(labels_12))"
      ]
    },
    {
      "cell_type": "code",
      "execution_count": null,
      "id": "092e3472-8b61-4680-8fa2-bd0e9873c2e9",
      "metadata": {
        "colab": {
          "base_uri": "https://localhost:8080/"
        },
        "id": "092e3472-8b61-4680-8fa2-bd0e9873c2e9",
        "outputId": "5a43ca87-66bb-40b3-c56a-92d02fbad813"
      },
      "outputs": [
        {
          "output_type": "execute_result",
          "data": {
            "text/plain": [
              "np.int64(9)"
            ]
          },
          "metadata": {},
          "execution_count": 60
        }
      ],
      "source": [
        "new_test=[]\n",
        "for i in y_test:\n",
        "    if((i==2)|(i==5)|(i==11)):\n",
        "        new_test.append(9)\n",
        "    elif (i==3):\n",
        "        new_test.append(2)\n",
        "    elif (i==4):\n",
        "        new_test.append(3)\n",
        "    elif (i==6):\n",
        "        new_test.append(4)\n",
        "    elif (i==7):\n",
        "        new_test.append(5)\n",
        "    elif (i==8):\n",
        "        new_test.append(6)\n",
        "    elif (i==9):\n",
        "        new_test.append(7)\n",
        "    elif (i==10):\n",
        "        new_test.append(8)\n",
        "    else:\n",
        "        new_test.append(i)\n",
        "\n",
        "np.max(new_test)"
      ]
    },
    {
      "cell_type": "code",
      "execution_count": null,
      "id": "f78f33c2-494a-4908-9632-8a06894401ad",
      "metadata": {
        "colab": {
          "base_uri": "https://localhost:8080/"
        },
        "id": "f78f33c2-494a-4908-9632-8a06894401ad",
        "outputId": "52fa75d8-e143-412c-99dd-08025ad46b5b",
        "collapsed": true
      },
      "outputs": [
        {
          "output_type": "stream",
          "name": "stdout",
          "text": [
            "At index = 5 ; predicted : 7 ; actual : 2\n",
            "At index = 7 ; predicted : 0 ; actual : 9\n",
            "At index = 17 ; predicted : 7 ; actual : 9\n",
            "At index = 25 ; predicted : 8 ; actual : 9\n",
            "At index = 27 ; predicted : 3 ; actual : 4\n",
            "At index = 31 ; predicted : 3 ; actual : 8\n",
            "At index = 33 ; predicted : 8 ; actual : 3\n",
            "At index = 38 ; predicted : 3 ; actual : 9\n",
            "At index = 48 ; predicted : 8 ; actual : 9\n",
            "At index = 49 ; predicted : 6 ; actual : 7\n",
            "At index = 53 ; predicted : 5 ; actual : 3\n",
            "At index = 54 ; predicted : 1 ; actual : 0\n",
            "At index = 59 ; predicted : 3 ; actual : 6\n",
            "At index = 63 ; predicted : 4 ; actual : 9\n",
            "At index = 65 ; predicted : 4 ; actual : 9\n",
            "At index = 70 ; predicted : 7 ; actual : 4\n",
            "At index = 82 ; predicted : 5 ; actual : 1\n",
            "At index = 87 ; predicted : 6 ; actual : 4\n",
            "At index = 88 ; predicted : 6 ; actual : 0\n",
            "At index = 89 ; predicted : 6 ; actual : 4\n",
            "At index = 91 ; predicted : 5 ; actual : 0\n",
            "At index = 98 ; predicted : 1 ; actual : 5\n",
            "At index = 99 ; predicted : 7 ; actual : 0\n",
            "At index = 101 ; predicted : 2 ; actual : 9\n",
            "At index = 111 ; predicted : 7 ; actual : 3\n",
            "At index = 120 ; predicted : 7 ; actual : 6\n",
            "At index = 139 ; predicted : 4 ; actual : 9\n",
            "At index = 142 ; predicted : 5 ; actual : 9\n",
            "At index = 146 ; predicted : 8 ; actual : 9\n",
            "At index = 147 ; predicted : 3 ; actual : 1\n",
            "At index = 150 ; predicted : 0 ; actual : 9\n",
            "At index = 151 ; predicted : 6 ; actual : 9\n",
            "At index = 162 ; predicted : 6 ; actual : 9\n",
            "At index = 164 ; predicted : 4 ; actual : 9\n",
            "At index = 172 ; predicted : 9 ; actual : 7\n",
            "At index = 177 ; predicted : 1 ; actual : 3\n",
            "At index = 184 ; predicted : 1 ; actual : 9\n",
            "At index = 193 ; predicted : 4 ; actual : 9\n",
            "At index = 196 ; predicted : 2 ; actual : 4\n",
            "At index = 198 ; predicted : 3 ; actual : 9\n",
            "At index = 208 ; predicted : 4 ; actual : 9\n",
            "At index = 209 ; predicted : 6 ; actual : 5\n",
            "At index = 225 ; predicted : 6 ; actual : 9\n",
            "At index = 232 ; predicted : 7 ; actual : 5\n",
            "At index = 237 ; predicted : 8 ; actual : 6\n",
            "At index = 238 ; predicted : 2 ; actual : 9\n",
            "At index = 242 ; predicted : 7 ; actual : 9\n",
            "At index = 247 ; predicted : 2 ; actual : 6\n",
            "At index = 248 ; predicted : 6 ; actual : 5\n",
            "At index = 251 ; predicted : 4 ; actual : 9\n",
            "At index = 252 ; predicted : 2 ; actual : 9\n",
            "At index = 253 ; predicted : 2 ; actual : 7\n",
            "At index = 257 ; predicted : 1 ; actual : 3\n",
            "At index = 259 ; predicted : 4 ; actual : 7\n",
            "At index = 267 ; predicted : 0 ; actual : 7\n",
            "At index = 278 ; predicted : 8 ; actual : 9\n",
            "At index = 311 ; predicted : 6 ; actual : 9\n",
            "At index = 315 ; predicted : 7 ; actual : 9\n",
            "At index = 317 ; predicted : 6 ; actual : 9\n",
            "At index = 323 ; predicted : 1 ; actual : 9\n",
            "At index = 326 ; predicted : 5 ; actual : 4\n",
            "At index = 334 ; predicted : 7 ; actual : 0\n",
            "At index = 335 ; predicted : 8 ; actual : 4\n",
            "At index = 337 ; predicted : 1 ; actual : 3\n",
            "At index = 342 ; predicted : 5 ; actual : 9\n",
            "At index = 349 ; predicted : 4 ; actual : 9\n",
            "At index = 350 ; predicted : 5 ; actual : 9\n",
            "At index = 352 ; predicted : 4 ; actual : 9\n",
            "At index = 355 ; predicted : 3 ; actual : 5\n",
            "At index = 367 ; predicted : 6 ; actual : 9\n",
            "At index = 368 ; predicted : 6 ; actual : 9\n",
            "At index = 383 ; predicted : 5 ; actual : 9\n",
            "At index = 389 ; predicted : 1 ; actual : 7\n",
            "At index = 417 ; predicted : 3 ; actual : 9\n",
            "At index = 419 ; predicted : 1 ; actual : 7\n",
            "At index = 421 ; predicted : 4 ; actual : 8\n",
            "At index = 424 ; predicted : 4 ; actual : 9\n",
            "At index = 443 ; predicted : 5 ; actual : 9\n",
            "At index = 446 ; predicted : 1 ; actual : 7\n",
            "At index = 451 ; predicted : 5 ; actual : 0\n",
            "At index = 467 ; predicted : 7 ; actual : 9\n",
            "At index = 468 ; predicted : 8 ; actual : 9\n",
            "At index = 478 ; predicted : 3 ; actual : 9\n",
            "At index = 479 ; predicted : 6 ; actual : 9\n",
            "At index = 490 ; predicted : 6 ; actual : 4\n",
            "At index = 501 ; predicted : 6 ; actual : 9\n",
            "At index = 502 ; predicted : 7 ; actual : 9\n",
            "At index = 521 ; predicted : 3 ; actual : 9\n",
            "At index = 522 ; predicted : 1 ; actual : 3\n",
            "At index = 527 ; predicted : 5 ; actual : 3\n",
            "At index = 548 ; predicted : 1 ; actual : 9\n",
            "At index = 556 ; predicted : 4 ; actual : 3\n",
            "At index = 557 ; predicted : 7 ; actual : 9\n",
            "At index = 562 ; predicted : 7 ; actual : 9\n",
            "At index = 572 ; predicted : 8 ; actual : 9\n",
            "At index = 574 ; predicted : 2 ; actual : 4\n",
            "At index = 575 ; predicted : 4 ; actual : 9\n",
            "At index = 585 ; predicted : 1 ; actual : 7\n",
            "At index = 605 ; predicted : 1 ; actual : 3\n",
            "At index = 611 ; predicted : 3 ; actual : 9\n",
            "At index = 616 ; predicted : 1 ; actual : 7\n",
            "At index = 617 ; predicted : 0 ; actual : 9\n",
            "At index = 619 ; predicted : 9 ; actual : 2\n",
            "At index = 626 ; predicted : 8 ; actual : 9\n",
            "At index = 632 ; predicted : 3 ; actual : 7\n",
            "At index = 633 ; predicted : 8 ; actual : 3\n",
            "At index = 637 ; predicted : 4 ; actual : 9\n",
            "At index = 647 ; predicted : 1 ; actual : 7\n",
            "At index = 653 ; predicted : 5 ; actual : 9\n",
            "At index = 657 ; predicted : 1 ; actual : 3\n",
            "At index = 659 ; predicted : 6 ; actual : 9\n",
            "At index = 660 ; predicted : 7 ; actual : 9\n",
            "At index = 688 ; predicted : 7 ; actual : 9\n",
            "At index = 695 ; predicted : 7 ; actual : 9\n",
            "At index = 701 ; predicted : 7 ; actual : 9\n",
            "At index = 725 ; predicted : 1 ; actual : 2\n",
            "At index = 734 ; predicted : 0 ; actual : 9\n",
            "At index = 735 ; predicted : 1 ; actual : 9\n",
            "At index = 737 ; predicted : 4 ; actual : 9\n",
            "At index = 761 ; predicted : 5 ; actual : 2\n",
            "At index = 772 ; predicted : 7 ; actual : 8\n",
            "At index = 776 ; predicted : 3 ; actual : 9\n",
            "At index = 777 ; predicted : 9 ; actual : 4\n",
            "At index = 778 ; predicted : 6 ; actual : 9\n",
            "At index = 786 ; predicted : 6 ; actual : 9\n",
            "At index = 787 ; predicted : 8 ; actual : 7\n",
            "At index = 790 ; predicted : 8 ; actual : 9\n",
            "At index = 796 ; predicted : 4 ; actual : 7\n",
            "At index = 797 ; predicted : 8 ; actual : 6\n",
            "At index = 800 ; predicted : 6 ; actual : 9\n",
            "At index = 808 ; predicted : 5 ; actual : 0\n",
            "At index = 810 ; predicted : 8 ; actual : 9\n",
            "At index = 813 ; predicted : 6 ; actual : 4\n",
            "At index = 826 ; predicted : 3 ; actual : 7\n",
            "At index = 828 ; predicted : 6 ; actual : 9\n",
            "At index = 838 ; predicted : 8 ; actual : 9\n",
            "At index = 846 ; predicted : 2 ; actual : 3\n",
            "At index = 859 ; predicted : 1 ; actual : 6\n",
            "At index = 863 ; predicted : 2 ; actual : 9\n",
            "At index = 868 ; predicted : 5 ; actual : 0\n",
            "At index = 869 ; predicted : 8 ; actual : 4\n",
            "At index = 877 ; predicted : 2 ; actual : 9\n",
            "At index = 882 ; predicted : 6 ; actual : 5\n",
            "At index = 883 ; predicted : 8 ; actual : 9\n",
            "At index = 888 ; predicted : 6 ; actual : 5\n",
            "At index = 889 ; predicted : 1 ; actual : 7\n",
            "At index = 893 ; predicted : 7 ; actual : 9\n",
            "At index = 897 ; predicted : 4 ; actual : 9\n",
            "At index = 898 ; predicted : 9 ; actual : 0\n",
            "At index = 904 ; predicted : 1 ; actual : 7\n",
            "At index = 921 ; predicted : 3 ; actual : 9\n",
            "At index = 922 ; predicted : 1 ; actual : 0\n",
            "At index = 926 ; predicted : 6 ; actual : 3\n",
            "At index = 927 ; predicted : 9 ; actual : 4\n",
            "At index = 935 ; predicted : 6 ; actual : 2\n",
            "At index = 938 ; predicted : 5 ; actual : 3\n",
            "At index = 941 ; predicted : 6 ; actual : 4\n",
            "At index = 943 ; predicted : 7 ; actual : 3\n",
            "At index = 944 ; predicted : 1 ; actual : 3\n",
            "At index = 946 ; predicted : 1 ; actual : 9\n",
            "At index = 950 ; predicted : 2 ; actual : 6\n",
            "At index = 957 ; predicted : 5 ; actual : 9\n",
            "At index = 964 ; predicted : 1 ; actual : 5\n",
            "At index = 979 ; predicted : 6 ; actual : 9\n",
            "At index = 984 ; predicted : 2 ; actual : 5\n",
            "At index = 985 ; predicted : 6 ; actual : 9\n",
            "At index = 996 ; predicted : 7 ; actual : 9\n",
            "At index = 998 ; predicted : 5 ; actual : 9\n",
            "At index = 1002 ; predicted : 6 ; actual : 9\n",
            "At index = 1006 ; predicted : 0 ; actual : 9\n",
            "At index = 1009 ; predicted : 8 ; actual : 9\n",
            "At index = 1012 ; predicted : 8 ; actual : 9\n",
            "At index = 1015 ; predicted : 2 ; actual : 7\n",
            "At index = 1020 ; predicted : 9 ; actual : 2\n",
            "At index = 1025 ; predicted : 5 ; actual : 9\n",
            "At index = 1028 ; predicted : 0 ; actual : 9\n",
            "At index = 1041 ; predicted : 7 ; actual : 4\n",
            "At index = 1043 ; predicted : 8 ; actual : 0\n",
            "At index = 1054 ; predicted : 6 ; actual : 4\n",
            "At index = 1056 ; predicted : 1 ; actual : 9\n",
            "At index = 1063 ; predicted : 6 ; actual : 9\n",
            "At index = 1065 ; predicted : 5 ; actual : 6\n",
            "At index = 1068 ; predicted : 7 ; actual : 9\n",
            "At index = 1073 ; predicted : 0 ; actual : 6\n",
            "At index = 1074 ; predicted : 3 ; actual : 9\n",
            "At index = 1076 ; predicted : 3 ; actual : 9\n",
            "At index = 1077 ; predicted : 3 ; actual : 9\n",
            "At index = 1089 ; predicted : 0 ; actual : 9\n",
            "At index = 1096 ; predicted : 2 ; actual : 6\n",
            "At index = 1105 ; predicted : 7 ; actual : 0\n",
            "At index = 1110 ; predicted : 8 ; actual : 9\n",
            "At index = 1112 ; predicted : 6 ; actual : 5\n",
            "At index = 1122 ; predicted : 7 ; actual : 9\n",
            "At index = 1131 ; predicted : 5 ; actual : 9\n",
            "At index = 1135 ; predicted : 8 ; actual : 9\n",
            "At index = 1146 ; predicted : 8 ; actual : 9\n",
            "At index = 1153 ; predicted : 0 ; actual : 7\n",
            "At index = 1172 ; predicted : 1 ; actual : 0\n",
            "At index = 1174 ; predicted : 2 ; actual : 3\n",
            "At index = 1181 ; predicted : 6 ; actual : 4\n",
            "At index = 1186 ; predicted : 7 ; actual : 3\n",
            "At index = 1192 ; predicted : 2 ; actual : 9\n",
            "At index = 1198 ; predicted : 1 ; actual : 3\n",
            "At index = 1208 ; predicted : 1 ; actual : 3\n",
            "At index = 1213 ; predicted : 1 ; actual : 9\n",
            "At index = 1216 ; predicted : 3 ; actual : 1\n",
            "At index = 1219 ; predicted : 8 ; actual : 9\n",
            "At index = 1222 ; predicted : 1 ; actual : 9\n",
            "At index = 1227 ; predicted : 2 ; actual : 9\n",
            "At index = 1232 ; predicted : 4 ; actual : 9\n",
            "At index = 1233 ; predicted : 2 ; actual : 9\n",
            "At index = 1251 ; predicted : 1 ; actual : 9\n",
            "At index = 1257 ; predicted : 8 ; actual : 9\n",
            "At index = 1263 ; predicted : 5 ; actual : 9\n",
            "At index = 1266 ; predicted : 3 ; actual : 1\n",
            "At index = 1268 ; predicted : 1 ; actual : 5\n",
            "At index = 1272 ; predicted : 3 ; actual : 9\n",
            "At index = 1274 ; predicted : 4 ; actual : 5\n",
            "At index = 1291 ; predicted : 7 ; actual : 9\n",
            "At index = 1300 ; predicted : 4 ; actual : 9\n",
            "At index = 1307 ; predicted : 8 ; actual : 6\n",
            "At index = 1321 ; predicted : 1 ; actual : 5\n",
            "At index = 1323 ; predicted : 4 ; actual : 9\n",
            "At index = 1328 ; predicted : 0 ; actual : 7\n",
            "At index = 1359 ; predicted : 6 ; actual : 9\n",
            "At index = 1360 ; predicted : 3 ; actual : 9\n",
            "At index = 1369 ; predicted : 3 ; actual : 9\n",
            "At index = 1375 ; predicted : 8 ; actual : 3\n",
            "At index = 1378 ; predicted : 2 ; actual : 3\n",
            "At index = 1379 ; predicted : 2 ; actual : 9\n",
            "At index = 1381 ; predicted : 2 ; actual : 4\n",
            "At index = 1393 ; predicted : 7 ; actual : 3\n",
            "At index = 1401 ; predicted : 8 ; actual : 9\n",
            "At index = 1405 ; predicted : 0 ; actual : 9\n",
            "At index = 1415 ; predicted : 2 ; actual : 6\n",
            "At index = 1416 ; predicted : 5 ; actual : 9\n",
            "At index = 1419 ; predicted : 9 ; actual : 7\n",
            "At index = 1427 ; predicted : 8 ; actual : 1\n",
            "At index = 1429 ; predicted : 6 ; actual : 9\n",
            "At index = 1431 ; predicted : 7 ; actual : 0\n",
            "At index = 1448 ; predicted : 5 ; actual : 9\n",
            "At index = 1454 ; predicted : 8 ; actual : 9\n",
            "At index = 1470 ; predicted : 6 ; actual : 9\n",
            "At index = 1471 ; predicted : 2 ; actual : 4\n",
            "At index = 1474 ; predicted : 2 ; actual : 9\n",
            "At index = 1476 ; predicted : 2 ; actual : 5\n",
            "At index = 1482 ; predicted : 1 ; actual : 9\n",
            "At index = 1484 ; predicted : 6 ; actual : 2\n",
            "At index = 1490 ; predicted : 2 ; actual : 9\n",
            "At index = 1492 ; predicted : 1 ; actual : 7\n",
            "At index = 1502 ; predicted : 1 ; actual : 9\n",
            "At index = 1507 ; predicted : 2 ; actual : 3\n",
            "At index = 1514 ; predicted : 1 ; actual : 9\n",
            "At index = 1519 ; predicted : 4 ; actual : 9\n",
            "At index = 1535 ; predicted : 4 ; actual : 5\n",
            "At index = 1537 ; predicted : 9 ; actual : 7\n",
            "At index = 1544 ; predicted : 2 ; actual : 9\n",
            "At index = 1551 ; predicted : 0 ; actual : 7\n",
            "At index = 1554 ; predicted : 5 ; actual : 4\n",
            "At index = 1558 ; predicted : 1 ; actual : 3\n",
            "At index = 1564 ; predicted : 8 ; actual : 9\n",
            "At index = 1582 ; predicted : 1 ; actual : 5\n",
            "At index = 1587 ; predicted : 7 ; actual : 9\n",
            "At index = 1589 ; predicted : 6 ; actual : 0\n",
            "At index = 1594 ; predicted : 4 ; actual : 9\n",
            "At index = 1596 ; predicted : 2 ; actual : 3\n",
            "At index = 1603 ; predicted : 0 ; actual : 9\n",
            "At index = 1611 ; predicted : 7 ; actual : 0\n",
            "At index = 1616 ; predicted : 2 ; actual : 3\n",
            "At index = 1622 ; predicted : 2 ; actual : 7\n",
            "At index = 1626 ; predicted : 7 ; actual : 4\n",
            "At index = 1634 ; predicted : 6 ; actual : 3\n",
            "At index = 1641 ; predicted : 4 ; actual : 9\n",
            "At index = 1662 ; predicted : 1 ; actual : 9\n",
            "At index = 1663 ; predicted : 1 ; actual : 3\n",
            "At index = 1675 ; predicted : 3 ; actual : 8\n",
            "At index = 1679 ; predicted : 6 ; actual : 9\n",
            "At index = 1683 ; predicted : 7 ; actual : 4\n",
            "At index = 1688 ; predicted : 8 ; actual : 9\n",
            "At index = 1693 ; predicted : 5 ; actual : 6\n",
            "At index = 1694 ; predicted : 7 ; actual : 9\n",
            "At index = 1699 ; predicted : 7 ; actual : 1\n",
            "At index = 1705 ; predicted : 3 ; actual : 9\n",
            "At index = 1716 ; predicted : 1 ; actual : 7\n",
            "At index = 1731 ; predicted : 6 ; actual : 5\n",
            "At index = 1732 ; predicted : 1 ; actual : 3\n",
            "At index = 1741 ; predicted : 2 ; actual : 4\n",
            "At index = 1742 ; predicted : 2 ; actual : 9\n",
            "At index = 1746 ; predicted : 1 ; actual : 0\n",
            "At index = 1754 ; predicted : 9 ; actual : 0\n",
            "At index = 1756 ; predicted : 1 ; actual : 9\n",
            "At index = 1764 ; predicted : 2 ; actual : 4\n",
            "At index = 1772 ; predicted : 7 ; actual : 0\n",
            "At index = 1774 ; predicted : 0 ; actual : 9\n",
            "At index = 1777 ; predicted : 1 ; actual : 9\n",
            "At index = 1779 ; predicted : 0 ; actual : 9\n",
            "At index = 1780 ; predicted : 5 ; actual : 9\n",
            "At index = 1783 ; predicted : 6 ; actual : 9\n",
            "At index = 1800 ; predicted : 5 ; actual : 2\n",
            "At index = 1803 ; predicted : 1 ; actual : 7\n",
            "At index = 1811 ; predicted : 2 ; actual : 9\n",
            "At index = 1816 ; predicted : 7 ; actual : 3\n",
            "At index = 1817 ; predicted : 1 ; actual : 7\n",
            "At index = 1823 ; predicted : 2 ; actual : 9\n",
            "At index = 1833 ; predicted : 1 ; actual : 3\n",
            "At index = 1834 ; predicted : 6 ; actual : 9\n",
            "At index = 1841 ; predicted : 6 ; actual : 5\n",
            "At index = 1842 ; predicted : 7 ; actual : 8\n",
            "At index = 1850 ; predicted : 6 ; actual : 9\n",
            "At index = 1875 ; predicted : 6 ; actual : 9\n",
            "At index = 1885 ; predicted : 7 ; actual : 9\n",
            "At index = 1893 ; predicted : 8 ; actual : 2\n",
            "At index = 1896 ; predicted : 3 ; actual : 9\n",
            "At index = 1905 ; predicted : 4 ; actual : 9\n",
            "At index = 1906 ; predicted : 5 ; actual : 0\n",
            "At index = 1907 ; predicted : 6 ; actual : 9\n",
            "At index = 1911 ; predicted : 8 ; actual : 6\n",
            "At index = 1918 ; predicted : 4 ; actual : 3\n",
            "At index = 1919 ; predicted : 2 ; actual : 9\n",
            "At index = 1923 ; predicted : 6 ; actual : 9\n",
            "At index = 1924 ; predicted : 7 ; actual : 9\n",
            "At index = 1931 ; predicted : 4 ; actual : 3\n",
            "At index = 1944 ; predicted : 1 ; actual : 0\n",
            "At index = 1986 ; predicted : 1 ; actual : 7\n",
            "At index = 1995 ; predicted : 1 ; actual : 9\n",
            "At index = 1999 ; predicted : 2 ; actual : 4\n",
            "At index = 2001 ; predicted : 3 ; actual : 0\n",
            "At index = 2008 ; predicted : 2 ; actual : 9\n",
            "At index = 2012 ; predicted : 5 ; actual : 6\n",
            "At index = 2021 ; predicted : 4 ; actual : 9\n",
            "At index = 2025 ; predicted : 5 ; actual : 9\n",
            "At index = 2031 ; predicted : 6 ; actual : 2\n",
            "At index = 2037 ; predicted : 7 ; actual : 9\n",
            "At index = 2040 ; predicted : 8 ; actual : 9\n",
            "At index = 2043 ; predicted : 2 ; actual : 9\n",
            "At index = 2047 ; predicted : 8 ; actual : 1\n",
            "At index = 2052 ; predicted : 2 ; actual : 6\n",
            "At index = 2060 ; predicted : 9 ; actual : 5\n",
            "At index = 2062 ; predicted : 8 ; actual : 5\n",
            "At index = 2070 ; predicted : 2 ; actual : 4\n",
            "At index = 2082 ; predicted : 3 ; actual : 1\n",
            "At index = 2083 ; predicted : 1 ; actual : 9\n",
            "At index = 2084 ; predicted : 5 ; actual : 9\n",
            "At index = 2092 ; predicted : 1 ; actual : 7\n",
            "At index = 2098 ; predicted : 7 ; actual : 9\n",
            "At index = 2103 ; predicted : 8 ; actual : 9\n",
            "At index = 2104 ; predicted : 3 ; actual : 0\n",
            "At index = 2105 ; predicted : 5 ; actual : 6\n",
            "At index = 2115 ; predicted : 4 ; actual : 7\n",
            "At index = 2116 ; predicted : 1 ; actual : 9\n",
            "At index = 2117 ; predicted : 8 ; actual : 5\n",
            "At index = 2120 ; predicted : 5 ; actual : 9\n",
            "At index = 2127 ; predicted : 5 ; actual : 4\n",
            "At index = 2131 ; predicted : 8 ; actual : 9\n",
            "At index = 2133 ; predicted : 7 ; actual : 9\n",
            "At index = 2135 ; predicted : 1 ; actual : 0\n",
            "At index = 2137 ; predicted : 4 ; actual : 9\n",
            "At index = 2139 ; predicted : 8 ; actual : 9\n",
            "At index = 2146 ; predicted : 7 ; actual : 3\n",
            "At index = 2152 ; predicted : 1 ; actual : 6\n",
            "At index = 2154 ; predicted : 4 ; actual : 9\n",
            "At index = 2164 ; predicted : 7 ; actual : 0\n",
            "At index = 2165 ; predicted : 7 ; actual : 4\n",
            "At index = 2195 ; predicted : 8 ; actual : 0\n",
            "At index = 2196 ; predicted : 7 ; actual : 9\n",
            "At index = 2202 ; predicted : 1 ; actual : 0\n",
            "At index = 2208 ; predicted : 8 ; actual : 9\n",
            "At index = 2212 ; predicted : 3 ; actual : 7\n",
            "At index = 2214 ; predicted : 5 ; actual : 7\n",
            "At index = 2221 ; predicted : 7 ; actual : 9\n",
            "At index = 2222 ; predicted : 2 ; actual : 1\n",
            "At index = 2228 ; predicted : 7 ; actual : 9\n",
            "At index = 2230 ; predicted : 1 ; actual : 3\n",
            "At index = 2233 ; predicted : 3 ; actual : 7\n",
            "At index = 2241 ; predicted : 5 ; actual : 9\n",
            "At index = 2242 ; predicted : 0 ; actual : 9\n",
            "At index = 2244 ; predicted : 5 ; actual : 7\n",
            "At index = 2248 ; predicted : 4 ; actual : 6\n",
            "At index = 2251 ; predicted : 5 ; actual : 3\n",
            "At index = 2253 ; predicted : 6 ; actual : 9\n",
            "At index = 2256 ; predicted : 5 ; actual : 3\n",
            "At index = 2258 ; predicted : 1 ; actual : 3\n",
            "At index = 2260 ; predicted : 9 ; actual : 4\n",
            "At index = 2263 ; predicted : 6 ; actual : 2\n",
            "At index = 2268 ; predicted : 4 ; actual : 9\n",
            "At index = 2279 ; predicted : 6 ; actual : 9\n",
            "At index = 2284 ; predicted : 6 ; actual : 5\n",
            "At index = 2285 ; predicted : 6 ; actual : 9\n",
            "At index = 2287 ; predicted : 2 ; actual : 9\n",
            "At index = 2289 ; predicted : 2 ; actual : 9\n",
            "At index = 2300 ; predicted : 1 ; actual : 9\n",
            "At index = 2310 ; predicted : 1 ; actual : 3\n",
            "At index = 2313 ; predicted : 3 ; actual : 9\n",
            "At index = 2318 ; predicted : 0 ; actual : 9\n",
            "At index = 2325 ; predicted : 0 ; actual : 9\n",
            "At index = 2335 ; predicted : 8 ; actual : 9\n",
            "At index = 2337 ; predicted : 3 ; actual : 9\n",
            "At index = 2368 ; predicted : 1 ; actual : 7\n",
            "At index = 2369 ; predicted : 2 ; actual : 9\n",
            "At index = 2375 ; predicted : 2 ; actual : 9\n",
            "At index = 2378 ; predicted : 0 ; actual : 7\n",
            "At index = 2389 ; predicted : 4 ; actual : 9\n",
            "At index = 2396 ; predicted : 5 ; actual : 3\n",
            "At index = 2398 ; predicted : 2 ; actual : 9\n",
            "At index = 2408 ; predicted : 7 ; actual : 0\n",
            "At index = 2409 ; predicted : 8 ; actual : 5\n",
            "At index = 2416 ; predicted : 8 ; actual : 1\n",
            "At index = 2421 ; predicted : 7 ; actual : 1\n",
            "At index = 2423 ; predicted : 3 ; actual : 9\n",
            "At index = 2427 ; predicted : 8 ; actual : 2\n",
            "At index = 2444 ; predicted : 3 ; actual : 9\n",
            "At index = 2448 ; predicted : 5 ; actual : 3\n",
            "At index = 2459 ; predicted : 8 ; actual : 9\n",
            "At index = 2460 ; predicted : 1 ; actual : 7\n",
            "At index = 2462 ; predicted : 8 ; actual : 7\n",
            "At index = 2464 ; predicted : 5 ; actual : 4\n",
            "At index = 2467 ; predicted : 6 ; actual : 9\n",
            "At index = 2469 ; predicted : 5 ; actual : 4\n",
            "At index = 2470 ; predicted : 8 ; actual : 5\n",
            "At index = 2497 ; predicted : 8 ; actual : 2\n",
            "At index = 2498 ; predicted : 2 ; actual : 9\n",
            "At index = 2512 ; predicted : 1 ; actual : 0\n",
            "At index = 2514 ; predicted : 4 ; actual : 9\n",
            "At index = 2527 ; predicted : 8 ; actual : 6\n",
            "At index = 2531 ; predicted : 6 ; actual : 2\n",
            "At index = 2537 ; predicted : 2 ; actual : 7\n",
            "At index = 2541 ; predicted : 3 ; actual : 5\n",
            "At index = 2546 ; predicted : 8 ; actual : 9\n",
            "At index = 2548 ; predicted : 6 ; actual : 4\n",
            "At index = 2551 ; predicted : 5 ; actual : 9\n",
            "At index = 2554 ; predicted : 9 ; actual : 7\n",
            "At index = 2564 ; predicted : 7 ; actual : 1\n",
            "At index = 2565 ; predicted : 4 ; actual : 9\n",
            "At index = 2567 ; predicted : 7 ; actual : 9\n",
            "At index = 2569 ; predicted : 4 ; actual : 9\n",
            "At index = 2572 ; predicted : 5 ; actual : 7\n",
            "At index = 2580 ; predicted : 8 ; actual : 9\n",
            "At index = 2589 ; predicted : 5 ; actual : 3\n",
            "At index = 2592 ; predicted : 4 ; actual : 9\n",
            "At index = 2602 ; predicted : 1 ; actual : 9\n",
            "At index = 2603 ; predicted : 4 ; actual : 0\n",
            "At index = 2606 ; predicted : 8 ; actual : 9\n",
            "At index = 2612 ; predicted : 0 ; actual : 9\n",
            "At index = 2617 ; predicted : 1 ; actual : 9\n",
            "At index = 2623 ; predicted : 0 ; actual : 4\n",
            "At index = 2637 ; predicted : 4 ; actual : 9\n",
            "At index = 2642 ; predicted : 7 ; actual : 9\n",
            "At index = 2644 ; predicted : 3 ; actual : 7\n",
            "At index = 2648 ; predicted : 7 ; actual : 9\n",
            "At index = 2649 ; predicted : 9 ; actual : 4\n",
            "At index = 2663 ; predicted : 2 ; actual : 5\n",
            "At index = 2667 ; predicted : 2 ; actual : 6\n",
            "At index = 2668 ; predicted : 8 ; actual : 9\n",
            "At index = 2669 ; predicted : 1 ; actual : 4\n",
            "At index = 2677 ; predicted : 1 ; actual : 3\n",
            "At index = 2689 ; predicted : 1 ; actual : 7\n",
            "At index = 2694 ; predicted : 1 ; actual : 2\n",
            "At index = 2697 ; predicted : 6 ; actual : 9\n",
            "At index = 2702 ; predicted : 0 ; actual : 9\n",
            "At index = 2703 ; predicted : 4 ; actual : 9\n",
            "At index = 2708 ; predicted : 1 ; actual : 9\n",
            "At index = 2711 ; predicted : 1 ; actual : 9\n",
            "At index = 2715 ; predicted : 6 ; actual : 9\n",
            "At index = 2717 ; predicted : 5 ; actual : 9\n",
            "At index = 2719 ; predicted : 7 ; actual : 3\n",
            "At index = 2721 ; predicted : 7 ; actual : 4\n",
            "At index = 2729 ; predicted : 7 ; actual : 9\n",
            "At index = 2730 ; predicted : 6 ; actual : 2\n",
            "At index = 2736 ; predicted : 7 ; actual : 9\n",
            "At index = 2741 ; predicted : 1 ; actual : 9\n",
            "At index = 2746 ; predicted : 6 ; actual : 9\n",
            "At index = 2753 ; predicted : 8 ; actual : 9\n",
            "At index = 2767 ; predicted : 4 ; actual : 9\n",
            "At index = 2777 ; predicted : 3 ; actual : 7\n",
            "At index = 2778 ; predicted : 6 ; actual : 4\n",
            "At index = 2779 ; predicted : 2 ; actual : 4\n",
            "At index = 2780 ; predicted : 1 ; actual : 9\n",
            "At index = 2782 ; predicted : 6 ; actual : 4\n",
            "At index = 2789 ; predicted : 7 ; actual : 9\n",
            "At index = 2791 ; predicted : 5 ; actual : 9\n",
            "At index = 2798 ; predicted : 2 ; actual : 9\n",
            "At index = 2810 ; predicted : 1 ; actual : 0\n",
            "At index = 2811 ; predicted : 4 ; actual : 9\n",
            "At index = 2813 ; predicted : 2 ; actual : 9\n",
            "At index = 2817 ; predicted : 4 ; actual : 9\n",
            "At index = 2822 ; predicted : 4 ; actual : 6\n",
            "At index = 2825 ; predicted : 4 ; actual : 7\n",
            "At index = 2829 ; predicted : 0 ; actual : 9\n",
            "At index = 2841 ; predicted : 0 ; actual : 7\n",
            "At index = 2842 ; predicted : 8 ; actual : 9\n",
            "At index = 2850 ; predicted : 1 ; actual : 3\n",
            "At index = 2851 ; predicted : 7 ; actual : 9\n",
            "At index = 2855 ; predicted : 1 ; actual : 0\n",
            "At index = 2856 ; predicted : 3 ; actual : 9\n",
            "At index = 2860 ; predicted : 4 ; actual : 9\n",
            "At index = 2861 ; predicted : 7 ; actual : 9\n",
            "At index = 2887 ; predicted : 0 ; actual : 5\n",
            "At index = 2889 ; predicted : 5 ; actual : 9\n",
            "At index = 2892 ; predicted : 5 ; actual : 4\n",
            "At index = 2906 ; predicted : 3 ; actual : 8\n",
            "At index = 2922 ; predicted : 0 ; actual : 7\n",
            "At index = 2929 ; predicted : 7 ; actual : 9\n",
            "At index = 2931 ; predicted : 1 ; actual : 7\n",
            "At index = 2933 ; predicted : 8 ; actual : 9\n",
            "At index = 2936 ; predicted : 1 ; actual : 2\n",
            "At index = 2939 ; predicted : 2 ; actual : 6\n",
            "At index = 2951 ; predicted : 1 ; actual : 9\n",
            "At index = 2953 ; predicted : 7 ; actual : 9\n",
            "At index = 2957 ; predicted : 2 ; actual : 9\n",
            "At index = 2965 ; predicted : 5 ; actual : 4\n",
            "At index = 2975 ; predicted : 1 ; actual : 9\n",
            "At index = 2987 ; predicted : 3 ; actual : 5\n",
            "At index = 2999 ; predicted : 2 ; actual : 9\n",
            "At index = 3001 ; predicted : 1 ; actual : 9\n",
            "At index = 3010 ; predicted : 0 ; actual : 9\n",
            "At index = 3011 ; predicted : 6 ; actual : 9\n",
            "At index = 3023 ; predicted : 3 ; actual : 7\n",
            "At index = 3036 ; predicted : 8 ; actual : 9\n",
            "At index = 3044 ; predicted : 6 ; actual : 9\n",
            "At index = 3051 ; predicted : 6 ; actual : 4\n",
            "At index = 3058 ; predicted : 1 ; actual : 7\n",
            "At index = 3063 ; predicted : 2 ; actual : 8\n",
            "At index = 3064 ; predicted : 5 ; actual : 2\n",
            "At index = 3066 ; predicted : 6 ; actual : 5\n",
            "At index = 3068 ; predicted : 2 ; actual : 5\n",
            "At index = 3072 ; predicted : 6 ; actual : 9\n",
            "At index = 3073 ; predicted : 2 ; actual : 9\n",
            "At index = 3089 ; predicted : 5 ; actual : 9\n",
            "At index = 3091 ; predicted : 6 ; actual : 9\n",
            "At index = 3106 ; predicted : 6 ; actual : 9\n",
            "At index = 3108 ; predicted : 6 ; actual : 9\n",
            "At index = 3110 ; predicted : 8 ; actual : 9\n",
            "At index = 3119 ; predicted : 0 ; actual : 9\n",
            "At index = 3135 ; predicted : 2 ; actual : 9\n",
            "At index = 3157 ; predicted : 5 ; actual : 6\n",
            "At index = 3159 ; predicted : 8 ; actual : 9\n",
            "At index = 3160 ; predicted : 3 ; actual : 8\n",
            "At index = 3172 ; predicted : 6 ; actual : 9\n",
            "At index = 3185 ; predicted : 1 ; actual : 3\n",
            "At index = 3190 ; predicted : 1 ; actual : 8\n",
            "At index = 3199 ; predicted : 9 ; actual : 6\n",
            "At index = 3206 ; predicted : 5 ; actual : 9\n",
            "At index = 3208 ; predicted : 3 ; actual : 1\n",
            "At index = 3210 ; predicted : 8 ; actual : 9\n",
            "At index = 3212 ; predicted : 8 ; actual : 7\n",
            "At index = 3228 ; predicted : 7 ; actual : 9\n",
            "At index = 3234 ; predicted : 3 ; actual : 7\n",
            "At index = 3244 ; predicted : 3 ; actual : 9\n",
            "At index = 3257 ; predicted : 9 ; actual : 3\n",
            "At index = 3271 ; predicted : 1 ; actual : 3\n",
            "At index = 3273 ; predicted : 2 ; actual : 9\n",
            "At index = 3287 ; predicted : 2 ; actual : 9\n",
            "At index = 3290 ; predicted : 7 ; actual : 0\n",
            "At index = 3296 ; predicted : 6 ; actual : 9\n",
            "At index = 3298 ; predicted : 2 ; actual : 7\n",
            "At index = 3304 ; predicted : 5 ; actual : 9\n",
            "At index = 3305 ; predicted : 3 ; actual : 1\n",
            "At index = 3308 ; predicted : 5 ; actual : 9\n",
            "At index = 3312 ; predicted : 2 ; actual : 4\n",
            "At index = 3313 ; predicted : 5 ; actual : 2\n",
            "At index = 3333 ; predicted : 7 ; actual : 9\n",
            "At index = 3335 ; predicted : 6 ; actual : 9\n",
            "At index = 3338 ; predicted : 8 ; actual : 9\n",
            "At index = 3339 ; predicted : 2 ; actual : 6\n",
            "At index = 3342 ; predicted : 4 ; actual : 9\n",
            "At index = 3346 ; predicted : 4 ; actual : 9\n",
            "At index = 3352 ; predicted : 4 ; actual : 9\n",
            "At index = 3355 ; predicted : 3 ; actual : 9\n",
            "At index = 3356 ; predicted : 3 ; actual : 0\n",
            "At index = 3361 ; predicted : 3 ; actual : 7\n",
            "At index = 3365 ; predicted : 2 ; actual : 9\n",
            "At index = 3373 ; predicted : 7 ; actual : 2\n",
            "At index = 3374 ; predicted : 2 ; actual : 9\n",
            "At index = 3375 ; predicted : 5 ; actual : 4\n",
            "At index = 3377 ; predicted : 1 ; actual : 9\n",
            "At index = 3400 ; predicted : 6 ; actual : 9\n",
            "At index = 3403 ; predicted : 0 ; actual : 9\n",
            "At index = 3414 ; predicted : 3 ; actual : 9\n",
            "At index = 3420 ; predicted : 6 ; actual : 5\n",
            "At index = 3421 ; predicted : 2 ; actual : 9\n",
            "At index = 3426 ; predicted : 2 ; actual : 9\n",
            "At index = 3439 ; predicted : 2 ; actual : 9\n",
            "At index = 3442 ; predicted : 6 ; actual : 9\n",
            "At index = 3448 ; predicted : 7 ; actual : 9\n",
            "At index = 3449 ; predicted : 2 ; actual : 9\n",
            "At index = 3453 ; predicted : 2 ; actual : 6\n",
            "At index = 3461 ; predicted : 6 ; actual : 3\n",
            "At index = 3463 ; predicted : 6 ; actual : 4\n",
            "At index = 3464 ; predicted : 5 ; actual : 9\n",
            "At index = 3473 ; predicted : 6 ; actual : 2\n",
            "At index = 3478 ; predicted : 2 ; actual : 5\n",
            "At index = 3480 ; predicted : 3 ; actual : 7\n",
            "At index = 3484 ; predicted : 1 ; actual : 0\n",
            "At index = 3486 ; predicted : 4 ; actual : 9\n",
            "At index = 3487 ; predicted : 3 ; actual : 7\n",
            "At index = 3488 ; predicted : 0 ; actual : 3\n",
            "At index = 3494 ; predicted : 6 ; actual : 9\n",
            "At index = 3499 ; predicted : 6 ; actual : 9\n",
            "At index = 3504 ; predicted : 4 ; actual : 3\n",
            "At index = 3519 ; predicted : 0 ; actual : 2\n",
            "At index = 3521 ; predicted : 7 ; actual : 9\n",
            "At index = 3529 ; predicted : 1 ; actual : 9\n",
            "At index = 3543 ; predicted : 6 ; actual : 9\n",
            "At index = 3551 ; predicted : 9 ; actual : 4\n",
            "At index = 3560 ; predicted : 1 ; actual : 0\n",
            "At index = 3564 ; predicted : 1 ; actual : 8\n",
            "At index = 3569 ; predicted : 7 ; actual : 9\n",
            "At index = 3579 ; predicted : 5 ; actual : 9\n",
            "At index = 3581 ; predicted : 6 ; actual : 9\n",
            "At index = 3588 ; predicted : 1 ; actual : 9\n",
            "At index = 3590 ; predicted : 0 ; actual : 5\n",
            "At index = 3591 ; predicted : 3 ; actual : 2\n",
            "At index = 3598 ; predicted : 6 ; actual : 9\n",
            "At index = 3603 ; predicted : 3 ; actual : 1\n",
            "At index = 3609 ; predicted : 6 ; actual : 3\n",
            "At index = 3616 ; predicted : 8 ; actual : 9\n",
            "At index = 3624 ; predicted : 4 ; actual : 2\n",
            "At index = 3632 ; predicted : 1 ; actual : 8\n",
            "At index = 3633 ; predicted : 9 ; actual : 7\n",
            "At index = 3636 ; predicted : 8 ; actual : 9\n",
            "At index = 3641 ; predicted : 2 ; actual : 9\n",
            "At index = 3644 ; predicted : 4 ; actual : 9\n",
            "At index = 3657 ; predicted : 4 ; actual : 9\n",
            "At index = 3661 ; predicted : 4 ; actual : 6\n",
            "At index = 3667 ; predicted : 7 ; actual : 6\n",
            "At index = 3668 ; predicted : 6 ; actual : 9\n",
            "At index = 3687 ; predicted : 8 ; actual : 9\n",
            "At index = 3692 ; predicted : 1 ; actual : 9\n",
            "At index = 3694 ; predicted : 6 ; actual : 2\n",
            "At index = 3704 ; predicted : 6 ; actual : 9\n",
            "At index = 3705 ; predicted : 1 ; actual : 9\n",
            "At index = 3708 ; predicted : 6 ; actual : 9\n",
            "At index = 3712 ; predicted : 7 ; actual : 9\n",
            "At index = 3715 ; predicted : 8 ; actual : 9\n",
            "At index = 3721 ; predicted : 1 ; actual : 9\n",
            "At index = 3723 ; predicted : 3 ; actual : 9\n",
            "At index = 3734 ; predicted : 1 ; actual : 9\n",
            "At index = 3737 ; predicted : 8 ; actual : 9\n",
            "At index = 3738 ; predicted : 6 ; actual : 9\n",
            "At index = 3746 ; predicted : 1 ; actual : 7\n",
            "At index = 3752 ; predicted : 5 ; actual : 9\n",
            "At index = 3753 ; predicted : 5 ; actual : 9\n",
            "At index = 3759 ; predicted : 4 ; actual : 9\n",
            "At index = 3764 ; predicted : 6 ; actual : 9\n",
            "At index = 3788 ; predicted : 5 ; actual : 8\n",
            "At index = 3789 ; predicted : 6 ; actual : 9\n",
            "At index = 3795 ; predicted : 1 ; actual : 7\n",
            "At index = 3798 ; predicted : 5 ; actual : 9\n",
            "At index = 3803 ; predicted : 2 ; actual : 9\n",
            "At index = 3810 ; predicted : 7 ; actual : 8\n",
            "At index = 3811 ; predicted : 5 ; actual : 9\n",
            "At index = 3812 ; predicted : 3 ; actual : 4\n",
            "At index = 3814 ; predicted : 6 ; actual : 9\n",
            "At index = 3831 ; predicted : 9 ; actual : 4\n",
            "At index = 3835 ; predicted : 4 ; actual : 9\n",
            "At index = 3836 ; predicted : 2 ; actual : 3\n",
            "At index = 3847 ; predicted : 3 ; actual : 6\n",
            "At index = 3848 ; predicted : 8 ; actual : 9\n",
            "At index = 3849 ; predicted : 2 ; actual : 4\n",
            "At index = 3859 ; predicted : 8 ; actual : 9\n",
            "At index = 3860 ; predicted : 6 ; actual : 9\n",
            "At index = 3879 ; predicted : 0 ; actual : 9\n",
            "At index = 3883 ; predicted : 5 ; actual : 9\n",
            "At index = 3887 ; predicted : 1 ; actual : 6\n",
            "At index = 3888 ; predicted : 0 ; actual : 9\n",
            "At index = 3893 ; predicted : 5 ; actual : 4\n",
            "At index = 3900 ; predicted : 6 ; actual : 9\n",
            "At index = 3902 ; predicted : 6 ; actual : 5\n",
            "At index = 3904 ; predicted : 5 ; actual : 9\n",
            "At index = 3911 ; predicted : 6 ; actual : 9\n",
            "At index = 3912 ; predicted : 6 ; actual : 9\n",
            "At index = 3913 ; predicted : 5 ; actual : 4\n",
            "At index = 3915 ; predicted : 4 ; actual : 9\n",
            "At index = 3923 ; predicted : 1 ; actual : 5\n",
            "At index = 3927 ; predicted : 1 ; actual : 9\n",
            "At index = 3928 ; predicted : 8 ; actual : 9\n",
            "At index = 3929 ; predicted : 4 ; actual : 5\n",
            "At index = 3937 ; predicted : 4 ; actual : 9\n",
            "At index = 3939 ; predicted : 9 ; actual : 6\n",
            "At index = 3941 ; predicted : 2 ; actual : 9\n",
            "At index = 3942 ; predicted : 2 ; actual : 9\n",
            "At index = 3946 ; predicted : 1 ; actual : 3\n",
            "At index = 3949 ; predicted : 6 ; actual : 2\n",
            "At index = 3950 ; predicted : 6 ; actual : 9\n",
            "At index = 3952 ; predicted : 2 ; actual : 9\n",
            "At index = 3961 ; predicted : 8 ; actual : 7\n",
            "At index = 3967 ; predicted : 3 ; actual : 9\n",
            "At index = 3968 ; predicted : 2 ; actual : 4\n",
            "At index = 3977 ; predicted : 2 ; actual : 6\n",
            "At index = 3995 ; predicted : 1 ; actual : 4\n",
            "At index = 3997 ; predicted : 5 ; actual : 0\n",
            "At index = 4010 ; predicted : 9 ; actual : 4\n",
            "At index = 4018 ; predicted : 4 ; actual : 9\n",
            "At index = 4034 ; predicted : 2 ; actual : 9\n",
            "At index = 4043 ; predicted : 6 ; actual : 9\n",
            "At index = 4053 ; predicted : 6 ; actual : 4\n",
            "At index = 4057 ; predicted : 6 ; actual : 9\n",
            "At index = 4058 ; predicted : 7 ; actual : 3\n",
            "At index = 4061 ; predicted : 1 ; actual : 9\n",
            "At index = 4071 ; predicted : 2 ; actual : 5\n",
            "At index = 4080 ; predicted : 3 ; actual : 7\n",
            "At index = 4081 ; predicted : 4 ; actual : 5\n",
            "At index = 4083 ; predicted : 4 ; actual : 9\n",
            "At index = 4087 ; predicted : 5 ; actual : 2\n",
            "At index = 4102 ; predicted : 2 ; actual : 4\n",
            "At index = 4107 ; predicted : 9 ; actual : 4\n",
            "At index = 4112 ; predicted : 1 ; actual : 6\n",
            "At index = 4114 ; predicted : 7 ; actual : 9\n",
            "At index = 4115 ; predicted : 8 ; actual : 9\n",
            "At index = 4119 ; predicted : 3 ; actual : 9\n",
            "At index = 4123 ; predicted : 2 ; actual : 5\n",
            "At index = 4124 ; predicted : 6 ; actual : 3\n",
            "At index = 4127 ; predicted : 7 ; actual : 3\n",
            "At index = 4133 ; predicted : 6 ; actual : 9\n",
            "At index = 4138 ; predicted : 3 ; actual : 4\n",
            "At index = 4149 ; predicted : 6 ; actual : 9\n",
            "At index = 4153 ; predicted : 3 ; actual : 9\n",
            "At index = 4158 ; predicted : 6 ; actual : 9\n",
            "At index = 4160 ; predicted : 1 ; actual : 9\n",
            "At index = 4161 ; predicted : 1 ; actual : 7\n",
            "At index = 4162 ; predicted : 2 ; actual : 9\n",
            "At index = 4163 ; predicted : 3 ; actual : 7\n",
            "At index = 4165 ; predicted : 9 ; actual : 2\n",
            "At index = 4172 ; predicted : 8 ; actual : 6\n",
            "At index = 4173 ; predicted : 4 ; actual : 7\n",
            "At index = 4175 ; predicted : 2 ; actual : 9\n",
            "At index = 4176 ; predicted : 1 ; actual : 9\n",
            "At index = 4185 ; predicted : 6 ; actual : 2\n",
            "At index = 4190 ; predicted : 6 ; actual : 4\n",
            "At index = 4196 ; predicted : 3 ; actual : 5\n",
            "At index = 4202 ; predicted : 6 ; actual : 9\n",
            "At index = 4208 ; predicted : 9 ; actual : 4\n",
            "At index = 4218 ; predicted : 9 ; actual : 6\n",
            "At index = 4221 ; predicted : 2 ; actual : 6\n",
            "At index = 4224 ; predicted : 5 ; actual : 9\n",
            "At index = 4226 ; predicted : 8 ; actual : 6\n",
            "At index = 4244 ; predicted : 1 ; actual : 7\n",
            "At index = 4250 ; predicted : 1 ; actual : 5\n",
            "At index = 4254 ; predicted : 0 ; actual : 2\n",
            "At index = 4256 ; predicted : 7 ; actual : 9\n",
            "At index = 4257 ; predicted : 4 ; actual : 9\n",
            "At index = 4258 ; predicted : 6 ; actual : 9\n",
            "At index = 4267 ; predicted : 2 ; actual : 9\n",
            "At index = 4269 ; predicted : 4 ; actual : 9\n",
            "At index = 4270 ; predicted : 2 ; actual : 3\n",
            "At index = 4276 ; predicted : 8 ; actual : 1\n",
            "At index = 4280 ; predicted : 1 ; actual : 9\n",
            "At index = 4293 ; predicted : 6 ; actual : 8\n",
            "At index = 4297 ; predicted : 1 ; actual : 7\n",
            "At index = 4301 ; predicted : 9 ; actual : 7\n",
            "At index = 4308 ; predicted : 8 ; actual : 2\n",
            "At index = 4316 ; predicted : 2 ; actual : 8\n",
            "At index = 4322 ; predicted : 4 ; actual : 9\n",
            "At index = 4327 ; predicted : 6 ; actual : 9\n",
            "At index = 4334 ; predicted : 5 ; actual : 9\n",
            "At index = 4341 ; predicted : 6 ; actual : 9\n",
            "At index = 4346 ; predicted : 8 ; actual : 9\n",
            "At index = 4349 ; predicted : 6 ; actual : 9\n",
            "At index = 4352 ; predicted : 7 ; actual : 9\n",
            "At index = 4362 ; predicted : 6 ; actual : 7\n",
            "At index = 4364 ; predicted : 9 ; actual : 4\n",
            "At index = 4365 ; predicted : 2 ; actual : 9\n",
            "At index = 4367 ; predicted : 6 ; actual : 5\n",
            "At index = 4368 ; predicted : 4 ; actual : 9\n",
            "At index = 4373 ; predicted : 5 ; actual : 6\n",
            "At index = 4374 ; predicted : 2 ; actual : 9\n",
            "At index = 4376 ; predicted : 9 ; actual : 6\n",
            "At index = 4383 ; predicted : 2 ; actual : 5\n",
            "At index = 4385 ; predicted : 0 ; actual : 7\n",
            "At index = 4386 ; predicted : 5 ; actual : 2\n",
            "At index = 4390 ; predicted : 0 ; actual : 9\n",
            "At index = 4391 ; predicted : 2 ; actual : 6\n",
            "At index = 4398 ; predicted : 3 ; actual : 6\n",
            "At index = 4403 ; predicted : 2 ; actual : 9\n",
            "At index = 4406 ; predicted : 7 ; actual : 9\n",
            "At index = 4411 ; predicted : 2 ; actual : 9\n",
            "At index = 4413 ; predicted : 6 ; actual : 9\n",
            "At index = 4422 ; predicted : 4 ; actual : 9\n",
            "At index = 4423 ; predicted : 3 ; actual : 4\n",
            "At index = 4424 ; predicted : 5 ; actual : 6\n",
            "At index = 4425 ; predicted : 4 ; actual : 9\n",
            "At index = 4448 ; predicted : 1 ; actual : 6\n",
            "At index = 4452 ; predicted : 9 ; actual : 7\n",
            "At index = 4454 ; predicted : 5 ; actual : 9\n",
            "At index = 4456 ; predicted : 3 ; actual : 9\n",
            "At index = 4457 ; predicted : 7 ; actual : 9\n",
            "At index = 4460 ; predicted : 8 ; actual : 9\n",
            "At index = 4463 ; predicted : 8 ; actual : 9\n",
            "At index = 4466 ; predicted : 5 ; actual : 9\n",
            "At index = 4469 ; predicted : 8 ; actual : 2\n",
            "At index = 4479 ; predicted : 5 ; actual : 9\n",
            "At index = 4483 ; predicted : 5 ; actual : 9\n",
            "At index = 4489 ; predicted : 8 ; actual : 9\n",
            "At index = 4492 ; predicted : 6 ; actual : 0\n",
            "At index = 4493 ; predicted : 1 ; actual : 7\n",
            "At index = 4504 ; predicted : 7 ; actual : 3\n",
            "At index = 4506 ; predicted : 4 ; actual : 9\n",
            "At index = 4520 ; predicted : 2 ; actual : 9\n",
            "At index = 4521 ; predicted : 6 ; actual : 4\n",
            "At index = 4534 ; predicted : 4 ; actual : 6\n",
            "At index = 4540 ; predicted : 6 ; actual : 9\n",
            "At index = 4550 ; predicted : 4 ; actual : 9\n",
            "At index = 4552 ; predicted : 6 ; actual : 9\n",
            "At index = 4556 ; predicted : 5 ; actual : 3\n",
            "At index = 4557 ; predicted : 6 ; actual : 3\n",
            "At index = 4579 ; predicted : 3 ; actual : 5\n",
            "At index = 4582 ; predicted : 1 ; actual : 9\n",
            "At index = 4587 ; predicted : 5 ; actual : 7\n",
            "At index = 4591 ; predicted : 7 ; actual : 3\n",
            "At index = 4597 ; predicted : 6 ; actual : 4\n",
            "At index = 4601 ; predicted : 9 ; actual : 4\n",
            "At index = 4610 ; predicted : 4 ; actual : 0\n",
            "At index = 4618 ; predicted : 6 ; actual : 8\n",
            "At index = 4638 ; predicted : 2 ; actual : 9\n",
            "At index = 4647 ; predicted : 6 ; actual : 9\n",
            "At index = 4649 ; predicted : 4 ; actual : 9\n",
            "At index = 4653 ; predicted : 1 ; actual : 8\n",
            "At index = 4666 ; predicted : 4 ; actual : 5\n",
            "At index = 4668 ; predicted : 4 ; actual : 1\n",
            "At index = 4679 ; predicted : 6 ; actual : 9\n",
            "At index = 4686 ; predicted : 4 ; actual : 9\n",
            "At index = 4689 ; predicted : 9 ; actual : 8\n",
            "At index = 4690 ; predicted : 3 ; actual : 9\n",
            "At index = 4709 ; predicted : 1 ; actual : 9\n",
            "At index = 4715 ; predicted : 2 ; actual : 9\n",
            "At index = 4716 ; predicted : 8 ; actual : 0\n",
            "At index = 4719 ; predicted : 0 ; actual : 7\n",
            "At index = 4727 ; predicted : 4 ; actual : 7\n",
            "At index = 4733 ; predicted : 2 ; actual : 9\n",
            "At index = 4737 ; predicted : 6 ; actual : 1\n",
            "At index = 4739 ; predicted : 1 ; actual : 3\n",
            "At index = 4749 ; predicted : 3 ; actual : 9\n",
            "At index = 4753 ; predicted : 9 ; actual : 5\n",
            "At index = 4758 ; predicted : 0 ; actual : 9\n",
            "At index = 4768 ; predicted : 4 ; actual : 3\n",
            "At index = 4779 ; predicted : 7 ; actual : 0\n",
            "At index = 4791 ; predicted : 9 ; actual : 6\n",
            "At index = 4796 ; predicted : 1 ; actual : 9\n",
            "At index = 4799 ; predicted : 6 ; actual : 9\n",
            "At index = 4813 ; predicted : 1 ; actual : 9\n",
            "At index = 4815 ; predicted : 4 ; actual : 2\n",
            "At index = 4818 ; predicted : 0 ; actual : 7\n",
            "At index = 4839 ; predicted : 7 ; actual : 9\n",
            "At index = 4846 ; predicted : 0 ; actual : 9\n",
            "At index = 4856 ; predicted : 3 ; actual : 9\n",
            "At index = 4859 ; predicted : 6 ; actual : 5\n",
            "At index = 4867 ; predicted : 1 ; actual : 9\n",
            "At index = 4868 ; predicted : 2 ; actual : 9\n",
            "At index = 4874 ; predicted : 8 ; actual : 3\n",
            "At index = 4878 ; predicted : 6 ; actual : 8\n",
            "At index = 4880 ; predicted : 2 ; actual : 9\n",
            "At index = 4891 ; predicted : 1 ; actual : 6\n",
            "At index = 4892 ; predicted : 1 ; actual : 9\n",
            "At index = 4897 ; predicted : 5 ; actual : 0\n",
            "At index = 4899 ; predicted : 2 ; actual : 9\n",
            "At index = 4903 ; predicted : 7 ; actual : 9\n",
            "At index = 4904 ; predicted : 2 ; actual : 9\n",
            "At index = 4913 ; predicted : 2 ; actual : 6\n",
            "At index = 4916 ; predicted : 1 ; actual : 9\n",
            "At index = 4920 ; predicted : 9 ; actual : 4\n",
            "At index = 4924 ; predicted : 2 ; actual : 9\n",
            "At index = 4927 ; predicted : 6 ; actual : 9\n",
            "At index = 4929 ; predicted : 8 ; actual : 9\n",
            "At index = 4931 ; predicted : 7 ; actual : 8\n",
            "At index = 4936 ; predicted : 8 ; actual : 9\n",
            "At index = 4944 ; predicted : 2 ; actual : 9\n",
            "At index = 4950 ; predicted : 1 ; actual : 0\n",
            "At index = 4957 ; predicted : 3 ; actual : 9\n",
            "At index = 4959 ; predicted : 1 ; actual : 9\n",
            "At index = 4960 ; predicted : 6 ; actual : 9\n",
            "At index = 4961 ; predicted : 6 ; actual : 9\n",
            "At index = 4975 ; predicted : 8 ; actual : 9\n",
            "At index = 4992 ; predicted : 2 ; actual : 4\n",
            "At index = 5013 ; predicted : 1 ; actual : 4\n",
            "At index = 5027 ; predicted : 7 ; actual : 3\n",
            "At index = 5029 ; predicted : 4 ; actual : 9\n",
            "At index = 5042 ; predicted : 1 ; actual : 6\n",
            "At index = 5050 ; predicted : 2 ; actual : 9\n",
            "At index = 5051 ; predicted : 1 ; actual : 9\n",
            "At index = 5059 ; predicted : 2 ; actual : 9\n",
            "At index = 5062 ; predicted : 0 ; actual : 9\n",
            "At index = 5063 ; predicted : 3 ; actual : 9\n",
            "At index = 5070 ; predicted : 8 ; actual : 9\n",
            "At index = 5071 ; predicted : 8 ; actual : 9\n",
            "At index = 5091 ; predicted : 7 ; actual : 9\n",
            "At index = 5094 ; predicted : 4 ; actual : 9\n",
            "At index = 5096 ; predicted : 1 ; actual : 9\n",
            "At index = 5100 ; predicted : 9 ; actual : 6\n",
            "At index = 5102 ; predicted : 3 ; actual : 9\n",
            "At index = 5104 ; predicted : 7 ; actual : 1\n",
            "At index = 5108 ; predicted : 2 ; actual : 9\n",
            "At index = 5112 ; predicted : 6 ; actual : 9\n",
            "At index = 5121 ; predicted : 8 ; actual : 4\n",
            "At index = 5134 ; predicted : 1 ; actual : 9\n",
            "At index = 5136 ; predicted : 2 ; actual : 9\n",
            "At index = 5143 ; predicted : 6 ; actual : 9\n",
            "At index = 5150 ; predicted : 5 ; actual : 3\n",
            "At index = 5151 ; predicted : 7 ; actual : 3\n",
            "At index = 5156 ; predicted : 0 ; actual : 9\n",
            "At index = 5158 ; predicted : 5 ; actual : 0\n",
            "At index = 5165 ; predicted : 1 ; actual : 9\n",
            "At index = 5171 ; predicted : 6 ; actual : 9\n",
            "At index = 5172 ; predicted : 2 ; actual : 4\n",
            "At index = 5182 ; predicted : 4 ; actual : 9\n",
            "At index = 5190 ; predicted : 3 ; actual : 4\n",
            "At index = 5206 ; predicted : 2 ; actual : 5\n",
            "At index = 5210 ; predicted : 8 ; actual : 2\n",
            "At index = 5216 ; predicted : 1 ; actual : 9\n",
            "At index = 5217 ; predicted : 3 ; actual : 9\n",
            "At index = 5219 ; predicted : 5 ; actual : 6\n",
            "At index = 5223 ; predicted : 6 ; actual : 4\n",
            "At index = 5225 ; predicted : 7 ; actual : 9\n",
            "At index = 5231 ; predicted : 6 ; actual : 5\n",
            "At index = 5236 ; predicted : 8 ; actual : 7\n",
            "At index = 5243 ; predicted : 6 ; actual : 9\n",
            "At index = 5248 ; predicted : 6 ; actual : 9\n",
            "At index = 5249 ; predicted : 7 ; actual : 9\n",
            "At index = 5258 ; predicted : 4 ; actual : 9\n",
            "At index = 5265 ; predicted : 2 ; actual : 4\n",
            "At index = 5268 ; predicted : 1 ; actual : 9\n",
            "At index = 5269 ; predicted : 1 ; actual : 7\n",
            "At index = 5272 ; predicted : 6 ; actual : 2\n",
            "At index = 5281 ; predicted : 4 ; actual : 9\n",
            "At index = 5287 ; predicted : 3 ; actual : 2\n",
            "At index = 5304 ; predicted : 0 ; actual : 9\n",
            "At index = 5305 ; predicted : 5 ; actual : 4\n",
            "At index = 5307 ; predicted : 6 ; actual : 9\n",
            "At index = 5312 ; predicted : 2 ; actual : 9\n",
            "At index = 5321 ; predicted : 4 ; actual : 9\n",
            "At index = 5326 ; predicted : 3 ; actual : 7\n",
            "At index = 5335 ; predicted : 4 ; actual : 9\n",
            "At index = 5338 ; predicted : 2 ; actual : 9\n",
            "At index = 5343 ; predicted : 2 ; actual : 6\n",
            "At index = 5346 ; predicted : 7 ; actual : 9\n",
            "At index = 5350 ; predicted : 5 ; actual : 9\n",
            "At index = 5353 ; predicted : 0 ; actual : 9\n",
            "At index = 5359 ; predicted : 7 ; actual : 9\n",
            "At index = 5364 ; predicted : 4 ; actual : 9\n",
            "At index = 5365 ; predicted : 7 ; actual : 9\n",
            "At index = 5374 ; predicted : 3 ; actual : 7\n",
            "At index = 5375 ; predicted : 1 ; actual : 9\n",
            "At index = 5377 ; predicted : 1 ; actual : 9\n",
            "At index = 5388 ; predicted : 6 ; actual : 9\n",
            "At index = 5391 ; predicted : 4 ; actual : 9\n",
            "At index = 5392 ; predicted : 2 ; actual : 3\n",
            "At index = 5393 ; predicted : 2 ; actual : 9\n",
            "At index = 5397 ; predicted : 5 ; actual : 9\n",
            "At index = 5400 ; predicted : 8 ; actual : 9\n",
            "At index = 5401 ; predicted : 1 ; actual : 3\n",
            "At index = 5403 ; predicted : 1 ; actual : 3\n",
            "At index = 5407 ; predicted : 6 ; actual : 9\n",
            "At index = 5408 ; predicted : 1 ; actual : 3\n",
            "At index = 5413 ; predicted : 2 ; actual : 6\n",
            "At index = 5417 ; predicted : 4 ; actual : 9\n",
            "At index = 5419 ; predicted : 7 ; actual : 4\n",
            "At index = 5422 ; predicted : 9 ; actual : 4\n",
            "At index = 5437 ; predicted : 4 ; actual : 9\n",
            "At index = 5443 ; predicted : 6 ; actual : 9\n",
            "At index = 5457 ; predicted : 4 ; actual : 9\n",
            "At index = 5458 ; predicted : 7 ; actual : 4\n",
            "At index = 5476 ; predicted : 3 ; actual : 9\n",
            "At index = 5484 ; predicted : 6 ; actual : 9\n",
            "At index = 5489 ; predicted : 2 ; actual : 5\n",
            "At index = 5495 ; predicted : 3 ; actual : 7\n",
            "At index = 5501 ; predicted : 0 ; actual : 9\n",
            "At index = 5504 ; predicted : 3 ; actual : 9\n",
            "At index = 5511 ; predicted : 9 ; actual : 3\n",
            "At index = 5529 ; predicted : 6 ; actual : 3\n",
            "At index = 5530 ; predicted : 1 ; actual : 3\n",
            "At index = 5537 ; predicted : 5 ; actual : 4\n",
            "At index = 5544 ; predicted : 4 ; actual : 9\n",
            "At index = 5555 ; predicted : 6 ; actual : 2\n",
            "At index = 5570 ; predicted : 2 ; actual : 7\n",
            "At index = 5573 ; predicted : 0 ; actual : 9\n",
            "At index = 5575 ; predicted : 6 ; actual : 9\n",
            "At index = 5590 ; predicted : 3 ; actual : 9\n",
            "At index = 5609 ; predicted : 4 ; actual : 2\n",
            "At index = 5610 ; predicted : 1 ; actual : 7\n",
            "At index = 5613 ; predicted : 2 ; actual : 4\n",
            "At index = 5616 ; predicted : 7 ; actual : 0\n",
            "At index = 5622 ; predicted : 5 ; actual : 4\n",
            "At index = 5627 ; predicted : 1 ; actual : 7\n",
            "At index = 5631 ; predicted : 2 ; actual : 8\n",
            "At index = 5634 ; predicted : 5 ; actual : 9\n",
            "At index = 5635 ; predicted : 2 ; actual : 9\n",
            "At index = 5638 ; predicted : 1 ; actual : 9\n",
            "At index = 5645 ; predicted : 6 ; actual : 9\n",
            "At index = 5652 ; predicted : 6 ; actual : 9\n",
            "At index = 5665 ; predicted : 4 ; actual : 9\n",
            "At index = 5667 ; predicted : 6 ; actual : 9\n",
            "At index = 5674 ; predicted : 5 ; actual : 4\n",
            "At index = 5680 ; predicted : 4 ; actual : 9\n",
            "At index = 5681 ; predicted : 4 ; actual : 9\n",
            "At index = 5684 ; predicted : 3 ; actual : 5\n",
            "At index = 5686 ; predicted : 9 ; actual : 0\n",
            "At index = 5689 ; predicted : 6 ; actual : 9\n",
            "At index = 5697 ; predicted : 8 ; actual : 9\n",
            "At index = 5702 ; predicted : 3 ; actual : 9\n",
            "At index = 5707 ; predicted : 8 ; actual : 9\n",
            "At index = 5711 ; predicted : 8 ; actual : 9\n",
            "At index = 5716 ; predicted : 4 ; actual : 9\n",
            "At index = 5722 ; predicted : 5 ; actual : 4\n",
            "At index = 5735 ; predicted : 4 ; actual : 9\n",
            "At index = 5737 ; predicted : 8 ; actual : 9\n",
            "At index = 5740 ; predicted : 4 ; actual : 9\n",
            "At index = 5741 ; predicted : 2 ; actual : 9\n",
            "At index = 5748 ; predicted : 6 ; actual : 9\n",
            "At index = 5754 ; predicted : 4 ; actual : 9\n",
            "At index = 5763 ; predicted : 7 ; actual : 1\n",
            "At index = 5771 ; predicted : 2 ; actual : 9\n",
            "At index = 5774 ; predicted : 2 ; actual : 9\n",
            "At index = 5779 ; predicted : 6 ; actual : 5\n",
            "At index = 5784 ; predicted : 1 ; actual : 0\n",
            "At index = 5785 ; predicted : 5 ; actual : 3\n",
            "At index = 5796 ; predicted : 3 ; actual : 1\n",
            "At index = 5797 ; predicted : 3 ; actual : 1\n",
            "At index = 5798 ; predicted : 0 ; actual : 7\n",
            "At index = 5799 ; predicted : 0 ; actual : 7\n",
            "At index = 5807 ; predicted : 2 ; actual : 9\n",
            "At index = 5809 ; predicted : 7 ; actual : 2\n",
            "At index = 5813 ; predicted : 6 ; actual : 9\n",
            "At index = 5816 ; predicted : 7 ; actual : 4\n",
            "At index = 5819 ; predicted : 1 ; actual : 7\n",
            "At index = 5820 ; predicted : 4 ; actual : 9\n",
            "At index = 5821 ; predicted : 4 ; actual : 9\n",
            "At index = 5822 ; predicted : 5 ; actual : 9\n",
            "At index = 5834 ; predicted : 6 ; actual : 9\n",
            "At index = 5837 ; predicted : 3 ; actual : 9\n",
            "At index = 5844 ; predicted : 5 ; actual : 9\n",
            "At index = 5876 ; predicted : 8 ; actual : 9\n",
            "At index = 5879 ; predicted : 3 ; actual : 7\n",
            "At index = 5886 ; predicted : 8 ; actual : 3\n",
            "At index = 5887 ; predicted : 4 ; actual : 9\n",
            "At index = 5895 ; predicted : 1 ; actual : 9\n",
            "At index = 5904 ; predicted : 4 ; actual : 9\n",
            "At index = 5907 ; predicted : 1 ; actual : 9\n",
            "At index = 5920 ; predicted : 7 ; actual : 4\n",
            "At index = 5922 ; predicted : 3 ; actual : 1\n",
            "At index = 5923 ; predicted : 6 ; actual : 9\n",
            "At index = 5926 ; predicted : 8 ; actual : 9\n",
            "At index = 5927 ; predicted : 7 ; actual : 9\n",
            "At index = 5933 ; predicted : 6 ; actual : 9\n",
            "At index = 5959 ; predicted : 6 ; actual : 9\n",
            "At index = 5960 ; predicted : 6 ; actual : 9\n",
            "At index = 5964 ; predicted : 6 ; actual : 5\n",
            "At index = 5972 ; predicted : 3 ; actual : 9\n",
            "At index = 5983 ; predicted : 6 ; actual : 9\n",
            "At index = 5986 ; predicted : 2 ; actual : 9\n",
            "At index = 6008 ; predicted : 3 ; actual : 8\n",
            "At index = 6018 ; predicted : 2 ; actual : 4\n",
            "At index = 6021 ; predicted : 5 ; actual : 2\n",
            "At index = 6034 ; predicted : 3 ; actual : 9\n",
            "At index = 6047 ; predicted : 0 ; actual : 7\n",
            "At index = 6065 ; predicted : 4 ; actual : 9\n",
            "At index = 6081 ; predicted : 6 ; actual : 9\n",
            "At index = 6088 ; predicted : 6 ; actual : 4\n",
            "At index = 6091 ; predicted : 3 ; actual : 4\n",
            "At index = 6105 ; predicted : 9 ; actual : 4\n",
            "At index = 6122 ; predicted : 6 ; actual : 4\n",
            "At index = 6132 ; predicted : 5 ; actual : 9\n",
            "At index = 6135 ; predicted : 6 ; actual : 9\n",
            "At index = 6138 ; predicted : 4 ; actual : 9\n",
            "At index = 6142 ; predicted : 1 ; actual : 3\n",
            "At index = 6144 ; predicted : 0 ; actual : 9\n",
            "At index = 6167 ; predicted : 7 ; actual : 9\n",
            "At index = 6171 ; predicted : 4 ; actual : 6\n",
            "At index = 6172 ; predicted : 6 ; actual : 9\n",
            "At index = 6175 ; predicted : 5 ; actual : 9\n",
            "At index = 6177 ; predicted : 6 ; actual : 8\n",
            "At index = 6187 ; predicted : 5 ; actual : 3\n",
            "At index = 6206 ; predicted : 5 ; actual : 7\n",
            "At index = 6211 ; predicted : 1 ; actual : 0\n",
            "At index = 6215 ; predicted : 2 ; actual : 6\n",
            "At index = 6216 ; predicted : 0 ; actual : 9\n",
            "At index = 6220 ; predicted : 1 ; actual : 7\n",
            "At index = 6231 ; predicted : 2 ; actual : 6\n",
            "At index = 6242 ; predicted : 8 ; actual : 9\n",
            "At index = 6246 ; predicted : 4 ; actual : 9\n",
            "At index = 6252 ; predicted : 0 ; actual : 9\n",
            "At index = 6254 ; predicted : 8 ; actual : 0\n",
            "At index = 6259 ; predicted : 7 ; actual : 9\n",
            "At index = 6265 ; predicted : 2 ; actual : 9\n",
            "At index = 6268 ; predicted : 1 ; actual : 9\n",
            "At index = 6272 ; predicted : 7 ; actual : 9\n",
            "At index = 6273 ; predicted : 1 ; actual : 3\n",
            "At index = 6275 ; predicted : 4 ; actual : 9\n",
            "At index = 6292 ; predicted : 8 ; actual : 2\n",
            "At index = 6305 ; predicted : 6 ; actual : 9\n",
            "At index = 6307 ; predicted : 1 ; actual : 7\n",
            "At index = 6313 ; predicted : 3 ; actual : 9\n",
            "At index = 6318 ; predicted : 8 ; actual : 9\n",
            "At index = 6319 ; predicted : 0 ; actual : 4\n",
            "At index = 6324 ; predicted : 1 ; actual : 3\n",
            "At index = 6329 ; predicted : 6 ; actual : 9\n",
            "At index = 6332 ; predicted : 6 ; actual : 9\n",
            "At index = 6341 ; predicted : 6 ; actual : 8\n",
            "At index = 6350 ; predicted : 6 ; actual : 9\n",
            "At index = 6366 ; predicted : 1 ; actual : 6\n",
            "At index = 6371 ; predicted : 8 ; actual : 9\n",
            "At index = 6377 ; predicted : 9 ; actual : 4\n",
            "At index = 6379 ; predicted : 6 ; actual : 9\n",
            "At index = 6384 ; predicted : 1 ; actual : 4\n",
            "At index = 6385 ; predicted : 5 ; actual : 3\n",
            "At index = 6386 ; predicted : 2 ; actual : 7\n",
            "At index = 6387 ; predicted : 3 ; actual : 5\n",
            "At index = 6389 ; predicted : 3 ; actual : 9\n",
            "At index = 6397 ; predicted : 2 ; actual : 9\n",
            "At index = 6399 ; predicted : 3 ; actual : 1\n",
            "At index = 6402 ; predicted : 2 ; actual : 9\n",
            "At index = 6415 ; predicted : 2 ; actual : 3\n",
            "At index = 6420 ; predicted : 8 ; actual : 9\n",
            "At index = 6423 ; predicted : 3 ; actual : 9\n",
            "At index = 6424 ; predicted : 5 ; actual : 8\n",
            "At index = 6427 ; predicted : 0 ; actual : 5\n",
            "At index = 6448 ; predicted : 4 ; actual : 9\n",
            "At index = 6453 ; predicted : 9 ; actual : 8\n",
            "At index = 6463 ; predicted : 2 ; actual : 1\n",
            "At index = 6467 ; predicted : 4 ; actual : 0\n",
            "At index = 6468 ; predicted : 0 ; actual : 6\n",
            "At index = 6472 ; predicted : 6 ; actual : 2\n",
            "At index = 6474 ; predicted : 9 ; actual : 2\n",
            "At index = 6477 ; predicted : 2 ; actual : 3\n",
            "At index = 6488 ; predicted : 6 ; actual : 4\n",
            "At index = 6493 ; predicted : 8 ; actual : 9\n",
            "At index = 6498 ; predicted : 7 ; actual : 0\n",
            "At index = 6504 ; predicted : 4 ; actual : 9\n",
            "At index = 6513 ; predicted : 8 ; actual : 6\n",
            "At index = 6514 ; predicted : 8 ; actual : 9\n",
            "At index = 6518 ; predicted : 0 ; actual : 7\n",
            "At index = 6519 ; predicted : 6 ; actual : 4\n",
            "At index = 6523 ; predicted : 4 ; actual : 3\n",
            "At index = 6529 ; predicted : 1 ; actual : 9\n",
            "At index = 6540 ; predicted : 3 ; actual : 6\n",
            "At index = 6545 ; predicted : 9 ; actual : 6\n",
            "At index = 6547 ; predicted : 5 ; actual : 9\n",
            "At index = 6552 ; predicted : 4 ; actual : 9\n",
            "At index = 6554 ; predicted : 4 ; actual : 9\n",
            "At index = 6559 ; predicted : 1 ; actual : 7\n",
            "At index = 6561 ; predicted : 0 ; actual : 9\n",
            "At index = 6563 ; predicted : 8 ; actual : 9\n",
            "At index = 6567 ; predicted : 7 ; actual : 9\n",
            "At index = 6575 ; predicted : 4 ; actual : 5\n",
            "At index = 6585 ; predicted : 3 ; actual : 7\n",
            "At index = 6606 ; predicted : 4 ; actual : 9\n",
            "At index = 6608 ; predicted : 6 ; actual : 5\n",
            "At index = 6614 ; predicted : 2 ; actual : 9\n",
            "At index = 6615 ; predicted : 6 ; actual : 9\n",
            "At index = 6618 ; predicted : 7 ; actual : 1\n",
            "At index = 6622 ; predicted : 2 ; actual : 6\n",
            "At index = 6638 ; predicted : 6 ; actual : 5\n",
            "At index = 6646 ; predicted : 4 ; actual : 9\n",
            "At index = 6664 ; predicted : 8 ; actual : 9\n",
            "At index = 6667 ; predicted : 2 ; actual : 8\n",
            "At index = 6673 ; predicted : 7 ; actual : 9\n",
            "At index = 6683 ; predicted : 1 ; actual : 9\n",
            "At index = 6685 ; predicted : 1 ; actual : 8\n",
            "At index = 6695 ; predicted : 6 ; actual : 9\n",
            "At index = 6698 ; predicted : 6 ; actual : 9\n",
            "At index = 6702 ; predicted : 4 ; actual : 0\n",
            "At index = 6703 ; predicted : 5 ; actual : 0\n",
            "At index = 6704 ; predicted : 3 ; actual : 2\n",
            "At index = 6710 ; predicted : 1 ; actual : 8\n",
            "At index = 6722 ; predicted : 2 ; actual : 6\n",
            "At index = 6725 ; predicted : 1 ; actual : 7\n",
            "At index = 6728 ; predicted : 6 ; actual : 9\n",
            "At index = 6737 ; predicted : 4 ; actual : 2\n",
            "At index = 6738 ; predicted : 7 ; actual : 9\n",
            "At index = 6741 ; predicted : 0 ; actual : 9\n",
            "At index = 6746 ; predicted : 2 ; actual : 9\n",
            "At index = 6747 ; predicted : 2 ; actual : 9\n",
            "At index = 6750 ; predicted : 3 ; actual : 0\n",
            "At index = 6752 ; predicted : 6 ; actual : 4\n",
            "At index = 6755 ; predicted : 4 ; actual : 6\n",
            "At index = 6773 ; predicted : 5 ; actual : 9\n",
            "At index = 6774 ; predicted : 1 ; actual : 7\n",
            "At index = 6789 ; predicted : 0 ; actual : 9\n",
            "At index = 6793 ; predicted : 2 ; actual : 4\n",
            "At index = 6796 ; predicted : 3 ; actual : 9\n",
            "At index = 6824 ; predicted : 3 ; actual : 9\n",
            "At index = 6829 ; predicted : 6 ; actual : 5\n",
            "At index = 6838 ; predicted : 0 ; actual : 7\n",
            "At index = 6841 ; predicted : 2 ; actual : 9\n",
            "At index = 6842 ; predicted : 7 ; actual : 9\n",
            "At index = 6855 ; predicted : 1 ; actual : 0\n",
            "At index = 6861 ; predicted : 4 ; actual : 2\n",
            "At index = 6871 ; predicted : 2 ; actual : 1\n",
            "At index = 6873 ; predicted : 5 ; actual : 4\n",
            "At index = 6893 ; predicted : 7 ; actual : 1\n",
            "At index = 6894 ; predicted : 2 ; actual : 3\n",
            "At index = 6905 ; predicted : 8 ; actual : 9\n",
            "At index = 6908 ; predicted : 4 ; actual : 9\n",
            "At index = 6925 ; predicted : 0 ; actual : 9\n",
            "At index = 6926 ; predicted : 5 ; actual : 4\n",
            "At index = 6929 ; predicted : 3 ; actual : 9\n",
            "At index = 6936 ; predicted : 2 ; actual : 3\n",
            "At index = 6967 ; predicted : 3 ; actual : 8\n",
            "At index = 6968 ; predicted : 8 ; actual : 7\n",
            "At index = 6972 ; predicted : 7 ; actual : 9\n",
            "At index = 6974 ; predicted : 2 ; actual : 4\n",
            "At index = 6988 ; predicted : 4 ; actual : 2\n",
            "At index = 7000 ; predicted : 4 ; actual : 9\n",
            "At index = 7002 ; predicted : 5 ; actual : 9\n",
            "At index = 7003 ; predicted : 8 ; actual : 9\n",
            "At index = 7012 ; predicted : 1 ; actual : 9\n",
            "At index = 7014 ; predicted : 3 ; actual : 5\n",
            "At index = 7016 ; predicted : 1 ; actual : 3\n",
            "At index = 7024 ; predicted : 4 ; actual : 9\n",
            "At index = 7036 ; predicted : 0 ; actual : 9\n",
            "At index = 7037 ; predicted : 0 ; actual : 9\n",
            "At index = 7038 ; predicted : 4 ; actual : 9\n",
            "At index = 7042 ; predicted : 0 ; actual : 9\n",
            "At index = 7045 ; predicted : 4 ; actual : 9\n",
            "At index = 7047 ; predicted : 7 ; actual : 9\n",
            "At index = 7052 ; predicted : 5 ; actual : 9\n",
            "At index = 7054 ; predicted : 1 ; actual : 3\n",
            "At index = 7064 ; predicted : 7 ; actual : 9\n",
            "At index = 7065 ; predicted : 6 ; actual : 9\n",
            "At index = 7066 ; predicted : 4 ; actual : 2\n",
            "At index = 7072 ; predicted : 6 ; actual : 9\n",
            "At index = 7078 ; predicted : 0 ; actual : 9\n",
            "At index = 7079 ; predicted : 4 ; actual : 9\n",
            "At index = 7081 ; predicted : 0 ; actual : 9\n",
            "At index = 7090 ; predicted : 2 ; actual : 1\n",
            "At index = 7097 ; predicted : 7 ; actual : 1\n",
            "At index = 7108 ; predicted : 4 ; actual : 9\n",
            "At index = 7110 ; predicted : 1 ; actual : 9\n",
            "At index = 7115 ; predicted : 3 ; actual : 2\n",
            "At index = 7118 ; predicted : 3 ; actual : 7\n",
            "At index = 7130 ; predicted : 1 ; actual : 6\n",
            "At index = 7132 ; predicted : 4 ; actual : 9\n",
            "At index = 7137 ; predicted : 2 ; actual : 9\n",
            "At index = 7141 ; predicted : 8 ; actual : 1\n",
            "At index = 7144 ; predicted : 9 ; actual : 6\n",
            "At index = 7155 ; predicted : 2 ; actual : 4\n",
            "At index = 7160 ; predicted : 6 ; actual : 5\n",
            "At index = 7166 ; predicted : 2 ; actual : 5\n",
            "At index = 7168 ; predicted : 9 ; actual : 5\n",
            "At index = 7169 ; predicted : 1 ; actual : 4\n",
            "At index = 7171 ; predicted : 1 ; actual : 9\n",
            "At index = 7175 ; predicted : 5 ; actual : 9\n",
            "At index = 7185 ; predicted : 2 ; actual : 4\n",
            "At index = 7186 ; predicted : 4 ; actual : 3\n",
            "At index = 7188 ; predicted : 8 ; actual : 9\n",
            "At index = 7196 ; predicted : 1 ; actual : 9\n",
            "At index = 7198 ; predicted : 7 ; actual : 6\n",
            "At index = 7201 ; predicted : 8 ; actual : 4\n",
            "At index = 7204 ; predicted : 0 ; actual : 9\n",
            "At index = 7206 ; predicted : 2 ; actual : 1\n",
            "At index = 7208 ; predicted : 2 ; actual : 9\n",
            "At index = 7211 ; predicted : 2 ; actual : 9\n",
            "At index = 7212 ; predicted : 8 ; actual : 9\n",
            "At index = 7224 ; predicted : 4 ; actual : 5\n",
            "At index = 7227 ; predicted : 8 ; actual : 9\n",
            "At index = 7263 ; predicted : 2 ; actual : 4\n",
            "At index = 7269 ; predicted : 8 ; actual : 1\n",
            "At index = 7281 ; predicted : 4 ; actual : 9\n",
            "At index = 7283 ; predicted : 4 ; actual : 9\n",
            "At index = 7284 ; predicted : 2 ; actual : 1\n",
            "At index = 7289 ; predicted : 0 ; actual : 9\n",
            "At index = 7290 ; predicted : 5 ; actual : 3\n",
            "At index = 7291 ; predicted : 1 ; actual : 7\n",
            "At index = 7293 ; predicted : 3 ; actual : 4\n",
            "At index = 7296 ; predicted : 9 ; actual : 5\n",
            "At index = 7303 ; predicted : 6 ; actual : 8\n",
            "At index = 7309 ; predicted : 2 ; actual : 4\n",
            "At index = 7314 ; predicted : 8 ; actual : 9\n",
            "At index = 7316 ; predicted : 4 ; actual : 9\n",
            "At index = 7318 ; predicted : 5 ; actual : 4\n",
            "At index = 7323 ; predicted : 1 ; actual : 9\n",
            "At index = 7325 ; predicted : 1 ; actual : 9\n",
            "At index = 7330 ; predicted : 4 ; actual : 9\n",
            "At index = 7331 ; predicted : 5 ; actual : 7\n",
            "At index = 7332 ; predicted : 0 ; actual : 9\n",
            "At index = 7335 ; predicted : 2 ; actual : 9\n",
            "At index = 7338 ; predicted : 3 ; actual : 8\n",
            "At index = 7340 ; predicted : 5 ; actual : 0\n",
            "At index = 7344 ; predicted : 1 ; actual : 9\n",
            "At index = 7353 ; predicted : 6 ; actual : 9\n",
            "At index = 7361 ; predicted : 1 ; actual : 9\n",
            "At index = 7363 ; predicted : 3 ; actual : 9\n",
            "At index = 7364 ; predicted : 6 ; actual : 4\n",
            "At index = 7366 ; predicted : 4 ; actual : 9\n",
            "At index = 7370 ; predicted : 8 ; actual : 9\n",
            "At index = 7376 ; predicted : 0 ; actual : 9\n",
            "At index = 7378 ; predicted : 6 ; actual : 9\n",
            "At index = 7381 ; predicted : 2 ; actual : 6\n",
            "At index = 7388 ; predicted : 8 ; actual : 9\n",
            "At index = 7398 ; predicted : 5 ; actual : 9\n",
            "At index = 7399 ; predicted : 1 ; actual : 7\n",
            "At index = 7404 ; predicted : 7 ; actual : 0\n",
            "At index = 7410 ; predicted : 6 ; actual : 9\n",
            "At index = 7412 ; predicted : 1 ; actual : 5\n",
            "At index = 7425 ; predicted : 7 ; actual : 9\n",
            "At index = 7436 ; predicted : 2 ; actual : 9\n",
            "At index = 7438 ; predicted : 6 ; actual : 9\n",
            "At index = 7440 ; predicted : 2 ; actual : 9\n",
            "At index = 7441 ; predicted : 5 ; actual : 4\n",
            "At index = 7445 ; predicted : 6 ; actual : 9\n",
            "At index = 7447 ; predicted : 2 ; actual : 6\n",
            "At index = 7454 ; predicted : 3 ; actual : 9\n",
            "At index = 7467 ; predicted : 4 ; actual : 9\n",
            "At index = 7475 ; predicted : 4 ; actual : 9\n",
            "At index = 7483 ; predicted : 8 ; actual : 6\n",
            "At index = 7485 ; predicted : 2 ; actual : 9\n",
            "At index = 7486 ; predicted : 8 ; actual : 9\n",
            "At index = 7487 ; predicted : 0 ; actual : 9\n",
            "At index = 7490 ; predicted : 1 ; actual : 3\n",
            "At index = 7496 ; predicted : 8 ; actual : 6\n",
            "At index = 7497 ; predicted : 4 ; actual : 9\n",
            "At index = 7501 ; predicted : 6 ; actual : 9\n",
            "At index = 7506 ; predicted : 2 ; actual : 3\n",
            "At index = 7509 ; predicted : 1 ; actual : 6\n",
            "At index = 7514 ; predicted : 6 ; actual : 9\n",
            "At index = 7523 ; predicted : 3 ; actual : 1\n",
            "At index = 7525 ; predicted : 2 ; actual : 9\n",
            "At index = 7527 ; predicted : 4 ; actual : 9\n",
            "At index = 7534 ; predicted : 4 ; actual : 9\n",
            "At index = 7543 ; predicted : 3 ; actual : 7\n",
            "At index = 7551 ; predicted : 4 ; actual : 9\n",
            "At index = 7552 ; predicted : 5 ; actual : 9\n",
            "At index = 7570 ; predicted : 0 ; actual : 9\n",
            "At index = 7571 ; predicted : 2 ; actual : 3\n",
            "At index = 7577 ; predicted : 4 ; actual : 1\n",
            "At index = 7579 ; predicted : 9 ; actual : 7\n",
            "At index = 7581 ; predicted : 9 ; actual : 5\n",
            "At index = 7584 ; predicted : 8 ; actual : 9\n",
            "At index = 7586 ; predicted : 6 ; actual : 9\n",
            "At index = 7591 ; predicted : 7 ; actual : 9\n",
            "At index = 7594 ; predicted : 3 ; actual : 9\n",
            "At index = 7605 ; predicted : 6 ; actual : 5\n",
            "At index = 7610 ; predicted : 2 ; actual : 9\n",
            "At index = 7612 ; predicted : 7 ; actual : 9\n",
            "At index = 7616 ; predicted : 9 ; actual : 0\n",
            "At index = 7627 ; predicted : 4 ; actual : 9\n",
            "At index = 7631 ; predicted : 3 ; actual : 9\n",
            "At index = 7632 ; predicted : 5 ; actual : 9\n",
            "At index = 7650 ; predicted : 6 ; actual : 9\n",
            "At index = 7652 ; predicted : 7 ; actual : 0\n",
            "At index = 7662 ; predicted : 4 ; actual : 9\n",
            "At index = 7668 ; predicted : 2 ; actual : 7\n",
            "At index = 7670 ; predicted : 8 ; actual : 2\n",
            "At index = 7674 ; predicted : 1 ; actual : 0\n",
            "At index = 7677 ; predicted : 0 ; actual : 9\n",
            "At index = 7679 ; predicted : 3 ; actual : 9\n",
            "At index = 7680 ; predicted : 6 ; actual : 2\n",
            "At index = 7684 ; predicted : 1 ; actual : 9\n",
            "At index = 7685 ; predicted : 9 ; actual : 0\n",
            "At index = 7699 ; predicted : 2 ; actual : 9\n",
            "At index = 7704 ; predicted : 1 ; actual : 7\n",
            "At index = 7706 ; predicted : 2 ; actual : 6\n",
            "At index = 7713 ; predicted : 3 ; actual : 9\n",
            "At index = 7715 ; predicted : 8 ; actual : 4\n",
            "At index = 7717 ; predicted : 4 ; actual : 9\n",
            "At index = 7725 ; predicted : 5 ; actual : 7\n",
            "At index = 7728 ; predicted : 4 ; actual : 6\n",
            "At index = 7730 ; predicted : 0 ; actual : 9\n",
            "At index = 7732 ; predicted : 7 ; actual : 4\n",
            "At index = 7737 ; predicted : 4 ; actual : 9\n",
            "At index = 7740 ; predicted : 6 ; actual : 9\n",
            "At index = 7744 ; predicted : 9 ; actual : 1\n",
            "At index = 7747 ; predicted : 8 ; actual : 0\n",
            "At index = 7751 ; predicted : 4 ; actual : 9\n",
            "At index = 7752 ; predicted : 5 ; actual : 9\n",
            "At index = 7756 ; predicted : 1 ; actual : 3\n",
            "At index = 7764 ; predicted : 3 ; actual : 9\n",
            "At index = 7767 ; predicted : 5 ; actual : 9\n",
            "At index = 7773 ; predicted : 8 ; actual : 9\n",
            "At index = 7779 ; predicted : 4 ; actual : 9\n",
            "At index = 7784 ; predicted : 7 ; actual : 9\n",
            "At index = 7787 ; predicted : 8 ; actual : 5\n",
            "At index = 7792 ; predicted : 1 ; actual : 8\n",
            "At index = 7793 ; predicted : 3 ; actual : 1\n",
            "At index = 7795 ; predicted : 6 ; actual : 9\n",
            "At index = 7809 ; predicted : 2 ; actual : 9\n",
            "At index = 7813 ; predicted : 6 ; actual : 9\n",
            "At index = 7816 ; predicted : 4 ; actual : 9\n",
            "At index = 7817 ; predicted : 1 ; actual : 9\n",
            "At index = 7823 ; predicted : 2 ; actual : 9\n",
            "At index = 7829 ; predicted : 6 ; actual : 9\n",
            "At index = 7834 ; predicted : 2 ; actual : 4\n",
            "At index = 7837 ; predicted : 1 ; actual : 8\n",
            "At index = 7840 ; predicted : 8 ; actual : 7\n",
            "At index = 7846 ; predicted : 4 ; actual : 9\n",
            "At index = 7848 ; predicted : 6 ; actual : 9\n",
            "At index = 7849 ; predicted : 6 ; actual : 9\n",
            "At index = 7851 ; predicted : 8 ; actual : 9\n",
            "At index = 7857 ; predicted : 4 ; actual : 9\n",
            "At index = 7864 ; predicted : 0 ; actual : 9\n",
            "At index = 7867 ; predicted : 2 ; actual : 6\n",
            "At index = 7868 ; predicted : 4 ; actual : 9\n",
            "At index = 7878 ; predicted : 1 ; actual : 9\n",
            "At index = 7884 ; predicted : 1 ; actual : 7\n",
            "At index = 7899 ; predicted : 0 ; actual : 7\n",
            "At index = 7908 ; predicted : 6 ; actual : 9\n",
            "At index = 7909 ; predicted : 1 ; actual : 7\n",
            "At index = 7912 ; predicted : 0 ; actual : 9\n",
            "At index = 7915 ; predicted : 6 ; actual : 1\n",
            "At index = 7920 ; predicted : 6 ; actual : 9\n",
            "At index = 7921 ; predicted : 2 ; actual : 9\n",
            "At index = 7927 ; predicted : 9 ; actual : 6\n",
            "At index = 7931 ; predicted : 4 ; actual : 7\n",
            "At index = 7941 ; predicted : 8 ; actual : 0\n",
            "At index = 7942 ; predicted : 1 ; actual : 9\n",
            "At index = 7947 ; predicted : 3 ; actual : 9\n",
            "At index = 7962 ; predicted : 1 ; actual : 9\n",
            "At index = 7968 ; predicted : 2 ; actual : 9\n",
            "At index = 7971 ; predicted : 9 ; actual : 1\n",
            "At index = 7988 ; predicted : 0 ; actual : 9\n",
            "At index = 7991 ; predicted : 1 ; actual : 3\n",
            "At index = 8007 ; predicted : 6 ; actual : 1\n",
            "At index = 8009 ; predicted : 1 ; actual : 7\n",
            "At index = 8010 ; predicted : 6 ; actual : 9\n",
            "At index = 8025 ; predicted : 0 ; actual : 7\n",
            "At index = 8027 ; predicted : 7 ; actual : 9\n",
            "At index = 8038 ; predicted : 9 ; actual : 4\n",
            "At index = 8042 ; predicted : 3 ; actual : 6\n",
            "At index = 8049 ; predicted : 2 ; actual : 9\n",
            "At index = 8060 ; predicted : 1 ; actual : 3\n",
            "At index = 8068 ; predicted : 5 ; actual : 4\n",
            "At index = 8070 ; predicted : 2 ; actual : 6\n",
            "At index = 8075 ; predicted : 6 ; actual : 9\n",
            "At index = 8082 ; predicted : 5 ; actual : 9\n",
            "At index = 8083 ; predicted : 3 ; actual : 9\n",
            "At index = 8090 ; predicted : 5 ; actual : 4\n",
            "At index = 8093 ; predicted : 4 ; actual : 3\n",
            "At index = 8099 ; predicted : 9 ; actual : 8\n",
            "At index = 8104 ; predicted : 1 ; actual : 0\n",
            "At index = 8108 ; predicted : 7 ; actual : 5\n",
            "At index = 8111 ; predicted : 9 ; actual : 5\n",
            "At index = 8139 ; predicted : 5 ; actual : 7\n",
            "At index = 8142 ; predicted : 5 ; actual : 9\n",
            "At index = 8149 ; predicted : 8 ; actual : 4\n",
            "At index = 8153 ; predicted : 1 ; actual : 3\n",
            "At index = 8163 ; predicted : 2 ; actual : 9\n",
            "At index = 8165 ; predicted : 4 ; actual : 9\n",
            "At index = 8177 ; predicted : 2 ; actual : 5\n",
            "At index = 8183 ; predicted : 7 ; actual : 9\n",
            "At index = 8204 ; predicted : 7 ; actual : 9\n",
            "At index = 8205 ; predicted : 8 ; actual : 6\n",
            "At index = 8213 ; predicted : 1 ; actual : 7\n",
            "At index = 8223 ; predicted : 1 ; actual : 9\n",
            "At index = 8224 ; predicted : 2 ; actual : 9\n",
            "At index = 8236 ; predicted : 7 ; actual : 1\n",
            "At index = 8245 ; predicted : 6 ; actual : 9\n",
            "At index = 8251 ; predicted : 1 ; actual : 9\n",
            "At index = 8256 ; predicted : 5 ; actual : 9\n",
            "At index = 8264 ; predicted : 2 ; actual : 7\n",
            "At index = 8265 ; predicted : 7 ; actual : 9\n",
            "At index = 8271 ; predicted : 2 ; actual : 5\n",
            "At index = 8287 ; predicted : 6 ; actual : 9\n",
            "At index = 8288 ; predicted : 0 ; actual : 9\n",
            "At index = 8293 ; predicted : 0 ; actual : 7\n",
            "At index = 8294 ; predicted : 1 ; actual : 9\n",
            "At index = 8301 ; predicted : 1 ; actual : 9\n",
            "At index = 8312 ; predicted : 7 ; actual : 2\n",
            "At index = 8316 ; predicted : 2 ; actual : 4\n",
            "At index = 8320 ; predicted : 6 ; actual : 9\n",
            "At index = 8335 ; predicted : 4 ; actual : 9\n",
            "At index = 8338 ; predicted : 8 ; actual : 6\n",
            "At index = 8341 ; predicted : 7 ; actual : 9\n",
            "At index = 8345 ; predicted : 1 ; actual : 9\n",
            "At index = 8350 ; predicted : 4 ; actual : 9\n",
            "At index = 8361 ; predicted : 3 ; actual : 7\n",
            "At index = 8363 ; predicted : 1 ; actual : 9\n",
            "At index = 8368 ; predicted : 4 ; actual : 6\n",
            "At index = 8371 ; predicted : 6 ; actual : 2\n",
            "At index = 8376 ; predicted : 1 ; actual : 7\n",
            "At index = 8381 ; predicted : 6 ; actual : 0\n",
            "At index = 8383 ; predicted : 1 ; actual : 3\n",
            "At index = 8384 ; predicted : 4 ; actual : 5\n",
            "At index = 8387 ; predicted : 7 ; actual : 9\n",
            "At index = 8391 ; predicted : 6 ; actual : 5\n",
            "At index = 8404 ; predicted : 9 ; actual : 0\n",
            "At index = 8416 ; predicted : 3 ; actual : 2\n",
            "At index = 8417 ; predicted : 4 ; actual : 9\n",
            "At index = 8418 ; predicted : 8 ; actual : 9\n",
            "At index = 8423 ; predicted : 1 ; actual : 8\n",
            "At index = 8431 ; predicted : 2 ; actual : 6\n",
            "At index = 8433 ; predicted : 4 ; actual : 2\n",
            "At index = 8434 ; predicted : 7 ; actual : 9\n",
            "At index = 8451 ; predicted : 4 ; actual : 9\n",
            "At index = 8452 ; predicted : 7 ; actual : 2\n",
            "At index = 8461 ; predicted : 3 ; actual : 5\n",
            "At index = 8471 ; predicted : 8 ; actual : 9\n",
            "At index = 8477 ; predicted : 1 ; actual : 9\n",
            "At index = 8505 ; predicted : 3 ; actual : 5\n",
            "At index = 8508 ; predicted : 7 ; actual : 3\n",
            "At index = 8510 ; predicted : 2 ; actual : 9\n",
            "At index = 8522 ; predicted : 4 ; actual : 9\n",
            "At index = 8526 ; predicted : 3 ; actual : 9\n",
            "At index = 8533 ; predicted : 1 ; actual : 6\n",
            "At index = 8535 ; predicted : 2 ; actual : 9\n",
            "At index = 8548 ; predicted : 1 ; actual : 9\n",
            "At index = 8549 ; predicted : 8 ; actual : 9\n",
            "At index = 8559 ; predicted : 6 ; actual : 9\n",
            "At index = 8570 ; predicted : 4 ; actual : 9\n",
            "At index = 8574 ; predicted : 2 ; actual : 7\n",
            "At index = 8582 ; predicted : 2 ; actual : 5\n",
            "At index = 8585 ; predicted : 1 ; actual : 3\n",
            "At index = 8586 ; predicted : 2 ; actual : 9\n",
            "At index = 8590 ; predicted : 6 ; actual : 9\n",
            "At index = 8592 ; predicted : 2 ; actual : 3\n",
            "At index = 8600 ; predicted : 4 ; actual : 7\n",
            "At index = 8603 ; predicted : 6 ; actual : 9\n",
            "At index = 8610 ; predicted : 8 ; actual : 2\n",
            "At index = 8619 ; predicted : 2 ; actual : 9\n",
            "At index = 8623 ; predicted : 7 ; actual : 9\n",
            "At index = 8637 ; predicted : 6 ; actual : 9\n",
            "At index = 8641 ; predicted : 3 ; actual : 7\n",
            "At index = 8648 ; predicted : 3 ; actual : 7\n",
            "At index = 8661 ; predicted : 8 ; actual : 9\n",
            "At index = 8681 ; predicted : 6 ; actual : 9\n",
            "At index = 8684 ; predicted : 4 ; actual : 5\n",
            "At index = 8691 ; predicted : 2 ; actual : 3\n",
            "At index = 8698 ; predicted : 6 ; actual : 4\n",
            "At index = 8715 ; predicted : 1 ; actual : 3\n",
            "At index = 8716 ; predicted : 4 ; actual : 9\n",
            "At index = 8717 ; predicted : 6 ; actual : 9\n",
            "At index = 8721 ; predicted : 5 ; actual : 4\n",
            "At index = 8730 ; predicted : 1 ; actual : 6\n",
            "At index = 8732 ; predicted : 1 ; actual : 9\n",
            "At index = 8735 ; predicted : 2 ; actual : 4\n",
            "At index = 8750 ; predicted : 3 ; actual : 9\n",
            "At index = 8758 ; predicted : 7 ; actual : 9\n",
            "At index = 8759 ; predicted : 5 ; actual : 0\n",
            "At index = 8763 ; predicted : 7 ; actual : 9\n",
            "At index = 8767 ; predicted : 1 ; actual : 7\n",
            "At index = 8770 ; predicted : 5 ; actual : 9\n",
            "At index = 8771 ; predicted : 2 ; actual : 9\n",
            "At index = 8792 ; predicted : 2 ; actual : 8\n",
            "At index = 8797 ; predicted : 1 ; actual : 9\n",
            "At index = 8804 ; predicted : 6 ; actual : 9\n",
            "At index = 8809 ; predicted : 6 ; actual : 4\n",
            "At index = 8817 ; predicted : 2 ; actual : 6\n",
            "At index = 8819 ; predicted : 3 ; actual : 9\n",
            "At index = 8825 ; predicted : 7 ; actual : 9\n",
            "At index = 8830 ; predicted : 2 ; actual : 7\n",
            "At index = 8831 ; predicted : 1 ; actual : 9\n",
            "At index = 8832 ; predicted : 0 ; actual : 9\n",
            "At index = 8838 ; predicted : 7 ; actual : 3\n",
            "At index = 8839 ; predicted : 7 ; actual : 2\n",
            "At index = 8840 ; predicted : 1 ; actual : 3\n",
            "At index = 8846 ; predicted : 7 ; actual : 1\n",
            "At index = 8849 ; predicted : 2 ; actual : 4\n",
            "At index = 8850 ; predicted : 6 ; actual : 8\n",
            "At index = 8856 ; predicted : 2 ; actual : 9\n",
            "At index = 8869 ; predicted : 2 ; actual : 9\n",
            "At index = 8871 ; predicted : 8 ; actual : 6\n",
            "At index = 8873 ; predicted : 0 ; actual : 9\n",
            "At index = 8880 ; predicted : 8 ; actual : 9\n",
            "At index = 8885 ; predicted : 2 ; actual : 9\n",
            "At index = 8900 ; predicted : 0 ; actual : 9\n",
            "At index = 8903 ; predicted : 1 ; actual : 7\n",
            "At index = 8910 ; predicted : 8 ; actual : 6\n",
            "At index = 8913 ; predicted : 8 ; actual : 9\n",
            "At index = 8916 ; predicted : 6 ; actual : 2\n",
            "At index = 8923 ; predicted : 5 ; actual : 2\n",
            "At index = 8924 ; predicted : 3 ; actual : 5\n",
            "At index = 8925 ; predicted : 3 ; actual : 9\n",
            "At index = 8926 ; predicted : 0 ; actual : 9\n",
            "At index = 8946 ; predicted : 3 ; actual : 9\n",
            "At index = 8951 ; predicted : 4 ; actual : 9\n",
            "At index = 8953 ; predicted : 3 ; actual : 5\n",
            "At index = 8954 ; predicted : 4 ; actual : 9\n",
            "At index = 8957 ; predicted : 2 ; actual : 3\n",
            "At index = 8959 ; predicted : 1 ; actual : 3\n",
            "At index = 8971 ; predicted : 7 ; actual : 9\n",
            "At index = 8982 ; predicted : 5 ; actual : 0\n",
            "At index = 8983 ; predicted : 9 ; actual : 8\n",
            "At index = 8991 ; predicted : 5 ; actual : 3\n",
            "At index = 8994 ; predicted : 6 ; actual : 9\n",
            "At index = 8999 ; predicted : 4 ; actual : 9\n",
            "At index = 9007 ; predicted : 9 ; actual : 4\n",
            "At index = 9018 ; predicted : 6 ; actual : 9\n",
            "At index = 9022 ; predicted : 8 ; actual : 9\n",
            "At index = 9038 ; predicted : 1 ; actual : 9\n",
            "At index = 9039 ; predicted : 5 ; actual : 9\n",
            "At index = 9048 ; predicted : 6 ; actual : 9\n",
            "At index = 9057 ; predicted : 1 ; actual : 9\n",
            "At index = 9058 ; predicted : 6 ; actual : 9\n",
            "At index = 9060 ; predicted : 5 ; actual : 3\n",
            "At index = 9063 ; predicted : 2 ; actual : 6\n",
            "At index = 9067 ; predicted : 5 ; actual : 2\n",
            "At index = 9072 ; predicted : 2 ; actual : 5\n",
            "At index = 9078 ; predicted : 1 ; actual : 9\n",
            "At index = 9080 ; predicted : 7 ; actual : 9\n",
            "At index = 9081 ; predicted : 5 ; actual : 2\n",
            "At index = 9089 ; predicted : 5 ; actual : 9\n",
            "At index = 9092 ; predicted : 1 ; actual : 7\n",
            "At index = 9094 ; predicted : 8 ; actual : 6\n",
            "At index = 9097 ; predicted : 8 ; actual : 6\n",
            "At index = 9098 ; predicted : 9 ; actual : 6\n",
            "At index = 9101 ; predicted : 6 ; actual : 3\n",
            "At index = 9103 ; predicted : 4 ; actual : 2\n",
            "At index = 9107 ; predicted : 9 ; actual : 4\n",
            "At index = 9109 ; predicted : 1 ; actual : 9\n",
            "At index = 9111 ; predicted : 2 ; actual : 9\n",
            "At index = 9115 ; predicted : 6 ; actual : 2\n",
            "At index = 9116 ; predicted : 2 ; actual : 9\n",
            "At index = 9121 ; predicted : 6 ; actual : 9\n",
            "At index = 9128 ; predicted : 2 ; actual : 9\n",
            "At index = 9135 ; predicted : 6 ; actual : 9\n",
            "At index = 9145 ; predicted : 1 ; actual : 7\n",
            "At index = 9152 ; predicted : 5 ; actual : 4\n",
            "At index = 9154 ; predicted : 4 ; actual : 1\n",
            "At index = 9157 ; predicted : 4 ; actual : 3\n",
            "At index = 9162 ; predicted : 8 ; actual : 7\n",
            "At index = 9164 ; predicted : 7 ; actual : 0\n",
            "At index = 9171 ; predicted : 2 ; actual : 6\n",
            "At index = 9177 ; predicted : 4 ; actual : 2\n",
            "At index = 9180 ; predicted : 2 ; actual : 5\n",
            "At index = 9181 ; predicted : 6 ; actual : 4\n",
            "At index = 9185 ; predicted : 0 ; actual : 7\n",
            "At index = 9188 ; predicted : 2 ; actual : 9\n",
            "At index = 9190 ; predicted : 1 ; actual : 5\n",
            "At index = 9192 ; predicted : 3 ; actual : 9\n",
            "At index = 9207 ; predicted : 8 ; actual : 5\n",
            "At index = 9211 ; predicted : 1 ; actual : 7\n",
            "At index = 9256 ; predicted : 6 ; actual : 5\n",
            "At index = 9257 ; predicted : 3 ; actual : 9\n",
            "At index = 9268 ; predicted : 1 ; actual : 0\n",
            "At index = 9269 ; predicted : 1 ; actual : 9\n",
            "At index = 9271 ; predicted : 3 ; actual : 5\n",
            "At index = 9272 ; predicted : 7 ; actual : 3\n",
            "At index = 9275 ; predicted : 7 ; actual : 9\n",
            "At index = 9290 ; predicted : 3 ; actual : 8\n",
            "At index = 9316 ; predicted : 2 ; actual : 3\n",
            "At index = 9319 ; predicted : 7 ; actual : 1\n",
            "At index = 9329 ; predicted : 0 ; actual : 9\n",
            "At index = 9333 ; predicted : 6 ; actual : 9\n",
            "At index = 9334 ; predicted : 2 ; actual : 6\n",
            "At index = 9341 ; predicted : 1 ; actual : 3\n",
            "At index = 9345 ; predicted : 6 ; actual : 9\n",
            "At index = 9356 ; predicted : 2 ; actual : 4\n",
            "At index = 9357 ; predicted : 7 ; actual : 9\n",
            "At index = 9368 ; predicted : 1 ; actual : 8\n",
            "At index = 9382 ; predicted : 5 ; actual : 9\n",
            "At index = 9385 ; predicted : 8 ; actual : 9\n",
            "At index = 9387 ; predicted : 7 ; actual : 9\n",
            "At index = 9389 ; predicted : 3 ; actual : 9\n",
            "At index = 9390 ; predicted : 6 ; actual : 9\n",
            "At index = 9395 ; predicted : 3 ; actual : 9\n",
            "At index = 9398 ; predicted : 4 ; actual : 9\n",
            "At index = 9399 ; predicted : 1 ; actual : 8\n",
            "At index = 9401 ; predicted : 6 ; actual : 4\n",
            "At index = 9402 ; predicted : 1 ; actual : 3\n",
            "At index = 9415 ; predicted : 4 ; actual : 9\n",
            "At index = 9418 ; predicted : 7 ; actual : 9\n",
            "At index = 9436 ; predicted : 4 ; actual : 9\n",
            "At index = 9437 ; predicted : 5 ; actual : 1\n",
            "At index = 9441 ; predicted : 8 ; actual : 2\n",
            "At index = 9442 ; predicted : 5 ; actual : 6\n",
            "At index = 9443 ; predicted : 6 ; actual : 9\n",
            "At index = 9466 ; predicted : 1 ; actual : 9\n",
            "At index = 9475 ; predicted : 0 ; actual : 7\n",
            "At index = 9478 ; predicted : 4 ; actual : 6\n",
            "At index = 9482 ; predicted : 4 ; actual : 9\n",
            "At index = 9486 ; predicted : 3 ; actual : 9\n",
            "At index = 9491 ; predicted : 7 ; actual : 9\n",
            "At index = 9492 ; predicted : 4 ; actual : 6\n",
            "At index = 9509 ; predicted : 2 ; actual : 9\n",
            "At index = 9515 ; predicted : 9 ; actual : 4\n",
            "At index = 9517 ; predicted : 7 ; actual : 9\n",
            "At index = 9518 ; predicted : 4 ; actual : 2\n",
            "At index = 9519 ; predicted : 2 ; actual : 9\n",
            "At index = 9521 ; predicted : 2 ; actual : 4\n",
            "At index = 9533 ; predicted : 9 ; actual : 7\n",
            "At index = 9538 ; predicted : 8 ; actual : 9\n",
            "At index = 9539 ; predicted : 7 ; actual : 9\n",
            "At index = 9544 ; predicted : 9 ; actual : 6\n",
            "At index = 9550 ; predicted : 5 ; actual : 3\n",
            "At index = 9558 ; predicted : 3 ; actual : 7\n",
            "At index = 9560 ; predicted : 2 ; actual : 6\n",
            "At index = 9567 ; predicted : 5 ; actual : 9\n",
            "At index = 9573 ; predicted : 6 ; actual : 9\n",
            "At index = 9576 ; predicted : 6 ; actual : 3\n",
            "At index = 9591 ; predicted : 4 ; actual : 9\n",
            "At index = 9616 ; predicted : 8 ; actual : 5\n",
            "At index = 9635 ; predicted : 3 ; actual : 7\n",
            "At index = 9640 ; predicted : 3 ; actual : 9\n",
            "At index = 9643 ; predicted : 2 ; actual : 6\n",
            "At index = 9647 ; predicted : 1 ; actual : 9\n",
            "At index = 9653 ; predicted : 1 ; actual : 7\n",
            "At index = 9656 ; predicted : 8 ; actual : 9\n",
            "At index = 9657 ; predicted : 2 ; actual : 9\n",
            "At index = 9662 ; predicted : 6 ; actual : 9\n",
            "At index = 9663 ; predicted : 5 ; actual : 6\n",
            "At index = 9674 ; predicted : 5 ; actual : 2\n",
            "At index = 9675 ; predicted : 8 ; actual : 3\n",
            "At index = 9679 ; predicted : 1 ; actual : 7\n",
            "At index = 9680 ; predicted : 4 ; actual : 3\n",
            "At index = 9684 ; predicted : 9 ; actual : 6\n",
            "At index = 9688 ; predicted : 9 ; actual : 3\n",
            "At index = 9704 ; predicted : 9 ; actual : 0\n",
            "At index = 9705 ; predicted : 2 ; actual : 6\n",
            "At index = 9708 ; predicted : 6 ; actual : 9\n",
            "At index = 9728 ; predicted : 1 ; actual : 9\n",
            "At index = 9735 ; predicted : 2 ; actual : 9\n",
            "At index = 9738 ; predicted : 1 ; actual : 3\n",
            "At index = 9740 ; predicted : 9 ; actual : 4\n",
            "At index = 9748 ; predicted : 9 ; actual : 4\n",
            "At index = 9749 ; predicted : 1 ; actual : 3\n",
            "At index = 9755 ; predicted : 7 ; actual : 4\n",
            "At index = 9756 ; predicted : 8 ; actual : 1\n",
            "At index = 9766 ; predicted : 7 ; actual : 5\n",
            "At index = 9768 ; predicted : 8 ; actual : 9\n",
            "At index = 9773 ; predicted : 1 ; actual : 7\n",
            "At index = 9774 ; predicted : 6 ; actual : 9\n",
            "At index = 9779 ; predicted : 6 ; actual : 7\n",
            "At index = 9784 ; predicted : 5 ; actual : 3\n",
            "At index = 9800 ; predicted : 3 ; actual : 2\n",
            "At index = 9810 ; predicted : 3 ; actual : 1\n",
            "At index = 9821 ; predicted : 9 ; actual : 4\n",
            "At index = 9822 ; predicted : 3 ; actual : 9\n",
            "At index = 9831 ; predicted : 5 ; actual : 4\n",
            "At index = 9837 ; predicted : 3 ; actual : 1\n",
            "At index = 9838 ; predicted : 5 ; actual : 9\n",
            "At index = 9840 ; predicted : 6 ; actual : 9\n",
            "At index = 9849 ; predicted : 3 ; actual : 7\n",
            "At index = 9857 ; predicted : 4 ; actual : 9\n",
            "At index = 9860 ; predicted : 8 ; actual : 9\n",
            "At index = 9861 ; predicted : 1 ; actual : 2\n",
            "At index = 9874 ; predicted : 6 ; actual : 4\n",
            "At index = 9875 ; predicted : 6 ; actual : 9\n",
            "At index = 9885 ; predicted : 8 ; actual : 2\n",
            "At index = 9897 ; predicted : 9 ; actual : 3\n",
            "At index = 9902 ; predicted : 7 ; actual : 9\n",
            "At index = 9912 ; predicted : 2 ; actual : 6\n",
            "At index = 9918 ; predicted : 1 ; actual : 9\n",
            "At index = 9937 ; predicted : 5 ; actual : 6\n",
            "At index = 9943 ; predicted : 7 ; actual : 9\n",
            "At index = 9946 ; predicted : 6 ; actual : 9\n",
            "At index = 9951 ; predicted : 5 ; actual : 9\n",
            "At index = 9952 ; predicted : 6 ; actual : 9\n",
            "At index = 9954 ; predicted : 5 ; actual : 8\n",
            "At index = 9956 ; predicted : 3 ; actual : 1\n",
            "At index = 9957 ; predicted : 5 ; actual : 6\n",
            "At index = 9958 ; predicted : 6 ; actual : 9\n",
            "At index = 9961 ; predicted : 9 ; actual : 3\n",
            "At index = 9968 ; predicted : 6 ; actual : 9\n",
            "At index = 9972 ; predicted : 7 ; actual : 2\n",
            "At index = 9974 ; predicted : 0 ; actual : 7\n",
            "At index = 9977 ; predicted : 1 ; actual : 4\n",
            "At index = 9988 ; predicted : 4 ; actual : 2\n",
            "At index = 9993 ; predicted : 6 ; actual : 9\n",
            "At index = 10000 ; predicted : 1 ; actual : 7\n",
            "At index = 10020 ; predicted : 0 ; actual : 3\n",
            "At index = 10028 ; predicted : 6 ; actual : 4\n",
            "At index = 10039 ; predicted : 2 ; actual : 5\n",
            "At index = 10048 ; predicted : 7 ; actual : 9\n",
            "At index = 10051 ; predicted : 9 ; actual : 4\n",
            "At index = 10053 ; predicted : 2 ; actual : 9\n",
            "At index = 10059 ; predicted : 2 ; actual : 9\n",
            "At index = 10060 ; predicted : 4 ; actual : 9\n",
            "At index = 10070 ; predicted : 6 ; actual : 9\n",
            "At index = 10076 ; predicted : 2 ; actual : 9\n",
            "At index = 10083 ; predicted : 6 ; actual : 9\n",
            "At index = 10089 ; predicted : 6 ; actual : 9\n",
            "At index = 10091 ; predicted : 4 ; actual : 7\n",
            "At index = 10097 ; predicted : 2 ; actual : 6\n",
            "At index = 10102 ; predicted : 6 ; actual : 9\n",
            "At index = 10110 ; predicted : 4 ; actual : 9\n",
            "At index = 10111 ; predicted : 2 ; actual : 3\n",
            "At index = 10113 ; predicted : 8 ; actual : 9\n",
            "At index = 10114 ; predicted : 4 ; actual : 9\n",
            "At index = 10119 ; predicted : 1 ; actual : 7\n",
            "At index = 10126 ; predicted : 5 ; actual : 9\n",
            "At index = 10129 ; predicted : 7 ; actual : 8\n",
            "At index = 10139 ; predicted : 6 ; actual : 9\n",
            "At index = 10141 ; predicted : 4 ; actual : 9\n",
            "At index = 10145 ; predicted : 6 ; actual : 3\n",
            "At index = 10149 ; predicted : 2 ; actual : 4\n",
            "At index = 10153 ; predicted : 6 ; actual : 9\n",
            "At index = 10155 ; predicted : 4 ; actual : 9\n",
            "At index = 10163 ; predicted : 6 ; actual : 9\n",
            "At index = 10165 ; predicted : 7 ; actual : 9\n",
            "At index = 10166 ; predicted : 2 ; actual : 9\n",
            "At index = 10170 ; predicted : 5 ; actual : 7\n",
            "At index = 10181 ; predicted : 8 ; actual : 9\n",
            "At index = 10193 ; predicted : 3 ; actual : 5\n",
            "At index = 10197 ; predicted : 7 ; actual : 9\n",
            "At index = 10198 ; predicted : 6 ; actual : 9\n",
            "At index = 10210 ; predicted : 9 ; actual : 3\n",
            "At index = 10222 ; predicted : 6 ; actual : 2\n",
            "At index = 10229 ; predicted : 0 ; actual : 9\n",
            "At index = 10255 ; predicted : 4 ; actual : 7\n",
            "At index = 10260 ; predicted : 1 ; actual : 3\n",
            "At index = 10274 ; predicted : 4 ; actual : 9\n",
            "At index = 10278 ; predicted : 4 ; actual : 6\n",
            "At index = 10288 ; predicted : 1 ; actual : 3\n",
            "At index = 10289 ; predicted : 5 ; actual : 9\n",
            "At index = 10302 ; predicted : 1 ; actual : 9\n",
            "At index = 10310 ; predicted : 7 ; actual : 1\n",
            "At index = 10319 ; predicted : 3 ; actual : 2\n",
            "At index = 10328 ; predicted : 0 ; actual : 9\n",
            "At index = 10329 ; predicted : 9 ; actual : 3\n",
            "At index = 10337 ; predicted : 5 ; actual : 9\n",
            "At index = 10356 ; predicted : 1 ; actual : 4\n",
            "At index = 10360 ; predicted : 1 ; actual : 9\n",
            "At index = 10373 ; predicted : 0 ; actual : 9\n",
            "At index = 10377 ; predicted : 6 ; actual : 9\n",
            "At index = 10378 ; predicted : 1 ; actual : 4\n",
            "At index = 10382 ; predicted : 4 ; actual : 2\n",
            "At index = 10383 ; predicted : 0 ; actual : 9\n",
            "At index = 10384 ; predicted : 2 ; actual : 9\n",
            "At index = 10402 ; predicted : 6 ; actual : 2\n",
            "At index = 10416 ; predicted : 1 ; actual : 7\n",
            "At index = 10419 ; predicted : 2 ; actual : 6\n",
            "At index = 10420 ; predicted : 1 ; actual : 9\n",
            "At index = 10421 ; predicted : 2 ; actual : 4\n",
            "At index = 10422 ; predicted : 6 ; actual : 9\n",
            "At index = 10426 ; predicted : 4 ; actual : 5\n",
            "At index = 10432 ; predicted : 4 ; actual : 9\n",
            "At index = 10454 ; predicted : 7 ; actual : 9\n",
            "At index = 10458 ; predicted : 7 ; actual : 2\n",
            "At index = 10467 ; predicted : 6 ; actual : 9\n",
            "At index = 10468 ; predicted : 4 ; actual : 0\n",
            "At index = 10470 ; predicted : 9 ; actual : 4\n",
            "At index = 10471 ; predicted : 1 ; actual : 4\n",
            "At index = 10473 ; predicted : 7 ; actual : 1\n",
            "At index = 10474 ; predicted : 4 ; actual : 9\n",
            "At index = 10477 ; predicted : 4 ; actual : 9\n",
            "At index = 10485 ; predicted : 5 ; actual : 4\n",
            "At index = 10491 ; predicted : 6 ; actual : 2\n",
            "At index = 10506 ; predicted : 6 ; actual : 8\n",
            "At index = 10511 ; predicted : 5 ; actual : 9\n",
            "At index = 10526 ; predicted : 5 ; actual : 9\n",
            "At index = 10532 ; predicted : 3 ; actual : 7\n",
            "At index = 10535 ; predicted : 8 ; actual : 9\n",
            "At index = 10545 ; predicted : 6 ; actual : 2\n",
            "At index = 10548 ; predicted : 1 ; actual : 5\n",
            "At index = 10551 ; predicted : 2 ; actual : 9\n",
            "At index = 10552 ; predicted : 2 ; actual : 9\n",
            "At index = 10555 ; predicted : 3 ; actual : 7\n",
            "At index = 10565 ; predicted : 4 ; actual : 9\n",
            "At index = 10568 ; predicted : 1 ; actual : 3\n",
            "At index = 10571 ; predicted : 6 ; actual : 9\n",
            "At index = 10581 ; predicted : 8 ; actual : 0\n",
            "At index = 10582 ; predicted : 6 ; actual : 5\n",
            "At index = 10585 ; predicted : 9 ; actual : 3\n",
            "At index = 10592 ; predicted : 2 ; actual : 1\n",
            "At index = 10595 ; predicted : 7 ; actual : 9\n",
            "At index = 10598 ; predicted : 7 ; actual : 9\n",
            "At index = 10602 ; predicted : 3 ; actual : 5\n",
            "At index = 10609 ; predicted : 7 ; actual : 9\n",
            "At index = 10613 ; predicted : 1 ; actual : 5\n",
            "At index = 10637 ; predicted : 1 ; actual : 7\n",
            "At index = 10638 ; predicted : 6 ; actual : 9\n",
            "At index = 10642 ; predicted : 3 ; actual : 2\n",
            "At index = 10647 ; predicted : 3 ; actual : 2\n",
            "At index = 10651 ; predicted : 8 ; actual : 9\n",
            "At index = 10653 ; predicted : 9 ; actual : 6\n",
            "At index = 10656 ; predicted : 8 ; actual : 7\n",
            "At index = 10662 ; predicted : 6 ; actual : 5\n",
            "At index = 10663 ; predicted : 7 ; actual : 9\n",
            "At index = 10666 ; predicted : 1 ; actual : 9\n",
            "At index = 10668 ; predicted : 7 ; actual : 9\n",
            "At index = 10670 ; predicted : 2 ; actual : 7\n",
            "At index = 10674 ; predicted : 2 ; actual : 6\n",
            "At index = 10678 ; predicted : 5 ; actual : 3\n",
            "At index = 10681 ; predicted : 8 ; actual : 7\n",
            "At index = 10686 ; predicted : 4 ; actual : 6\n",
            "At index = 10688 ; predicted : 6 ; actual : 9\n",
            "At index = 10692 ; predicted : 4 ; actual : 5\n",
            "At index = 10699 ; predicted : 2 ; actual : 6\n",
            "At index = 10706 ; predicted : 3 ; actual : 9\n",
            "At index = 10707 ; predicted : 7 ; actual : 9\n",
            "At index = 10709 ; predicted : 0 ; actual : 9\n",
            "At index = 10738 ; predicted : 1 ; actual : 9\n",
            "At index = 10740 ; predicted : 2 ; actual : 9\n",
            "At index = 10748 ; predicted : 8 ; actual : 9\n",
            "At index = 10752 ; predicted : 1 ; actual : 9\n",
            "At index = 10757 ; predicted : 3 ; actual : 9\n",
            "At index = 10758 ; predicted : 2 ; actual : 7\n",
            "At index = 10770 ; predicted : 5 ; actual : 6\n",
            "At index = 10781 ; predicted : 2 ; actual : 7\n",
            "At index = 10793 ; predicted : 1 ; actual : 5\n",
            "At index = 10805 ; predicted : 4 ; actual : 1\n",
            "At index = 10807 ; predicted : 3 ; actual : 9\n",
            "At index = 10809 ; predicted : 0 ; actual : 9\n",
            "At index = 10818 ; predicted : 5 ; actual : 4\n",
            "At index = 10820 ; predicted : 3 ; actual : 9\n",
            "At index = 10832 ; predicted : 2 ; actual : 9\n",
            "At index = 10834 ; predicted : 7 ; actual : 9\n",
            "At index = 10843 ; predicted : 7 ; actual : 0\n",
            "At index = 10849 ; predicted : 0 ; actual : 7\n",
            "At index = 10850 ; predicted : 2 ; actual : 6\n",
            "At index = 10862 ; predicted : 1 ; actual : 3\n",
            "At index = 10863 ; predicted : 2 ; actual : 9\n",
            "At index = 10867 ; predicted : 5 ; actual : 9\n",
            "At index = 10868 ; predicted : 6 ; actual : 9\n",
            "At index = 10871 ; predicted : 2 ; actual : 8\n",
            "At index = 10873 ; predicted : 4 ; actual : 9\n",
            "At index = 10893 ; predicted : 8 ; actual : 2\n",
            "At index = 10896 ; predicted : 5 ; actual : 9\n",
            "At index = 10900 ; predicted : 6 ; actual : 9\n",
            "At index = 10905 ; predicted : 7 ; actual : 9\n",
            "At index = 10907 ; predicted : 2 ; actual : 9\n",
            "At index = 10910 ; predicted : 2 ; actual : 9\n",
            "At index = 10932 ; predicted : 3 ; actual : 4\n",
            "At index = 10934 ; predicted : 9 ; actual : 5\n",
            "At index = 10939 ; predicted : 5 ; actual : 9\n",
            "At index = 10945 ; predicted : 2 ; actual : 4\n",
            "At index = 10950 ; predicted : 1 ; actual : 9\n",
            "At index = 10953 ; predicted : 4 ; actual : 9\n",
            "At index = 10958 ; predicted : 8 ; actual : 4\n",
            "At index = 10959 ; predicted : 1 ; actual : 9\n",
            "At index = 10963 ; predicted : 3 ; actual : 9\n",
            "At index = 10968 ; predicted : 4 ; actual : 9\n",
            "At index = 10969 ; predicted : 2 ; actual : 4\n",
            "At index = 10972 ; predicted : 2 ; actual : 9\n",
            "At index = 10976 ; predicted : 9 ; actual : 4\n",
            "At index = 10982 ; predicted : 2 ; actual : 9\n",
            "At index = 10983 ; predicted : 8 ; actual : 9\n",
            "At index = 10998 ; predicted : 3 ; actual : 1\n",
            "At index = 11007 ; predicted : 8 ; actual : 9\n",
            "At index = 11010 ; predicted : 8 ; actual : 3\n",
            "At index = 11018 ; predicted : 3 ; actual : 9\n",
            "At index = 11028 ; predicted : 3 ; actual : 2\n",
            "At index = 11033 ; predicted : 1 ; actual : 7\n",
            "At index = 11035 ; predicted : 1 ; actual : 7\n",
            "At index = 11036 ; predicted : 6 ; actual : 5\n",
            "At index = 11045 ; predicted : 1 ; actual : 3\n",
            "At index = 11049 ; predicted : 6 ; actual : 9\n",
            "At index = 11050 ; predicted : 1 ; actual : 7\n",
            "At index = 11051 ; predicted : 0 ; actual : 1\n",
            "At index = 11059 ; predicted : 7 ; actual : 9\n",
            "At index = 11062 ; predicted : 2 ; actual : 9\n",
            "At index = 11070 ; predicted : 2 ; actual : 9\n",
            "At index = 11071 ; predicted : 2 ; actual : 9\n",
            "At index = 11076 ; predicted : 5 ; actual : 3\n",
            "At index = 11084 ; predicted : 3 ; actual : 9\n",
            "At index = 11107 ; predicted : 9 ; actual : 4\n",
            "At index = 11109 ; predicted : 7 ; actual : 9\n",
            "At index = 11117 ; predicted : 6 ; actual : 9\n",
            "At index = 11128 ; predicted : 5 ; actual : 7\n",
            "At index = 11135 ; predicted : 2 ; actual : 3\n",
            "At index = 11156 ; predicted : 7 ; actual : 1\n",
            "At index = 11163 ; predicted : 7 ; actual : 9\n",
            "At index = 11165 ; predicted : 7 ; actual : 8\n",
            "At index = 11167 ; predicted : 8 ; actual : 5\n",
            "At index = 11171 ; predicted : 1 ; actual : 7\n",
            "At index = 11178 ; predicted : 1 ; actual : 9\n",
            "At index = 11180 ; predicted : 2 ; actual : 6\n",
            "At index = 11193 ; predicted : 3 ; actual : 7\n",
            "At index = 11215 ; predicted : 8 ; actual : 9\n",
            "At index = 11226 ; predicted : 5 ; actual : 9\n",
            "At index = 11231 ; predicted : 9 ; actual : 2\n",
            "At index = 11247 ; predicted : 3 ; actual : 1\n",
            "At index = 11253 ; predicted : 5 ; actual : 3\n",
            "At index = 11256 ; predicted : 2 ; actual : 9\n",
            "At index = 11259 ; predicted : 7 ; actual : 9\n",
            "At index = 11271 ; predicted : 0 ; actual : 4\n",
            "At index = 11272 ; predicted : 1 ; actual : 7\n",
            "At index = 11287 ; predicted : 8 ; actual : 9\n",
            "At index = 11295 ; predicted : 2 ; actual : 4\n",
            "At index = 11304 ; predicted : 1 ; actual : 9\n",
            "At index = 11308 ; predicted : 6 ; actual : 9\n",
            "At index = 11314 ; predicted : 4 ; actual : 9\n",
            "At index = 11315 ; predicted : 1 ; actual : 6\n",
            "At index = 11318 ; predicted : 4 ; actual : 9\n",
            "At index = 11319 ; predicted : 8 ; actual : 6\n",
            "At index = 11320 ; predicted : 0 ; actual : 7\n",
            "At index = 11325 ; predicted : 1 ; actual : 3\n",
            "At index = 11329 ; predicted : 7 ; actual : 9\n",
            "At index = 11333 ; predicted : 7 ; actual : 9\n",
            "At index = 11338 ; predicted : 8 ; actual : 1\n",
            "At index = 11340 ; predicted : 2 ; actual : 9\n",
            "At index = 11342 ; predicted : 5 ; actual : 4\n",
            "At index = 11346 ; predicted : 3 ; actual : 7\n",
            "At index = 11347 ; predicted : 1 ; actual : 7\n",
            "At index = 11353 ; predicted : 4 ; actual : 9\n",
            "At index = 11363 ; predicted : 3 ; actual : 9\n",
            "At index = 11373 ; predicted : 2 ; actual : 9\n",
            "At index = 11377 ; predicted : 5 ; actual : 4\n",
            "At index = 11401 ; predicted : 5 ; actual : 9\n",
            "At index = 11402 ; predicted : 4 ; actual : 2\n",
            "At index = 11403 ; predicted : 4 ; actual : 9\n",
            "At index = 11407 ; predicted : 1 ; actual : 7\n",
            "At index = 11415 ; predicted : 8 ; actual : 9\n",
            "At index = 11417 ; predicted : 5 ; actual : 6\n",
            "At index = 11418 ; predicted : 8 ; actual : 2\n",
            "At index = 11421 ; predicted : 1 ; actual : 2\n",
            "At index = 11426 ; predicted : 8 ; actual : 9\n",
            "At index = 11427 ; predicted : 0 ; actual : 9\n",
            "At index = 11431 ; predicted : 1 ; actual : 7\n",
            "At index = 11435 ; predicted : 4 ; actual : 2\n",
            "At index = 11444 ; predicted : 8 ; actual : 9\n",
            "At index = 11446 ; predicted : 0 ; actual : 4\n",
            "At index = 11455 ; predicted : 4 ; actual : 9\n",
            "At index = 11475 ; predicted : 1 ; actual : 0\n",
            "At index = 11477 ; predicted : 7 ; actual : 3\n",
            "At index = 11478 ; predicted : 4 ; actual : 6\n",
            "At index = 11485 ; predicted : 8 ; actual : 6\n",
            "At index = 11486 ; predicted : 2 ; actual : 9\n",
            "At index = 11502 ; predicted : 2 ; actual : 8\n",
            "At index = 11506 ; predicted : 7 ; actual : 9\n",
            "At index = 11507 ; predicted : 7 ; actual : 3\n",
            "At index = 11512 ; predicted : 9 ; actual : 3\n",
            "At index = 11513 ; predicted : 7 ; actual : 1\n",
            "At index = 11515 ; predicted : 7 ; actual : 9\n",
            "At index = 11524 ; predicted : 9 ; actual : 4\n",
            "At index = 11530 ; predicted : 8 ; actual : 6\n",
            "At index = 11535 ; predicted : 2 ; actual : 9\n",
            "At index = 11536 ; predicted : 1 ; actual : 9\n",
            "At index = 11547 ; predicted : 7 ; actual : 9\n",
            "At index = 11550 ; predicted : 4 ; actual : 5\n",
            "At index = 11551 ; predicted : 4 ; actual : 9\n",
            "At index = 11555 ; predicted : 6 ; actual : 9\n",
            "At index = 11559 ; predicted : 2 ; actual : 6\n",
            "At index = 11580 ; predicted : 4 ; actual : 9\n",
            "At index = 11583 ; predicted : 0 ; actual : 1\n",
            "At index = 11584 ; predicted : 5 ; actual : 9\n",
            "At index = 11587 ; predicted : 5 ; actual : 7\n",
            "At index = 11601 ; predicted : 8 ; actual : 9\n",
            "At index = 11602 ; predicted : 9 ; actual : 1\n",
            "At index = 11609 ; predicted : 1 ; actual : 7\n",
            "At index = 11628 ; predicted : 2 ; actual : 9\n",
            "At index = 11638 ; predicted : 1 ; actual : 8\n",
            "At index = 11642 ; predicted : 7 ; actual : 9\n",
            "At index = 11652 ; predicted : 5 ; actual : 3\n",
            "At index = 11658 ; predicted : 1 ; actual : 9\n",
            "At index = 11671 ; predicted : 8 ; actual : 9\n",
            "At index = 11676 ; predicted : 7 ; actual : 1\n",
            "At index = 11677 ; predicted : 2 ; actual : 3\n",
            "At index = 11678 ; predicted : 3 ; actual : 9\n",
            "At index = 11680 ; predicted : 0 ; actual : 9\n",
            "At index = 11684 ; predicted : 2 ; actual : 6\n",
            "At index = 11685 ; predicted : 2 ; actual : 9\n",
            "At index = 11700 ; predicted : 7 ; actual : 9\n",
            "At index = 11713 ; predicted : 5 ; actual : 4\n",
            "At index = 11715 ; predicted : 4 ; actual : 9\n",
            "At index = 11719 ; predicted : 7 ; actual : 9\n",
            "At index = 11730 ; predicted : 6 ; actual : 9\n",
            "At index = 11735 ; predicted : 7 ; actual : 6\n",
            "At index = 11740 ; predicted : 5 ; actual : 6\n",
            "At index = 11744 ; predicted : 4 ; actual : 2\n",
            "At index = 11745 ; predicted : 1 ; actual : 7\n",
            "At index = 11747 ; predicted : 1 ; actual : 9\n",
            "At index = 11756 ; predicted : 7 ; actual : 5\n",
            "At index = 11757 ; predicted : 8 ; actual : 0\n",
            "At index = 11764 ; predicted : 5 ; actual : 6\n",
            "At index = 11791 ; predicted : 6 ; actual : 2\n",
            "At index = 11794 ; predicted : 1 ; actual : 7\n",
            "At index = 11795 ; predicted : 3 ; actual : 9\n",
            "At index = 11796 ; predicted : 3 ; actual : 5\n",
            "At index = 11802 ; predicted : 6 ; actual : 9\n",
            "At index = 11805 ; predicted : 6 ; actual : 9\n",
            "At index = 11811 ; predicted : 4 ; actual : 9\n",
            "At index = 11816 ; predicted : 5 ; actual : 9\n",
            "At index = 11821 ; predicted : 5 ; actual : 9\n",
            "At index = 11830 ; predicted : 1 ; actual : 6\n",
            "At index = 11834 ; predicted : 9 ; actual : 5\n",
            "At index = 11845 ; predicted : 6 ; actual : 2\n",
            "At index = 11847 ; predicted : 8 ; actual : 9\n",
            "At index = 11858 ; predicted : 4 ; actual : 6\n",
            "At index = 11861 ; predicted : 2 ; actual : 9\n",
            "At index = 11863 ; predicted : 5 ; actual : 4\n",
            "At index = 11868 ; predicted : 6 ; actual : 9\n",
            "At index = 11874 ; predicted : 3 ; actual : 9\n",
            "At index = 11877 ; predicted : 4 ; actual : 9\n",
            "At index = 11882 ; predicted : 3 ; actual : 4\n",
            "At index = 11883 ; predicted : 0 ; actual : 7\n",
            "At index = 11893 ; predicted : 6 ; actual : 9\n",
            "At index = 11894 ; predicted : 2 ; actual : 9\n",
            "At index = 11901 ; predicted : 4 ; actual : 9\n",
            "At index = 11913 ; predicted : 9 ; actual : 3\n",
            "At index = 11916 ; predicted : 1 ; actual : 3\n",
            "At index = 11925 ; predicted : 2 ; actual : 5\n",
            "At index = 11929 ; predicted : 2 ; actual : 6\n",
            "At index = 11932 ; predicted : 1 ; actual : 2\n",
            "At index = 11937 ; predicted : 2 ; actual : 9\n",
            "At index = 11948 ; predicted : 1 ; actual : 7\n",
            "At index = 11964 ; predicted : 7 ; actual : 9\n",
            "At index = 11968 ; predicted : 5 ; actual : 9\n",
            "At index = 11977 ; predicted : 4 ; actual : 9\n",
            "At index = 11980 ; predicted : 6 ; actual : 5\n",
            "At index = 11984 ; predicted : 9 ; actual : 3\n",
            "At index = 11996 ; predicted : 5 ; actual : 6\n",
            "At index = 12005 ; predicted : 5 ; actual : 9\n",
            "At index = 12007 ; predicted : 3 ; actual : 9\n",
            "At index = 12009 ; predicted : 5 ; actual : 9\n",
            "At index = 12011 ; predicted : 4 ; actual : 0\n",
            "At index = 12027 ; predicted : 7 ; actual : 9\n",
            "At index = 12029 ; predicted : 1 ; actual : 3\n",
            "At index = 12031 ; predicted : 4 ; actual : 1\n",
            "At index = 12043 ; predicted : 7 ; actual : 9\n",
            "At index = 12062 ; predicted : 6 ; actual : 9\n",
            "At index = 12065 ; predicted : 6 ; actual : 9\n",
            "At index = 12070 ; predicted : 5 ; actual : 0\n",
            "At index = 12082 ; predicted : 8 ; actual : 9\n",
            "At index = 12088 ; predicted : 2 ; actual : 5\n",
            "At index = 12093 ; predicted : 1 ; actual : 3\n",
            "At index = 12097 ; predicted : 2 ; actual : 3\n",
            "At index = 12100 ; predicted : 6 ; actual : 9\n",
            "At index = 12101 ; predicted : 1 ; actual : 9\n",
            "At index = 12108 ; predicted : 5 ; actual : 9\n",
            "At index = 12111 ; predicted : 1 ; actual : 9\n",
            "At index = 12114 ; predicted : 1 ; actual : 7\n",
            "At index = 12115 ; predicted : 1 ; actual : 3\n",
            "At index = 12117 ; predicted : 7 ; actual : 9\n",
            "At index = 12122 ; predicted : 8 ; actual : 6\n",
            "At index = 12127 ; predicted : 4 ; actual : 6\n",
            "At index = 12137 ; predicted : 6 ; actual : 9\n",
            "At index = 12141 ; predicted : 9 ; actual : 6\n",
            "At index = 12155 ; predicted : 7 ; actual : 3\n",
            "At index = 12159 ; predicted : 8 ; actual : 9\n",
            "At index = 12163 ; predicted : 8 ; actual : 9\n",
            "At index = 12164 ; predicted : 1 ; actual : 5\n",
            "At index = 12165 ; predicted : 1 ; actual : 6\n",
            "At index = 12166 ; predicted : 6 ; actual : 9\n",
            "At index = 12168 ; predicted : 4 ; actual : 2\n",
            "At index = 12172 ; predicted : 8 ; actual : 1\n",
            "At index = 12186 ; predicted : 3 ; actual : 7\n",
            "At index = 12188 ; predicted : 8 ; actual : 9\n",
            "At index = 12189 ; predicted : 6 ; actual : 3\n",
            "At index = 12204 ; predicted : 1 ; actual : 2\n",
            "At index = 12205 ; predicted : 3 ; actual : 7\n",
            "At index = 12207 ; predicted : 8 ; actual : 0\n",
            "At index = 12214 ; predicted : 6 ; actual : 9\n",
            "At index = 12217 ; predicted : 2 ; actual : 6\n",
            "At index = 12221 ; predicted : 2 ; actual : 9\n",
            "At index = 12241 ; predicted : 1 ; actual : 9\n",
            "At index = 12248 ; predicted : 4 ; actual : 9\n",
            "At index = 12254 ; predicted : 9 ; actual : 0\n",
            "At index = 12260 ; predicted : 5 ; actual : 3\n",
            "At index = 12263 ; predicted : 6 ; actual : 9\n",
            "At index = 12264 ; predicted : 0 ; actual : 9\n",
            "At index = 12266 ; predicted : 2 ; actual : 3\n",
            "At index = 12270 ; predicted : 8 ; actual : 9\n",
            "At index = 12271 ; predicted : 7 ; actual : 2\n",
            "At index = 12275 ; predicted : 2 ; actual : 9\n",
            "At index = 12279 ; predicted : 5 ; actual : 9\n",
            "At index = 12282 ; predicted : 4 ; actual : 9\n",
            "At index = 12285 ; predicted : 7 ; actual : 9\n",
            "At index = 12289 ; predicted : 7 ; actual : 9\n",
            "At index = 12298 ; predicted : 6 ; actual : 3\n",
            "At index = 12302 ; predicted : 7 ; actual : 9\n",
            "At index = 12305 ; predicted : 3 ; actual : 9\n",
            "At index = 12309 ; predicted : 7 ; actual : 1\n",
            "At index = 12310 ; predicted : 1 ; actual : 9\n",
            "At index = 12314 ; predicted : 6 ; actual : 4\n",
            "At index = 12326 ; predicted : 6 ; actual : 9\n",
            "At index = 12329 ; predicted : 2 ; actual : 9\n",
            "At index = 12330 ; predicted : 9 ; actual : 5\n",
            "At index = 12335 ; predicted : 3 ; actual : 9\n",
            "At index = 12338 ; predicted : 8 ; actual : 9\n",
            "At index = 12354 ; predicted : 6 ; actual : 9\n",
            "At index = 12355 ; predicted : 5 ; actual : 3\n",
            "At index = 12361 ; predicted : 5 ; actual : 9\n",
            "At index = 12364 ; predicted : 6 ; actual : 9\n",
            "At index = 12379 ; predicted : 5 ; actual : 9\n",
            "At index = 12387 ; predicted : 3 ; actual : 7\n",
            "At index = 12402 ; predicted : 9 ; actual : 1\n",
            "At index = 12408 ; predicted : 1 ; actual : 9\n",
            "At index = 12410 ; predicted : 7 ; actual : 1\n",
            "At index = 12412 ; predicted : 4 ; actual : 6\n",
            "At index = 12415 ; predicted : 3 ; actual : 9\n",
            "At index = 12418 ; predicted : 4 ; actual : 9\n",
            "At index = 12423 ; predicted : 7 ; actual : 9\n",
            "At index = 12424 ; predicted : 9 ; actual : 4\n",
            "At index = 12427 ; predicted : 5 ; actual : 9\n",
            "At index = 12430 ; predicted : 3 ; actual : 7\n",
            "At index = 12446 ; predicted : 1 ; actual : 6\n",
            "At index = 12447 ; predicted : 7 ; actual : 9\n",
            "At index = 12452 ; predicted : 6 ; actual : 9\n",
            "At index = 12454 ; predicted : 4 ; actual : 9\n",
            "At index = 12457 ; predicted : 1 ; actual : 9\n",
            "At index = 12459 ; predicted : 7 ; actual : 1\n",
            "At index = 12462 ; predicted : 2 ; actual : 4\n",
            "At index = 12463 ; predicted : 4 ; actual : 9\n",
            "At index = 12464 ; predicted : 6 ; actual : 9\n",
            "At index = 12470 ; predicted : 6 ; actual : 9\n",
            "At index = 12481 ; predicted : 2 ; actual : 9\n",
            "At index = 12503 ; predicted : 2 ; actual : 4\n",
            "At index = 12504 ; predicted : 8 ; actual : 6\n",
            "At index = 12517 ; predicted : 6 ; actual : 9\n",
            "At index = 12520 ; predicted : 1 ; actual : 0\n",
            "At index = 12527 ; predicted : 7 ; actual : 1\n",
            "At index = 12528 ; predicted : 2 ; actual : 9\n",
            "At index = 12535 ; predicted : 5 ; actual : 3\n",
            "At index = 12538 ; predicted : 5 ; actual : 4\n",
            "At index = 12539 ; predicted : 4 ; actual : 9\n",
            "At index = 12543 ; predicted : 8 ; actual : 4\n",
            "At index = 12549 ; predicted : 2 ; actual : 9\n",
            "At index = 12558 ; predicted : 7 ; actual : 9\n",
            "At index = 12573 ; predicted : 6 ; actual : 2\n",
            "At index = 12578 ; predicted : 5 ; actual : 9\n",
            "At index = 12589 ; predicted : 2 ; actual : 6\n",
            "At index = 12596 ; predicted : 2 ; actual : 5\n",
            "At index = 12603 ; predicted : 1 ; actual : 2\n",
            "At index = 12617 ; predicted : 5 ; actual : 9\n",
            "At index = 12632 ; predicted : 9 ; actual : 3\n",
            "At index = 12634 ; predicted : 3 ; actual : 7\n",
            "At index = 12663 ; predicted : 6 ; actual : 5\n",
            "At index = 12673 ; predicted : 1 ; actual : 9\n",
            "At index = 12675 ; predicted : 1 ; actual : 9\n",
            "At index = 12683 ; predicted : 7 ; actual : 9\n",
            "At index = 12685 ; predicted : 3 ; actual : 7\n",
            "At index = 12687 ; predicted : 4 ; actual : 9\n",
            "At index = 12690 ; predicted : 1 ; actual : 2\n",
            "At index = 12692 ; predicted : 3 ; actual : 7\n",
            "At index = 12698 ; predicted : 5 ; actual : 6\n",
            "At index = 12706 ; predicted : 2 ; actual : 9\n",
            "At index = 12707 ; predicted : 1 ; actual : 3\n",
            "At index = 12709 ; predicted : 6 ; actual : 9\n",
            "At index = 12712 ; predicted : 2 ; actual : 8\n",
            "At index = 12720 ; predicted : 7 ; actual : 3\n",
            "At index = 12722 ; predicted : 6 ; actual : 9\n",
            "At index = 12727 ; predicted : 4 ; actual : 9\n",
            "At index = 12730 ; predicted : 2 ; actual : 9\n",
            "At index = 12736 ; predicted : 7 ; actual : 9\n",
            "At index = 12738 ; predicted : 8 ; actual : 2\n",
            "At index = 12742 ; predicted : 1 ; actual : 3\n",
            "At index = 12745 ; predicted : 2 ; actual : 6\n",
            "At index = 12752 ; predicted : 6 ; actual : 9\n",
            "At index = 12754 ; predicted : 6 ; actual : 9\n",
            "At index = 12756 ; predicted : 6 ; actual : 9\n",
            "At index = 12763 ; predicted : 4 ; actual : 6\n",
            "At index = 12768 ; predicted : 1 ; actual : 8\n"
          ]
        }
      ],
      "source": [
        "j=0\n",
        "for i in range(len(labels_10)):\n",
        "    if labels_10[i]==new_test[i]:\n",
        "        j+=1\n",
        "    else:\n",
        "        print(f'At index = {i} ; predicted : {labels_10[i]} ; actual : {new_test[i]}')\n",
        "# print(j/len(labels_10))"
      ]
    },
    {
      "cell_type": "code",
      "execution_count": null,
      "id": "896b9d70-4347-432a-b5ce-b8ad302681ef",
      "metadata": {
        "colab": {
          "base_uri": "https://localhost:8080/"
        },
        "id": "896b9d70-4347-432a-b5ce-b8ad302681ef",
        "outputId": "971eedb9-eecb-4b1d-fdc7-21481126a1b1"
      },
      "outputs": [
        {
          "output_type": "execute_result",
          "data": {
            "text/plain": [
              "12780"
            ]
          },
          "metadata": {},
          "execution_count": 62
        }
      ],
      "source": [
        "len(new_test)"
      ]
    },
    {
      "cell_type": "code",
      "execution_count": null,
      "id": "b2acb4af-d9ee-404b-b4a6-1d99c4ab6d65",
      "metadata": {
        "id": "b2acb4af-d9ee-404b-b4a6-1d99c4ab6d65"
      },
      "outputs": [],
      "source": []
    },
    {
      "cell_type": "code",
      "execution_count": null,
      "id": "3ac53a71-1218-4abd-9046-666b40d9d08f",
      "metadata": {
        "id": "3ac53a71-1218-4abd-9046-666b40d9d08f"
      },
      "outputs": [],
      "source": []
    },
    {
      "cell_type": "code",
      "execution_count": null,
      "id": "1248d53e-c871-4a77-9235-802f102275ad",
      "metadata": {
        "id": "1248d53e-c871-4a77-9235-802f102275ad"
      },
      "outputs": [],
      "source": []
    },
    {
      "cell_type": "code",
      "execution_count": null,
      "id": "0a599481-d31f-4afc-adcd-f4767a66a03d",
      "metadata": {
        "id": "0a599481-d31f-4afc-adcd-f4767a66a03d"
      },
      "outputs": [],
      "source": [
        "# 0,1,(2->9),(3->2),(4->3),(5->9),(6->4),(7->5),(8->6),(9->7),(10->8),(11->9)"
      ]
    },
    {
      "cell_type": "code",
      "execution_count": null,
      "id": "f15a66d2-18b4-4207-9ee7-7693dbd3ee84",
      "metadata": {
        "id": "f15a66d2-18b4-4207-9ee7-7693dbd3ee84"
      },
      "outputs": [],
      "source": []
    },
    {
      "cell_type": "code",
      "execution_count": null,
      "id": "c47e7297-3ff8-469d-8fe0-f2e410a6e866",
      "metadata": {
        "id": "c47e7297-3ff8-469d-8fe0-f2e410a6e866"
      },
      "outputs": [],
      "source": [
        "pred_max_10 = np.max(bum_10_cpy,axis=1)\n",
        "pred_max_12 = np.max(bum_12_cpy,axis=1)"
      ]
    },
    {
      "cell_type": "code",
      "execution_count": null,
      "id": "4db82cdd-30fa-4090-b516-cef9fe33cd56",
      "metadata": {
        "colab": {
          "base_uri": "https://localhost:8080/"
        },
        "id": "4db82cdd-30fa-4090-b516-cef9fe33cd56",
        "outputId": "dff2ec59-7105-41a4-ca98-769a7ecca4b1"
      },
      "outputs": [
        {
          "output_type": "execute_result",
          "data": {
            "text/plain": [
              "(12780,)"
            ]
          },
          "metadata": {},
          "execution_count": 65
        }
      ],
      "source": [
        "pred_max_12.shape"
      ]
    },
    {
      "cell_type": "code",
      "execution_count": null,
      "id": "0eb408d2-39bc-42fc-b20a-f0de40d81ff2",
      "metadata": {
        "colab": {
          "base_uri": "https://localhost:8080/"
        },
        "id": "0eb408d2-39bc-42fc-b20a-f0de40d81ff2",
        "outputId": "9f6d2ab2-8b65-4dad-eeb4-1e1814113522"
      },
      "outputs": [
        {
          "output_type": "execute_result",
          "data": {
            "text/plain": [
              "np.int64(1)"
            ]
          },
          "metadata": {},
          "execution_count": 66
        }
      ],
      "source": [
        "np.argmax(np.array([2,9,6,3,4,5,1,0]))"
      ]
    },
    {
      "cell_type": "code",
      "execution_count": null,
      "id": "9de0b7e0-d3fb-4d01-b260-e01084ed8b6a",
      "metadata": {
        "id": "9de0b7e0-d3fb-4d01-b260-e01084ed8b6a"
      },
      "outputs": [],
      "source": []
    },
    {
      "cell_type": "code",
      "execution_count": null,
      "id": "e3322e8e-226b-4d57-b922-aa87c7338a67",
      "metadata": {
        "id": "e3322e8e-226b-4d57-b922-aa87c7338a67"
      },
      "outputs": [],
      "source": []
    },
    {
      "cell_type": "code",
      "execution_count": null,
      "id": "cdc550e8-b247-4df7-9876-d44c77a9f994",
      "metadata": {
        "id": "cdc550e8-b247-4df7-9876-d44c77a9f994"
      },
      "outputs": [],
      "source": []
    },
    {
      "cell_type": "code",
      "execution_count": null,
      "id": "62123496-188f-4b5e-ad3b-3ea11391c4ce",
      "metadata": {
        "id": "62123496-188f-4b5e-ad3b-3ea11391c4ce"
      },
      "outputs": [],
      "source": []
    },
    {
      "cell_type": "code",
      "execution_count": null,
      "id": "3a5e283d-2272-471d-bcd5-f5ce83069972",
      "metadata": {
        "id": "3a5e283d-2272-471d-bcd5-f5ce83069972"
      },
      "outputs": [],
      "source": []
    },
    {
      "cell_type": "code",
      "execution_count": null,
      "id": "d3980185-3d39-41ac-89d3-e07526e1a6ec",
      "metadata": {
        "colab": {
          "base_uri": "https://localhost:8080/"
        },
        "id": "d3980185-3d39-41ac-89d3-e07526e1a6ec",
        "outputId": "25579275-f2a2-43d7-e134-5620fc23ca9b"
      },
      "outputs": [
        {
          "output_type": "execute_result",
          "data": {
            "text/plain": [
              "(2, 5, 11)"
            ]
          },
          "metadata": {},
          "execution_count": 67
        }
      ],
      "source": [
        "(2,5,11)"
      ]
    },
    {
      "cell_type": "code",
      "execution_count": null,
      "id": "ccb7e4b9-6efa-43ac-ba0f-1f8c1151ba71",
      "metadata": {
        "id": "ccb7e4b9-6efa-43ac-ba0f-1f8c1151ba71"
      },
      "outputs": [],
      "source": []
    },
    {
      "cell_type": "code",
      "execution_count": null,
      "id": "76137a46",
      "metadata": {
        "colab": {
          "base_uri": "https://localhost:8080/",
          "height": 225
        },
        "id": "76137a46",
        "outputId": "22a3c4d6-2cb5-44d6-d040-f6a7d1749a13"
      },
      "outputs": [
        {
          "output_type": "error",
          "ename": "NameError",
          "evalue": "name 'model' is not defined",
          "traceback": [
            "\u001b[0;31m---------------------------------------------------------------------------\u001b[0m",
            "\u001b[0;31mNameError\u001b[0m                                 Traceback (most recent call last)",
            "\u001b[0;32m<ipython-input-68-add0f7a70ca8>\u001b[0m in \u001b[0;36m<cell line: 0>\u001b[0;34m()\u001b[0m\n\u001b[1;32m      6\u001b[0m \u001b[0;34m\u001b[0m\u001b[0m\n\u001b[1;32m      7\u001b[0m \u001b[0;31m# Prediction\u001b[0m\u001b[0;34m\u001b[0m\u001b[0;34m\u001b[0m\u001b[0m\n\u001b[0;32m----> 8\u001b[0;31m \u001b[0my_pred\u001b[0m \u001b[0;34m=\u001b[0m \u001b[0mmodel\u001b[0m\u001b[0;34m.\u001b[0m\u001b[0mpredict\u001b[0m\u001b[0;34m(\u001b[0m\u001b[0mX_test\u001b[0m\u001b[0;34m)\u001b[0m\u001b[0;34m\u001b[0m\u001b[0;34m\u001b[0m\u001b[0m\n\u001b[0m\u001b[1;32m      9\u001b[0m \u001b[0mtest_accuracy\u001b[0m \u001b[0;34m=\u001b[0m \u001b[0maccuracy_score\u001b[0m\u001b[0;34m(\u001b[0m\u001b[0my_test\u001b[0m\u001b[0;34m,\u001b[0m \u001b[0my_pred\u001b[0m\u001b[0;34m)\u001b[0m\u001b[0;34m\u001b[0m\u001b[0;34m\u001b[0m\u001b[0m\n\u001b[1;32m     10\u001b[0m \u001b[0mprint\u001b[0m\u001b[0;34m(\u001b[0m\u001b[0;34mf\"✅ Test set accuracy for this model is : {test_accuracy:.2f}\"\u001b[0m\u001b[0;34m)\u001b[0m\u001b[0;34m\u001b[0m\u001b[0;34m\u001b[0m\u001b[0m\n",
            "\u001b[0;31mNameError\u001b[0m: name 'model' is not defined"
          ]
        }
      ],
      "source": [
        "\n",
        "# ✅ Model Evaluation\n",
        "\n",
        "from sklearn.metrics import accuracy_score, classification_report, confusion_matrix, ConfusionMatrixDisplay\n",
        "import seaborn as sns\n",
        "import matplotlib.pyplot as plt\n",
        "\n",
        "# Prediction\n",
        "y_pred = model.predict(X_test)\n",
        "test_accuracy = accuracy_score(y_test, y_pred)\n",
        "print(f\"✅ Test set accuracy for this model is : {test_accuracy:.2f}\")\n",
        "\n",
        "# Classification report\n",
        "print(classification_report(y_test, y_pred, target_names=cat_12))\n",
        "\n",
        "# Confusion Matrix\n",
        "cm = confusion_matrix(y_test, y_pred, labels=cat_12_num)\n",
        "disp = ConfusionMatrixDisplay(confusion_matrix=cm, display_labels=cat_12)\n",
        "disp.plot(xticks_rotation=45, cmap='Blues')\n",
        "plt.title(\"Confusion Matrix\")\n",
        "plt.show()\n"
      ]
    },
    {
      "source": [
        "# ✅ Model Evaluation\n",
        "import numpy as np\n",
        "from sklearn.metrics import accuracy_score, classification_report, confusion_matrix, ConfusionMatrixDisplay\n",
        "import seaborn as sns\n",
        "import matplotlib.pyplot as plt\n",
        "\n",
        "# Assuming 'final' from previous cells holds the predicted probabilities\n",
        "# and you want to get predicted labels\n",
        "y_pred = np.argmax(final, axis=1)  # Get predicted labels from probabilities\n",
        "\n",
        "test_accuracy = accuracy_score(y_test, y_pred)\n",
        "print(f\"✅ Test set accuracy for this model is : {test_accuracy:.2f}\")\n",
        "\n",
        "# Classification report\n",
        "# Assuming 'cat_12' and 'cat_12_num' are defined in previous cells\n",
        "# If not, replace them with the appropriate variables or lists\n",
        "#print(classification_report(y_test, y_pred, target_names=cat_12)) # Commented out as cat_12 and cat_12_num are not defined\n",
        "\n",
        "# Confusion Matrix\n",
        "#cm = confusion_matrix(y_test, y_pred, labels=cat_12_num) # Commented out as cat_12_num is not defined\n",
        "#disp = ConfusionMatrixDisplay(confusion_matrix=cm, display_labels=cat_12) # Commented out as cat_12 and cat_12_num are not defined\n",
        "#disp.plot(xticks_rotation=45, cmap='Blues') # Commented out as cat_12 and cat_12_num are not defined\n",
        "#plt.title(\"Confusion Matrix\") # Commented out as cat_12 and cat_12_num are not defined\n",
        "#plt.show() # Commented out as cat_12 and cat_12_num are not defined"
      ],
      "cell_type": "code",
      "metadata": {
        "colab": {
          "base_uri": "https://localhost:8080/"
        },
        "id": "cki9j97S-mio",
        "outputId": "c47bdf09-29dc-4ae9-f3aa-fc4f74769d69"
      },
      "id": "cki9j97S-mio",
      "execution_count": null,
      "outputs": [
        {
          "output_type": "stream",
          "name": "stdout",
          "text": [
            "✅ Test set accuracy for this model is : 0.90\n"
          ]
        }
      ]
    },
    {
      "source": [
        "# ✅ Model Evaluation\n",
        "import numpy as np\n",
        "from sklearn.metrics import accuracy_score, classification_report, confusion_matrix, ConfusionMatrixDisplay\n",
        "import seaborn as sns\n",
        "import matplotlib.pyplot as plt\n",
        "\n",
        "# Assuming 'final' from previous cells holds the predicted probabilities\n",
        "# and you want to get predicted labels\n",
        "y_pred = np.argmax(final, axis=1)  # Get predicted labels from probabilities\n",
        "\n",
        "test_accuracy = accuracy_score(y_test, y_pred)\n",
        "print(f\"✅ Test set accuracy for this model is : {test_accuracy:.2f}\")\n",
        "\n",
        "# Classification report\n",
        "# Assuming 'cat_12' and 'cat_12_num' are defined in previous cells\n",
        "# If not, replace them with the appropriate variables or lists\n",
        "# Define cat_12 and cat_12_num (replace with your actual class names and labels)\n",
        "cat_12 = ['class_0', 'class_1', 'class_2', 'class_3', 'class_4', 'class_5',\n",
        "          'class_6', 'class_7', 'class_8', 'class_9', 'class_10', 'class_11']\n",
        "cat_12_num = [0, 1, 2, 3, 4, 5, 6, 7, 8, 9, 10, 11]\n",
        "\n",
        "print(classification_report(y_test, y_pred, target_names=cat_12))\n",
        "\n",
        "# Confusion Matrix\n",
        "cm = confusion_matrix(y_test, y_pred, labels=cat_12_num)\n",
        "disp = ConfusionMatrixDisplay(confusion_matrix=cm, display_labels=cat_12)\n",
        "disp.plot(xticks_rotation=45, cmap='Blues')\n",
        "plt.title(\"Confusion Matrix\")\n",
        "plt.show()"
      ],
      "cell_type": "code",
      "metadata": {
        "id": "WgHZzT2w_GOX",
        "outputId": "36d93073-5d19-4e69-d1d9-1a0132792deb",
        "colab": {
          "base_uri": "https://localhost:8080/",
          "height": 887
        }
      },
      "id": "WgHZzT2w_GOX",
      "execution_count": null,
      "outputs": [
        {
          "output_type": "stream",
          "name": "stdout",
          "text": [
            "✅ Test set accuracy for this model is : 0.90\n",
            "              precision    recall  f1-score   support\n",
            "\n",
            "     class_0       0.96      0.95      0.95      1067\n",
            "     class_1       0.82      0.96      0.88      1039\n",
            "     class_2       0.90      0.93      0.91      1042\n",
            "     class_3       0.87      0.92      0.90      1092\n",
            "     class_4       0.88      0.74      0.81      1040\n",
            "     class_5       0.91      0.88      0.90      1049\n",
            "     class_6       0.91      0.92      0.91      1107\n",
            "     class_7       0.88      0.92      0.90      1054\n",
            "     class_8       0.87      0.90      0.89      1054\n",
            "     class_9       0.91      0.82      0.87      1071\n",
            "    class_10       0.92      0.96      0.94      1144\n",
            "    class_11       0.95      0.86      0.90      1021\n",
            "\n",
            "    accuracy                           0.90     12780\n",
            "   macro avg       0.90      0.90      0.90     12780\n",
            "weighted avg       0.90      0.90      0.90     12780\n",
            "\n"
          ]
        },
        {
          "output_type": "display_data",
          "data": {
            "text/plain": [
              "<Figure size 640x480 with 2 Axes>"
            ],
            "image/png": "[encoded data removed]"
          },
          "metadata": {}
        }
      ]
    },
    {
      "source": [
        "# ✅ Model Evaluation\n",
        "import numpy as np\n",
        "from sklearn.metrics import accuracy_score, classification_report, confusion_matrix, ConfusionMatrixDisplay\n",
        "import seaborn as sns\n",
        "import matplotlib.pyplot as plt\n",
        "\n",
        "# Assuming 'final' from previous cells holds the predicted probabilities\n",
        "# and you want to get predicted labels\n",
        "y_pred = np.argmax(final, axis=1)  # Get predicted labels from probabilities\n",
        "\n",
        "test_accuracy = accuracy_score(y_test, y_pred)\n",
        "print(f\"✅ Test set accuracy for this model is : {test_accuracy:.2f}\")\n",
        "\n",
        "# Classification report\n",
        "# Assuming 'cat_12' and 'cat_12_num' are defined in previous cells\n",
        "# If not, replace them with the appropriate variables or lists\n",
        "print(classification_report(y_test, y_pred, target_names=cat_12))\n",
        "\n",
        "# Confusion Matrix\n",
        "cm = confusion_matrix(y_test, y_pred, labels=cat_12_num)\n",
        "disp = ConfusionMatrixDisplay(confusion_matrix=cm, display_labels=cat_12)\n",
        "disp.plot(xticks_rotation=45, cmap='Blues')\n",
        "plt.title(\"Confusion Matrix\")\n",
        "plt.show()"
      ],
      "cell_type": "code",
      "metadata": {
        "colab": {
          "base_uri": "https://localhost:8080/",
          "height": 419
        },
        "id": "evKhB2ol0Kj6",
        "outputId": "2200771a-a023-4ca1-ca33-88a8db639387"
      },
      "id": "evKhB2ol0Kj6",
      "execution_count": null,
      "outputs": [
        {
          "output_type": "stream",
          "name": "stdout",
          "text": [
            "✅ Test set accuracy for this model is : 0.90\n"
          ]
        },
        {
          "output_type": "error",
          "ename": "ValueError",
          "evalue": "Number of classes, 12, does not match size of target_names, 12780. Try specifying the labels parameter",
          "traceback": [
            "\u001b[0;31m---------------------------------------------------------------------------\u001b[0m",
            "\u001b[0;31mValueError\u001b[0m                                Traceback (most recent call last)",
            "\u001b[0;32m<ipython-input-72-0857bc3048e6>\u001b[0m in \u001b[0;36m<cell line: 0>\u001b[0;34m()\u001b[0m\n\u001b[1;32m     15\u001b[0m \u001b[0;31m# Assuming 'cat_12' and 'cat_12_num' are defined in previous cells\u001b[0m\u001b[0;34m\u001b[0m\u001b[0;34m\u001b[0m\u001b[0m\n\u001b[1;32m     16\u001b[0m \u001b[0;31m# If not, replace them with the appropriate variables or lists\u001b[0m\u001b[0;34m\u001b[0m\u001b[0;34m\u001b[0m\u001b[0m\n\u001b[0;32m---> 17\u001b[0;31m \u001b[0mprint\u001b[0m\u001b[0;34m(\u001b[0m\u001b[0mclassification_report\u001b[0m\u001b[0;34m(\u001b[0m\u001b[0my_test\u001b[0m\u001b[0;34m,\u001b[0m \u001b[0my_pred\u001b[0m\u001b[0;34m,\u001b[0m \u001b[0mtarget_names\u001b[0m\u001b[0;34m=\u001b[0m\u001b[0mlabels_12\u001b[0m\u001b[0;34m)\u001b[0m\u001b[0;34m)\u001b[0m\u001b[0;34m\u001b[0m\u001b[0;34m\u001b[0m\u001b[0m\n\u001b[0m\u001b[1;32m     18\u001b[0m \u001b[0;34m\u001b[0m\u001b[0m\n\u001b[1;32m     19\u001b[0m \u001b[0;31m# Confusion Matrix\u001b[0m\u001b[0;34m\u001b[0m\u001b[0;34m\u001b[0m\u001b[0m\n",
            "\u001b[0;32m/usr/local/lib/python3.11/dist-packages/sklearn/utils/_param_validation.py\u001b[0m in \u001b[0;36mwrapper\u001b[0;34m(*args, **kwargs)\u001b[0m\n\u001b[1;32m    214\u001b[0m                     )\n\u001b[1;32m    215\u001b[0m                 ):\n\u001b[0;32m--> 216\u001b[0;31m                     \u001b[0;32mreturn\u001b[0m \u001b[0mfunc\u001b[0m\u001b[0;34m(\u001b[0m\u001b[0;34m*\u001b[0m\u001b[0margs\u001b[0m\u001b[0;34m,\u001b[0m \u001b[0;34m**\u001b[0m\u001b[0mkwargs\u001b[0m\u001b[0;34m)\u001b[0m\u001b[0;34m\u001b[0m\u001b[0;34m\u001b[0m\u001b[0m\n\u001b[0m\u001b[1;32m    217\u001b[0m             \u001b[0;32mexcept\u001b[0m \u001b[0mInvalidParameterError\u001b[0m \u001b[0;32mas\u001b[0m \u001b[0me\u001b[0m\u001b[0;34m:\u001b[0m\u001b[0;34m\u001b[0m\u001b[0;34m\u001b[0m\u001b[0m\n\u001b[1;32m    218\u001b[0m                 \u001b[0;31m# When the function is just a wrapper around an estimator, we allow\u001b[0m\u001b[0;34m\u001b[0m\u001b[0;34m\u001b[0m\u001b[0m\n",
            "\u001b[0;32m/usr/local/lib/python3.11/dist-packages/sklearn/metrics/_classification.py\u001b[0m in \u001b[0;36mclassification_report\u001b[0;34m(y_true, y_pred, labels, target_names, sample_weight, digits, output_dict, zero_division)\u001b[0m\n\u001b[1;32m   2691\u001b[0m             )\n\u001b[1;32m   2692\u001b[0m         \u001b[0;32melse\u001b[0m\u001b[0;34m:\u001b[0m\u001b[0;34m\u001b[0m\u001b[0;34m\u001b[0m\u001b[0m\n\u001b[0;32m-> 2693\u001b[0;31m             raise ValueError(\n\u001b[0m\u001b[1;32m   2694\u001b[0m                 \u001b[0;34m\"Number of classes, {0}, does not match size of \"\u001b[0m\u001b[0;34m\u001b[0m\u001b[0;34m\u001b[0m\u001b[0m\n\u001b[1;32m   2695\u001b[0m                 \u001b[0;34m\"target_names, {1}. Try specifying the labels \"\u001b[0m\u001b[0;34m\u001b[0m\u001b[0;34m\u001b[0m\u001b[0m\n",
            "\u001b[0;31mValueError\u001b[0m: Number of classes, 12, does not match size of target_names, 12780. Try specifying the labels parameter"
          ]
        }
      ]
    },
    {
      "cell_type": "code",
      "execution_count": 1,
      "id": "356cc281",
      "metadata": {
        "id": "356cc281"
      },
      "outputs": [],
      "source": [
        "\n",
        "# ✅ Feature Correlation Matrix\n",
        "if isinstance(X_test, pd.DataFrame):\n",
        "    plt.figure(figsize=(12, 8))\n",
        "    sns.heatmap(X_test.corr(), annot=True, fmt=\".2f\", cmap=\"coolwarm\", square=True)\n",
        "    plt.title(\"Feature Correlation Matrix\")\n",
        "    plt.show()\n",
        "else:\n",
        "    print(\"❗X_test is not a DataFrame. Cannot compute feature correlation matrix.\")\n"
      ]
    },
    {
      "cell_type": "code",
      "source": [],
      "metadata": {
        "id": "aPCBfdde-bv_"
      },
      "id": "aPCBfdde-bv_",
      "execution_count": null,
      "outputs": []
    }
  ],
  "metadata": {
    "kernelspec": {
      "display_name": "Python 3",
      "name": "python3"
    },
    "language_info": {
      "codemirror_mode": {
        "name": "ipython",
        "version": 3
      },
      "file_extension": ".py",
      "mimetype": "text/x-python",
      "name": "python",
      "nbconvert_exporter": "python",
      "pygments_lexer": "ipython3",
      "version": "3.12.4"
    },
    "colab": {
      "provenance": [],
      "gpuType": "T4"
    },
    "accelerator": "GPU"
  },
  "nbformat": 4,
  "nbformat_minor": 5
}